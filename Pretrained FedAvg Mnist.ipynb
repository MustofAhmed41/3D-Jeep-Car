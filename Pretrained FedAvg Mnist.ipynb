{
  "nbformat": 4,
  "nbformat_minor": 0,
  "metadata": {
    "colab": {
      "provenance": [],
      "authorship_tag": "ABX9TyMdVWAEO86ZGuMwMb8oErC9",
      "include_colab_link": true
    },
    "kernelspec": {
      "name": "python3",
      "display_name": "Python 3"
    },
    "language_info": {
      "name": "python"
    }
  },
  "cells": [
    {
      "cell_type": "markdown",
      "metadata": {
        "id": "view-in-github",
        "colab_type": "text"
      },
      "source": [
        "<a href=\"https://colab.research.google.com/github/MustofAhmed41/3D-Jeep-Car/blob/main/Pretrained%20FedAvg%20Mnist.ipynb\" target=\"_parent\"><img src=\"https://colab.research.google.com/assets/colab-badge.svg\" alt=\"Open In Colab\"/></a>"
      ]
    },
    {
      "cell_type": "code",
      "execution_count": 15,
      "metadata": {
        "id": "z6O6bP1gQAqb"
      },
      "outputs": [],
      "source": [
        "import os\n",
        "import json\n",
        "import random\n",
        "\n",
        "import numpy as np\n",
        "import pandas as pd\n",
        "import matplotlib.pyplot as plt\n",
        "\n",
        "from sklearn.utils import shuffle\n",
        "import tensorflow as tf\n",
        "from tensorflow import keras\n",
        "from tensorflow.keras import layers, models"
      ]
    },
    {
      "cell_type": "code",
      "source": [
        "tf.random.set_seed(42)\n",
        "np.random.seed(42)\n",
        "\n",
        "layers_shape = []\n",
        "global_loss = []\n",
        "global_accuracy = []\n",
        "\n",
        "comm_rounds = 3\n",
        "local_epoch = 1\n",
        "local_batch_size = 32\n",
        "clients_size = 2\n",
        "num_of_classes = 10\n",
        "pre_train_epoch = 1"
      ],
      "metadata": {
        "id": "9vDQ4rLyvRWA"
      },
      "execution_count": 16,
      "outputs": []
    },
    {
      "cell_type": "code",
      "source": [
        "from tensorflow.keras.datasets import mnist\n",
        "\n",
        "import numpy as np\n",
        "\n",
        "# Load the MNIST data\n",
        "(train_images, train_labels), (test_images, test_labels) = mnist.load_data()\n",
        "train_images = train_images.reshape((60000, 784)).astype('float64') / 255\n",
        "test_images = test_images.reshape((10000, 784)).astype('float64') / 255\n",
        "# Create a list to hold the data for each client\n",
        "clients_data = [[] for _ in range(clients_size)]\n",
        "\n",
        "# Shuffle the dataset\n",
        "indices = np.random.permutation(len(train_images))\n",
        "shuffled_images = train_images[indices]\n",
        "shuffled_labels = train_labels[indices]\n",
        "\n",
        "# Partition the data equally among n clients\n",
        "for i in range(len(shuffled_images)):\n",
        "    label = shuffled_labels[i]\n",
        "    client_idx = i % clients_size  # Distribute evenly among n clients\n",
        "    clients_data[client_idx].append((shuffled_images[i], label))\n",
        "\n",
        "# Convert the list of lists to numpy arrays\n",
        "clients_data = [np.array(client_data) for client_data in clients_data]\n",
        "\n",
        "# Verify that all clients have an equal number of labels for all 10 digits\n",
        "for i, client_data in enumerate(clients_data):\n",
        "    labels, counts = np.unique(client_data[:, 1], return_counts=True)\n",
        "    print(f\"Client {i} label distribution: {dict(zip(labels, counts))}\")\n"
      ],
      "metadata": {
        "colab": {
          "base_uri": "https://localhost:8080/"
        },
        "id": "LbfExsNDTFum",
        "outputId": "9d25b8a3-d563-42be-9c09-7b172452b477"
      },
      "execution_count": 17,
      "outputs": [
        {
          "output_type": "stream",
          "name": "stdout",
          "text": [
            "Client 0 label distribution: {0: 2984, 1: 3367, 2: 2929, 3: 3069, 4: 2858, 5: 2727, 6: 2989, 7: 3119, 8: 2984, 9: 2974}\n",
            "Client 1 label distribution: {0: 2939, 1: 3375, 2: 3029, 3: 3062, 4: 2984, 5: 2694, 6: 2929, 7: 3146, 8: 2867, 9: 2975}\n"
          ]
        },
        {
          "output_type": "stream",
          "name": "stderr",
          "text": [
            "<ipython-input-17-6f7b482f897c>:24: VisibleDeprecationWarning: Creating an ndarray from ragged nested sequences (which is a list-or-tuple of lists-or-tuples-or ndarrays with different lengths or shapes) is deprecated. If you meant to do this, you must specify 'dtype=object' when creating the ndarray.\n",
            "  clients_data = [np.array(client_data) for client_data in clients_data]\n"
          ]
        }
      ]
    },
    {
      "cell_type": "code",
      "source": [
        "layer_names_lst = [\"layer_1_\", \"layer_2_\", \"layer_3_\"]\n",
        "model_names_lst = []\n",
        "weights_biases = [\"weights.csv\", \"biases.csv\"]\n",
        "\n",
        "for i in range(1, len(clients_data)+1):\n",
        "  model = \"model_\" + str(i) + \"_\"\n",
        "  model_names_lst.append(model)\n",
        "\n",
        "print(layer_names_lst)\n",
        "print(model_names_lst)"
      ],
      "metadata": {
        "colab": {
          "base_uri": "https://localhost:8080/"
        },
        "id": "yF93MmvwvvDP",
        "outputId": "90cdee18-83b9-4215-8a33-75de0464cff1"
      },
      "execution_count": 18,
      "outputs": [
        {
          "output_type": "stream",
          "name": "stdout",
          "text": [
            "['layer_1_', 'layer_2_', 'layer_3_']\n",
            "['model_1_', 'model_2_']\n"
          ]
        }
      ]
    },
    {
      "cell_type": "code",
      "source": [
        "def get_model_weights(layer_name):\n",
        "  weight_file_name = layer_name + \"_weights.csv\"\n",
        "  bias_file_name = layer_name + \"_biases.csv\"\n",
        "  weight = my_array = np.loadtxt(weight_file_name, delimiter=',')\n",
        "  biases = my_array = np.loadtxt(bias_file_name, delimiter=',')\n",
        "  return [weight, biases]"
      ],
      "metadata": {
        "id": "h2BBvPX3b4T6"
      },
      "execution_count": 19,
      "outputs": []
    },
    {
      "cell_type": "code",
      "source": [
        "def fed_avg():\n",
        "  for i,layer_name in enumerate(layer_names_lst):\n",
        "    temp = np.zeros((layers_shape[i][0][0], layers_shape[i][0][1]))\n",
        "    for j, model_name in enumerate(model_names_lst):\n",
        "      file_name  = model_name + layer_name + weights_biases[0]\n",
        "      temp = temp + np.loadtxt(file_name, dtype=np.float64, delimiter=\",\")\n",
        "    temp = temp / clients_size\n",
        "    save_file_name = 'aggregated_' + layer_name + weights_biases[0]\n",
        "    np.savetxt(save_file_name, temp, delimiter=',')\n",
        "\n",
        "  for i,layer_name in enumerate(layer_names_lst):\n",
        "    temp = np.zeros((layers_shape[i][1][0]))\n",
        "    for j, model_name in enumerate(model_names_lst):\n",
        "      file_name  = model_name + layer_name + weights_biases[1]\n",
        "      temp = temp + np.loadtxt(file_name, dtype=np.float64, delimiter=\",\")\n",
        "    temp = temp / clients_size\n",
        "    save_file_name = 'aggregated_' + layer_name + weights_biases[1]\n",
        "    np.savetxt(save_file_name, temp, delimiter=',')"
      ],
      "metadata": {
        "id": "6VYTETNzb73J"
      },
      "execution_count": 20,
      "outputs": []
    },
    {
      "cell_type": "code",
      "source": [
        "def evaluate_global_model():\n",
        "  latest_model = keras.models.Sequential()\n",
        "  latest_model.add(keras.layers.Dense(256, weights=get_model_weights(\"aggregated_layer_1\"),  activation='relu',  input_shape=(784,), name=\"layer_1\"))\n",
        "  latest_model.add(keras.layers.Dense(512, weights=get_model_weights(\"aggregated_layer_2\"),  activation='relu',  name=\"layer_2\"))\n",
        "  latest_model.add(keras.layers.Dense(num_of_classes, weights=get_model_weights(\"aggregated_layer_3\"), activation='softmax',  name=\"layer_3\"))\n",
        "\n",
        "  latest_model.compile(optimizer='adam', loss='sparse_categorical_crossentropy', metrics=['accuracy'])\n",
        "\n",
        "  loss, accuracy = latest_model.evaluate(test_images,  test_labels, verbose=2)\n",
        "  global_loss.append(loss)\n",
        "  global_accuracy.append(accuracy)"
      ],
      "metadata": {
        "id": "PB1FZUL740mT"
      },
      "execution_count": 21,
      "outputs": []
    },
    {
      "cell_type": "code",
      "source": [
        "global_model = models.Sequential()\n",
        "\n",
        "global_model.add(layers.Dense(256, input_shape=(784,),  activation='relu', name=\"layer_1\"))\n",
        "global_model.add(layers.Dense(512, activation='relu', name=\"layer_2\"))\n",
        "global_model.add(layers.Dense(num_of_classes, activation='softmax', name=\"layer_3\"))\n",
        "\n",
        "global_model.compile(optimizer='adam', loss='categorical_crossentropy', metrics=['accuracy'])\n",
        "dataset = tf.data.Dataset.from_tensor_slices((train_images[:5000], tf.keras.utils.to_categorical(train_labels[:5000], num_of_classes))).shuffle(len(train_images)).batch(local_batch_size)\n",
        "\n",
        "global_model.fit(dataset, epochs=pre_train_epoch)\n",
        "loss, accuracy  = global_model.evaluate(test_images,  tf.keras.utils.to_categorical(test_labels, num_of_classes), verbose=2)\n",
        "print(accuracy)"
      ],
      "metadata": {
        "id": "5H6LyGce8-KX",
        "outputId": "584d35ce-8ea8-4108-aac3-16175e74f54c",
        "colab": {
          "base_uri": "https://localhost:8080/"
        }
      },
      "execution_count": 22,
      "outputs": [
        {
          "output_type": "stream",
          "name": "stdout",
          "text": [
            "157/157 [==============================] - 2s 6ms/step - loss: 0.5400 - accuracy: 0.8404\n",
            "313/313 - 1s - loss: 0.2855 - accuracy: 0.9151 - 791ms/epoch - 3ms/step\n",
            "0.9150999784469604\n"
          ]
        }
      ]
    },
    {
      "cell_type": "code",
      "source": [
        "for layer in global_model.layers:\n",
        "  if hasattr(layer, 'weights'):\n",
        "    weights = layer.get_weights()\n",
        "    for i, weight in enumerate(weights):\n",
        "      file_name = \"global_model_\" + str(layer.name)\n",
        "      if i == 0:\n",
        "        file_name = file_name + \"_weights.csv\"\n",
        "        # print(file_name)\n",
        "        np.savetxt(file_name, weight, delimiter=',')\n",
        "      else:\n",
        "        file_name = file_name + \"_biases.csv\"\n",
        "        # print(file_name)\n",
        "        np.savetxt(file_name, weight, delimiter=',')"
      ],
      "metadata": {
        "id": "mytz8e8D9aZr"
      },
      "execution_count": 23,
      "outputs": []
    },
    {
      "cell_type": "code",
      "source": [
        "for k in range(comm_rounds):\n",
        "  print(\"Communication Round \" + str(k))\n",
        "  for j,client_data in enumerate(clients_data):\n",
        "    # Split the data into features (images) and labels\n",
        "    client_images, client_labels = list(client_data[:, 0]), list(client_data[:, 1])\n",
        "\n",
        "    # Convert the labels to one-hot encoding\n",
        "    client_labels = tf.keras.utils.to_categorical(client_labels, num_of_classes)\n",
        "\n",
        "    # Create a TensorFlow Dataset from the NumPy arrays\n",
        "    dataset = tf.data.Dataset.from_tensor_slices((client_images, client_labels)).shuffle(len(client_images)).batch(local_batch_size)\n",
        "\n",
        "    # Define the model architecture\n",
        "    model = models.Sequential()\n",
        "    if k==0:\n",
        "      model.add(layers.Dense(256, weights=get_model_weights(\"global_model_layer_1\"), input_shape=(784,),  activation='relu', name=\"layer_1\"))\n",
        "      model.add(layers.Dense(512, weights=get_model_weights(\"global_model_layer_2\"), activation='relu', name=\"layer_2\"))\n",
        "      model.add(layers.Dense(num_of_classes, weights=get_model_weights(\"global_model_layer_3\"),  activation='softmax', name=\"layer_3\"))\n",
        "    else:\n",
        "      model.add(keras.layers.Dense(256, weights=get_model_weights(\"aggregated_layer_1\"),  activation='relu',  input_shape=(784,), name=\"layer_1\"))\n",
        "      model.add(keras.layers.Dense(512, weights=get_model_weights(\"aggregated_layer_2\"),  activation='relu',  name=\"layer_2\"))\n",
        "      model.add(keras.layers.Dense(num_of_classes, weights=get_model_weights(\"aggregated_layer_3\"), activation='softmax',  name=\"layer_3\"))\n",
        "\n",
        "\n",
        "    # Compile the model\n",
        "    model.compile(optimizer='adam', loss='categorical_crossentropy', metrics=['accuracy'])\n",
        "\n",
        "    # Train the model using the TensorFlow Dataset\n",
        "    print(\"Training Client \" + str(j) + \" in round \" +  str(k))\n",
        "    model.fit(dataset, epochs=local_epoch)\n",
        "\n",
        "    for layer in model.layers:\n",
        "      if hasattr(layer, 'weights'):\n",
        "        weights = layer.get_weights()\n",
        "        for i, weight in enumerate(weights):\n",
        "          file_name = \"model_\" + str(j+1) + \"_\" + str(layer.name)\n",
        "          if i == 0:\n",
        "            file_name = file_name + \"_weights.csv\"\n",
        "            # print(file_name)\n",
        "            np.savetxt(file_name, weight, delimiter=',')\n",
        "          else:\n",
        "            file_name = file_name + \"_biases.csv\"\n",
        "            # print(file_name)\n",
        "            np.savetxt(file_name, weight, delimiter=',')\n",
        "\n",
        "    if k == 0 and j==0:\n",
        "      for layer in model.layers:\n",
        "        if hasattr(layer, 'weights'):\n",
        "          weights = layer.get_weights()\n",
        "          temp = []\n",
        "          for i, weight in enumerate(weights):\n",
        "            temp.append(weight.shape)\n",
        "\n",
        "          layers_shape.append(temp)\n",
        "\n",
        "  fed_avg()\n",
        "  evaluate_global_model()\n"
      ],
      "metadata": {
        "id": "LgysLXF1Y6-3",
        "colab": {
          "base_uri": "https://localhost:8080/"
        },
        "outputId": "83f24629-1c19-43c8-f8f2-4eabf67d9266"
      },
      "execution_count": 24,
      "outputs": [
        {
          "output_type": "stream",
          "name": "stdout",
          "text": [
            "Communication Round 0\n",
            "Training Client 0 in round 0\n",
            "938/938 [==============================] - 7s 7ms/step - loss: 0.1878 - accuracy: 0.9428\n",
            "Training Client 1 in round 0\n",
            "938/938 [==============================] - 6s 6ms/step - loss: 0.1936 - accuracy: 0.9399\n",
            "313/313 - 1s - loss: 0.1058 - accuracy: 0.9664 - 836ms/epoch - 3ms/step\n",
            "Communication Round 1\n",
            "Training Client 0 in round 1\n",
            "938/938 [==============================] - 7s 7ms/step - loss: 0.1137 - accuracy: 0.9655\n",
            "Training Client 1 in round 1\n",
            "938/938 [==============================] - 7s 7ms/step - loss: 0.1164 - accuracy: 0.9636\n",
            "313/313 - 1s - loss: 0.0799 - accuracy: 0.9746 - 859ms/epoch - 3ms/step\n",
            "Communication Round 2\n",
            "Training Client 0 in round 2\n",
            "938/938 [==============================] - 7s 7ms/step - loss: 0.0821 - accuracy: 0.9738\n",
            "Training Client 1 in round 2\n",
            "938/938 [==============================] - 7s 7ms/step - loss: 0.0838 - accuracy: 0.9740\n",
            "313/313 - 1s - loss: 0.0694 - accuracy: 0.9774 - 869ms/epoch - 3ms/step\n"
          ]
        }
      ]
    },
    {
      "cell_type": "code",
      "source": [
        "global_loss = np.array(global_loss)\n",
        "global_accuracy = np.array(global_accuracy)\n",
        "print(global_loss)\n",
        "print(global_accuracy)\n",
        "print(len(global_loss))"
      ],
      "metadata": {
        "id": "J2bCQJE5m1H6",
        "colab": {
          "base_uri": "https://localhost:8080/"
        },
        "outputId": "88aa43b5-243e-40bd-c709-d7008a4d9b8f"
      },
      "execution_count": 25,
      "outputs": [
        {
          "output_type": "stream",
          "name": "stdout",
          "text": [
            "[0.10581233 0.07986742 0.06937088]\n",
            "[0.96640003 0.97460002 0.9774    ]\n",
            "3\n"
          ]
        }
      ]
    },
    {
      "cell_type": "code",
      "source": [
        "# global_loss = global_loss.tolist()\n",
        "# global_accuracy = global_accuracy.tolist()"
      ],
      "metadata": {
        "id": "QfELcLsFn_pB"
      },
      "execution_count": 26,
      "outputs": []
    },
    {
      "cell_type": "code",
      "source": [
        "\n",
        "x_values = np.arange(1, len(global_loss) + 1)\n",
        "# Plotting the graph\n",
        "plt.plot(x_values, global_loss, marker='o', linestyle='--', color='r')\n",
        "plt.title('Loss Vs Communication Round')\n",
        "plt.xlabel('Communication Round')\n",
        "plt.ylabel('Global Loss')\n",
        "plt.xticks(x_values)\n",
        "plt.legend()\n",
        "plt.show()\n",
        "\n",
        "# Plot the accuracy values\n",
        "\n",
        "x_values = np.arange(1, len(global_accuracy) + 1)\n",
        "# Plotting the graph\n",
        "plt.plot(x_values, global_accuracy, marker='o', linestyle='--', color='g')\n",
        "plt.title('Accuracy Vs Communication Round')\n",
        "plt.xlabel('Communication Round')\n",
        "plt.ylabel('Global Accuracy')\n",
        "plt.xticks(x_values)\n",
        "plt.legend()\n",
        "plt.show()"
      ],
      "metadata": {
        "id": "WunphT65Y_NC",
        "colab": {
          "base_uri": "https://localhost:8080/",
          "height": 982
        },
        "outputId": "682d647f-44ff-4d52-bf40-f4db5c4aecd4"
      },
      "execution_count": 27,
      "outputs": [
        {
          "output_type": "stream",
          "name": "stderr",
          "text": [
            "WARNING:matplotlib.legend:No artists with labels found to put in legend.  Note that artists whose label start with an underscore are ignored when legend() is called with no argument.\n"
          ]
        },
        {
          "output_type": "display_data",
          "data": {
            "text/plain": [
              "<Figure size 640x480 with 1 Axes>"
            ],
            "image/png": "[encoded data removed]"
          },
          "metadata": {}
        },
        {
          "output_type": "stream",
          "name": "stderr",
          "text": [
            "WARNING:matplotlib.legend:No artists with labels found to put in legend.  Note that artists whose label start with an underscore are ignored when legend() is called with no argument.\n"
          ]
        },
        {
          "output_type": "display_data",
          "data": {
            "text/plain": [
              "<Figure size 640x480 with 1 Axes>"
            ],
            "image/png": "[encoded data removed]"
          },
          "metadata": {}
        }
      ]
    },
    {
      "cell_type": "code",
      "source": [],
      "metadata": {
        "id": "tuLkaqIj4YGY"
      },
      "execution_count": 27,
      "outputs": []
    }
  ]
}