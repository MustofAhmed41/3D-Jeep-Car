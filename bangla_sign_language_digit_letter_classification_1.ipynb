{
  "metadata": {
    "kernelspec": {
      "language": "python",
      "display_name": "Python 3",
      "name": "python3"
    },
    "language_info": {
      "name": "python",
      "version": "3.7.12",
      "mimetype": "text/x-python",
      "codemirror_mode": {
        "name": "ipython",
        "version": 3
      },
      "pygments_lexer": "ipython3",
      "nbconvert_exporter": "python",
      "file_extension": ".py"
    },
    "colab": {
      "provenance": [],
      "toc_visible": true,
      "include_colab_link": true
    }
  },
  "nbformat_minor": 0,
  "nbformat": 4,
  "cells": [
    {
      "cell_type": "markdown",
      "metadata": {
        "id": "view-in-github",
        "colab_type": "text"
      },
      "source": [
        "<a href=\"https://colab.research.google.com/github/MustofAhmed41/3D-Jeep-Car/blob/main/bangla_sign_language_digit_letter_classification_1.ipynb\" target=\"_parent\"><img src=\"https://colab.research.google.com/assets/colab-badge.svg\" alt=\"Open In Colab\"/></a>"
      ]
    },
    {
      "cell_type": "code",
      "source": [
        "import numpy as np\n",
        "import matplotlib.pyplot as plt\n",
        "import pandas as pd\n",
        "from sklearn.model_selection import KFold\n",
        "from sklearn.model_selection import cross_val_score\n",
        "from numpy import mean\n",
        "from sklearn import metrics\n",
        "import seaborn as ss\n",
        "import os\n",
        "from os import listdir"
      ],
      "metadata": {
        "_uuid": "8f2839f25d086af736a60e9eeb907d3b93b6e0e5",
        "_cell_guid": "b1076dfc-b9ad-4769-8c92-a6c4dae69d19",
        "execution": {
          "iopub.status.busy": "2022-07-18T06:05:55.594271Z",
          "iopub.execute_input": "2022-07-18T06:05:55.594729Z",
          "iopub.status.idle": "2022-07-18T06:05:56.418159Z",
          "shell.execute_reply.started": "2022-07-18T06:05:55.594676Z",
          "shell.execute_reply": "2022-07-18T06:05:56.416815Z"
        },
        "trusted": true,
        "id": "LMMTHZ5eU5Ut"
      },
      "execution_count": null,
      "outputs": []
    },
    {
      "cell_type": "code",
      "source": [
        "from google.colab import drive\n",
        "drive.mount('/content/drive')"
      ],
      "metadata": {
        "colab": {
          "base_uri": "https://localhost:8080/"
        },
        "id": "lh8z9wzfU-Fw",
        "outputId": "a3fec9d8-2909-4e30-ab9e-6770f49f3b55"
      },
      "execution_count": null,
      "outputs": [
        {
          "output_type": "stream",
          "name": "stdout",
          "text": [
            "Drive already mounted at /content/drive; to attempt to forcibly remount, call drive.mount(\"/content/drive\", force_remount=True).\n"
          ]
        }
      ]
    },
    {
      "cell_type": "code",
      "source": [],
      "metadata": {
        "id": "0SrQG277VAlT"
      },
      "execution_count": null,
      "outputs": []
    },
    {
      "cell_type": "code",
      "source": [
        "import os\n",
        "for dirname, _, filenames in os.walk('/kaggle/input'):\n",
        "    for filename in filenames:\n",
        "        print(os.path.join(dirname, filename))"
      ],
      "metadata": {
        "execution": {
          "iopub.status.busy": "2022-07-18T06:05:59.229499Z",
          "iopub.execute_input": "2022-07-18T06:05:59.229903Z",
          "iopub.status.idle": "2022-07-18T06:05:59.282133Z",
          "shell.execute_reply.started": "2022-07-18T06:05:59.229869Z",
          "shell.execute_reply": "2022-07-18T06:05:59.281100Z"
        },
        "trusted": true,
        "id": "Cv3j7WfAU5Uu"
      },
      "execution_count": null,
      "outputs": []
    },
    {
      "cell_type": "markdown",
      "source": [
        "# Sign Alphabet (0 to 36)"
      ],
      "metadata": {
        "id": "Ty-2qB3RU5Uv"
      }
    },
    {
      "cell_type": "markdown",
      "source": [
        "## User 1"
      ],
      "metadata": {
        "id": "RSQ79hDxU5Uv"
      }
    },
    {
      "cell_type": "code",
      "source": [
        "common_path = \"/content/drive/MyDrive/kaggle/input/Bangla Sign Language Dataset CSV Files/Sign Alphabet Dataset CSV Files/Subject 01 - Female, 24/\"\n",
        "\n",
        "u01s00 = pd.read_csv(common_path + \"Output Images - Sign_00.csv\")\n",
        "u01s01 = pd.read_csv(common_path + \"Output Images - Sign_01.csv\")\n",
        "u01s02 = pd.read_csv(common_path + \"Output Images - Sign_02.csv\")\n",
        "u01s03 = pd.read_csv(common_path + \"Output Images - Sign_03.csv\")\n",
        "u01s04 = pd.read_csv(common_path + \"Output Images - Sign_04.csv\")\n",
        "u01s05 = pd.read_csv(common_path + \"Output Images - Sign_05.csv\")\n",
        "u01s06 = pd.read_csv(common_path + \"Output Images - Sign_06.csv\")\n",
        "u01s07 = pd.read_csv(common_path + \"Output Images - Sign_07.csv\")\n",
        "u01s08 = pd.read_csv(common_path + \"Output Images - Sign_08.csv\")\n",
        "u01s09 = pd.read_csv(common_path + \"Output Images - Sign_09.csv\")\n",
        "\n",
        "\n",
        "u01s10 = pd.read_csv(common_path + \"Output Images - Sign_10.csv\")\n",
        "u01s11 = pd.read_csv(common_path + \"Output Images - Sign_11.csv\")\n",
        "u01s12 = pd.read_csv(common_path + \"Output Images - Sign_12.csv\")\n",
        "u01s13 = pd.read_csv(common_path + \"Output Images - Sign_13.csv\")\n",
        "u01s14 = pd.read_csv(common_path + \"Output Images - Sign_14.csv\")\n",
        "u01s15 = pd.read_csv(common_path + \"Output Images - Sign_15.csv\")\n",
        "u01s16 = pd.read_csv(common_path + \"Output Images - Sign_16.csv\")\n",
        "u01s17 = pd.read_csv(common_path + \"Output Images - Sign_17.csv\")\n",
        "u01s18 = pd.read_csv(common_path + \"Output Images - Sign_18.csv\")\n",
        "u01s19 = pd.read_csv(common_path + \"Output Images - Sign_19.csv\")\n",
        "\n",
        "\n",
        "u01s20 = pd.read_csv(common_path + \"Output Images - Sign_20.csv\")\n",
        "u01s21 = pd.read_csv(common_path + \"Output Images - Sign_21.csv\")\n",
        "u01s22 = pd.read_csv(common_path + \"Output Images - Sign_22.csv\")\n",
        "u01s23 = pd.read_csv(common_path + \"Output Images - Sign_23.csv\")\n",
        "u01s24 = pd.read_csv(common_path + \"Output Images - Sign_24.csv\")\n",
        "u01s25 = pd.read_csv(common_path + \"Output Images - Sign_25.csv\")\n",
        "u01s26 = pd.read_csv(common_path + \"Output Images - Sign_26.csv\")\n",
        "u01s27 = pd.read_csv(common_path + \"Output Images - Sign_27.csv\")\n",
        "u01s28 = pd.read_csv(common_path + \"Output Images - Sign_28.csv\")\n",
        "u01s29 = pd.read_csv(common_path + \"Output Images - Sign_29.csv\")\n",
        "\n",
        "\n",
        "u01s30 = pd.read_csv(common_path + \"Output Images - Sign_30.csv\")\n",
        "u01s31 = pd.read_csv(common_path + \"Output Images - Sign_31.csv\")\n",
        "u01s32 = pd.read_csv(common_path + \"Output Images - Sign_32.csv\")\n",
        "u01s33 = pd.read_csv(common_path + \"Output Images - Sign_33.csv\")\n",
        "u01s34 = pd.read_csv(common_path + \"Output Images - Sign_34.csv\")\n",
        "u01s35 = pd.read_csv(common_path + \"Output Images - Sign_35.csv\")\n",
        "u01s36 = pd.read_csv(common_path + \"Output Images - Sign_36.csv\")\n",
        "\n"
      ],
      "metadata": {
        "execution": {
          "iopub.status.busy": "2022-07-18T06:26:36.306439Z",
          "iopub.execute_input": "2022-07-18T06:26:36.306850Z",
          "iopub.status.idle": "2022-07-18T06:26:36.616697Z",
          "shell.execute_reply.started": "2022-07-18T06:26:36.306819Z",
          "shell.execute_reply": "2022-07-18T06:26:36.615398Z"
        },
        "trusted": true,
        "id": "pJAEEh9DU5Uw"
      },
      "execution_count": null,
      "outputs": []
    },
    {
      "cell_type": "markdown",
      "source": [
        "## User 2 "
      ],
      "metadata": {
        "id": "Mm5AWcvqU5Uw"
      }
    },
    {
      "cell_type": "code",
      "source": [
        "common_path = \"/content/drive/MyDrive/kaggle/input/Bangla Sign Language Dataset CSV Files/Sign Alphabet Dataset CSV Files/Subject 02 - Male, 16/\"\n",
        "\n",
        "u02s00 = pd.read_csv(common_path + \"Output Images - Sign_00.csv\")\n",
        "u02s01 = pd.read_csv(common_path + \"Output Images - Sign_01.csv\")\n",
        "u02s02 = pd.read_csv(common_path + \"Output Images - Sign_02.csv\")\n",
        "u02s03 = pd.read_csv(common_path + \"Output Images - Sign_03.csv\")\n",
        "u02s04 = pd.read_csv(common_path + \"Output Images - Sign_04.csv\")\n",
        "u02s05 = pd.read_csv(common_path + \"Output Images - Sign_05.csv\")\n",
        "u02s06 = pd.read_csv(common_path + \"Output Images - Sign_06.csv\")\n",
        "u02s07 = pd.read_csv(common_path + \"Output Images - Sign_07.csv\")\n",
        "u02s08 = pd.read_csv(common_path + \"Output Images - Sign_08.csv\")\n",
        "u02s09 = pd.read_csv(common_path + \"Output Images - Sign_09.csv\")\n",
        "\n",
        "\n",
        "u02s10 = pd.read_csv(common_path + \"Output Images - Sign_10.csv\")\n",
        "u02s11 = pd.read_csv(common_path + \"Output Images - Sign_11.csv\")\n",
        "u02s12 = pd.read_csv(common_path + \"Output Images - Sign_12.csv\")\n",
        "u02s13 = pd.read_csv(common_path + \"Output Images - Sign_13.csv\")\n",
        "u02s14 = pd.read_csv(common_path + \"Output Images - Sign_14.csv\")\n",
        "u02s15 = pd.read_csv(common_path + \"Output Images - Sign_15.csv\")\n",
        "u02s16 = pd.read_csv(common_path + \"Output Images - Sign_16.csv\")\n",
        "u02s17 = pd.read_csv(common_path + \"Output Images - Sign_17.csv\")\n",
        "u02s18 = pd.read_csv(common_path + \"Output Images - Sign_18.csv\")\n",
        "u02s19 = pd.read_csv(common_path + \"Output Images - Sign_19.csv\")\n",
        "\n",
        "\n",
        "u02s20 = pd.read_csv(common_path + \"Output Images - Sign_20.csv\")\n",
        "u02s21 = pd.read_csv(common_path + \"Output Images - Sign_21.csv\")\n",
        "u02s22 = pd.read_csv(common_path + \"Output Images - Sign_22.csv\")\n",
        "u02s23 = pd.read_csv(common_path + \"Output Images - Sign_23.csv\")\n",
        "u02s24 = pd.read_csv(common_path + \"Output Images - Sign_24.csv\")\n",
        "u02s25 = pd.read_csv(common_path + \"Output Images - Sign_25.csv\")\n",
        "u02s26 = pd.read_csv(common_path + \"Output Images - Sign_26.csv\")\n",
        "u02s27 = pd.read_csv(common_path + \"Output Images - Sign_27.csv\")\n",
        "u02s28 = pd.read_csv(common_path + \"Output Images - Sign_28.csv\")\n",
        "u02s29 = pd.read_csv(common_path + \"Output Images - Sign_29.csv\")\n",
        "\n",
        "\n",
        "u02s30 = pd.read_csv(common_path + \"Output Images - Sign_30.csv\")\n",
        "u02s31 = pd.read_csv(common_path + \"Output Images - Sign_31.csv\")\n",
        "u02s32 = pd.read_csv(common_path + \"Output Images - Sign_32.csv\")\n",
        "u02s33 = pd.read_csv(common_path + \"Output Images - Sign_33.csv\")\n",
        "u02s34 = pd.read_csv(common_path + \"Output Images - Sign_34.csv\")\n",
        "u02s35 = pd.read_csv(common_path + \"Output Images - Sign_35.csv\")\n",
        "u02s36 = pd.read_csv(common_path + \"Output Images - Sign_36.csv\")"
      ],
      "metadata": {
        "execution": {
          "iopub.status.busy": "2022-07-18T06:26:32.913198Z",
          "iopub.execute_input": "2022-07-18T06:26:32.913599Z",
          "iopub.status.idle": "2022-07-18T06:26:33.349274Z",
          "shell.execute_reply.started": "2022-07-18T06:26:32.913567Z",
          "shell.execute_reply": "2022-07-18T06:26:33.347932Z"
        },
        "trusted": true,
        "id": "bskopD-yU5Uw"
      },
      "execution_count": null,
      "outputs": []
    },
    {
      "cell_type": "markdown",
      "source": [
        "## User 3"
      ],
      "metadata": {
        "id": "cZddcxkuU5Ux"
      }
    },
    {
      "cell_type": "code",
      "source": [
        "common_path = \"/content/drive/MyDrive/kaggle/input/Bangla Sign Language Dataset CSV Files/Sign Alphabet Dataset CSV Files/Subject 03 - Female, 21/\"\n",
        "\n",
        "u03s00 = pd.read_csv(common_path + \"Output Images - Sign_00.csv\")\n",
        "u03s01 = pd.read_csv(common_path + \"Output Images - Sign_01.csv\")\n",
        "u03s02 = pd.read_csv(common_path + \"Output Images - Sign_02.csv\")\n",
        "u03s03 = pd.read_csv(common_path + \"Output Images - Sign_03.csv\")\n",
        "u03s04 = pd.read_csv(common_path + \"Output Images - Sign_04.csv\")\n",
        "u03s05 = pd.read_csv(common_path + \"Output Images - Sign_05.csv\")\n",
        "u03s06 = pd.read_csv(common_path + \"Output Images - Sign_06.csv\")\n",
        "u03s07 = pd.read_csv(common_path + \"Output Images - Sign_07.csv\")\n",
        "u03s08 = pd.read_csv(common_path + \"Output Images - Sign_08.csv\")\n",
        "u03s09 = pd.read_csv(common_path + \"Output Images - Sign_09.csv\")\n",
        "\n",
        "\n",
        "u03s10 = pd.read_csv(common_path + \"Output Images - Sign_10.csv\")\n",
        "u03s11 = pd.read_csv(common_path + \"Output Images - Sign_11.csv\")\n",
        "u03s12 = pd.read_csv(common_path + \"Output Images - Sign_12.csv\")\n",
        "u03s13 = pd.read_csv(common_path + \"Output Images - Sign_13.csv\")\n",
        "u03s14 = pd.read_csv(common_path + \"Output Images - Sign_14.csv\")\n",
        "u03s15 = pd.read_csv(common_path + \"Output Images - Sign_15.csv\")\n",
        "u03s16 = pd.read_csv(common_path + \"Output Images - Sign_16.csv\")\n",
        "u03s17 = pd.read_csv(common_path + \"Output Images - Sign_17.csv\")\n",
        "u03s18 = pd.read_csv(common_path + \"Output Images - Sign_18.csv\")\n",
        "u03s19 = pd.read_csv(common_path + \"Output Images - Sign_19.csv\")\n",
        "\n",
        "\n",
        "u03s20 = pd.read_csv(common_path + \"Output Images - Sign_20.csv\")\n",
        "u03s21 = pd.read_csv(common_path + \"Output Images - Sign_21.csv\")\n",
        "u03s22 = pd.read_csv(common_path + \"Output Images - Sign_22.csv\")\n",
        "u03s23 = pd.read_csv(common_path + \"Output Images - Sign_23.csv\")\n",
        "u03s24 = pd.read_csv(common_path + \"Output Images - Sign_24.csv\")\n",
        "u03s25 = pd.read_csv(common_path + \"Output Images - Sign_25.csv\")\n",
        "u03s26 = pd.read_csv(common_path + \"Output Images - Sign_26.csv\")\n",
        "u03s27 = pd.read_csv(common_path + \"Output Images - Sign_27.csv\")\n",
        "u03s28 = pd.read_csv(common_path + \"Output Images - Sign_28.csv\")\n",
        "u03s29 = pd.read_csv(common_path + \"Output Images - Sign_29.csv\")\n",
        "\n",
        "\n",
        "u03s30 = pd.read_csv(common_path + \"Output Images - Sign_30.csv\")\n",
        "u03s31 = pd.read_csv(common_path + \"Output Images - Sign_31.csv\")\n",
        "u03s32 = pd.read_csv(common_path + \"Output Images - Sign_32.csv\")\n",
        "u03s33 = pd.read_csv(common_path + \"Output Images - Sign_33.csv\")\n",
        "u03s34 = pd.read_csv(common_path + \"Output Images - Sign_34.csv\")\n",
        "u03s35 = pd.read_csv(common_path + \"Output Images - Sign_35.csv\")\n",
        "u03s36 = pd.read_csv(common_path + \"Output Images - Sign_36.csv\")"
      ],
      "metadata": {
        "execution": {
          "iopub.status.busy": "2022-07-18T06:26:30.348649Z",
          "iopub.execute_input": "2022-07-18T06:26:30.349713Z",
          "iopub.status.idle": "2022-07-18T06:26:30.788855Z",
          "shell.execute_reply.started": "2022-07-18T06:26:30.349672Z",
          "shell.execute_reply": "2022-07-18T06:26:30.787837Z"
        },
        "trusted": true,
        "id": "zoCY_8fwU5Ux"
      },
      "execution_count": null,
      "outputs": []
    },
    {
      "cell_type": "markdown",
      "source": [
        "## User 4 "
      ],
      "metadata": {
        "id": "KEWuyhleU5Ux"
      }
    },
    {
      "cell_type": "code",
      "source": [
        "common_path = \"/content/drive/MyDrive/kaggle/input/Bangla Sign Language Dataset CSV Files/Sign Alphabet Dataset CSV Files/Subject 04 - Female, 52/\"\n",
        "\n",
        "u04s00 = pd.read_csv(common_path + \"Output - BSL Image Frames - Sign - 00.csv\")\n",
        "u04s01 = pd.read_csv(common_path + \"Output - BSL Image Frames - Sign - 01.csv\")\n",
        "u04s02 = pd.read_csv(common_path + \"Output - BSL Image Frames - Sign - 02.csv\")\n",
        "u04s03 = pd.read_csv(common_path + \"Output - BSL Image Frames - Sign - 03.csv\")\n",
        "u04s04 = pd.read_csv(common_path + \"Output - BSL Image Frames - Sign - 04.csv\")\n",
        "u04s05 = pd.read_csv(common_path + \"Output - BSL Image Frames - Sign - 05.csv\")\n",
        "u04s06 = pd.read_csv(common_path + \"Output - BSL Image Frames - Sign - 06.csv\")\n",
        "u04s07 = pd.read_csv(common_path + \"Output - BSL Image Frames - Sign - 07.csv\")\n",
        "u04s08 = pd.read_csv(common_path + \"Output - BSL Image Frames - Sign - 08.csv\")\n",
        "u04s09 = pd.read_csv(common_path + \"Output - BSL Image Frames - Sign - 09.csv\")\n",
        "\n",
        "\n",
        "u04s10 = pd.read_csv(common_path + \"Output - BSL Image Frames - Sign - 10.csv\")\n",
        "u04s11 = pd.read_csv(common_path + \"Output - BSL Image Frames - Sign - 11.csv\")\n",
        "u04s12 = pd.read_csv(common_path + \"Output - BSL Image Frames - Sign - 12.csv\")\n",
        "u04s13 = pd.read_csv(common_path + \"Output - BSL Image Frames - Sign - 13.csv\")\n",
        "u04s14 = pd.read_csv(common_path + \"Output - BSL Image Frames - Sign - 14.csv\")\n",
        "u04s15 = pd.read_csv(common_path + \"Output - BSL Image Frames - Sign - 15.csv\")\n",
        "u04s16 = pd.read_csv(common_path + \"Output - BSL Image Frames - Sign - 16.csv\")\n",
        "u04s17 = pd.read_csv(common_path + \"Output - BSL Image Frames - Sign - 17.csv\")\n",
        "u04s18 = pd.read_csv(common_path + \"Output - BSL Image Frames - Sign - 18.csv\")\n",
        "u04s19 = pd.read_csv(common_path + \"Output - BSL Image Frames - Sign - 19.csv\")\n",
        "\n",
        "\n",
        "u04s20 = pd.read_csv(common_path + \"Output - BSL Image Frames - Sign - 20.csv\")\n",
        "u04s21 = pd.read_csv(common_path + \"Output - BSL Image Frames - Sign - 21.csv\")\n",
        "u04s22 = pd.read_csv(common_path + \"Output - BSL Image Frames - Sign - 22.csv\")\n",
        "u04s23 = pd.read_csv(common_path + \"Output - BSL Image Frames - Sign - 23.csv\")\n",
        "u04s24 = pd.read_csv(common_path + \"Output - BSL Image Frames - Sign - 24.csv\")\n",
        "u04s25 = pd.read_csv(common_path + \"Output - BSL Image Frames - Sign - 25.csv\")\n",
        "u04s26 = pd.read_csv(common_path + \"Output - BSL Image Frames - Sign - 26.csv\")\n",
        "u04s27 = pd.read_csv(common_path + \"Output - BSL Image Frames - Sign - 27.csv\")\n",
        "u04s28 = pd.read_csv(common_path + \"Output - BSL Image Frames - Sign - 28.csv\")\n",
        "u04s29 = pd.read_csv(common_path + \"Output - BSL Image Frames - Sign - 29.csv\")\n",
        "\n",
        "\n",
        "u04s30 = pd.read_csv(common_path + \"Output - BSL Image Frames - Sign - 30.csv\")\n",
        "u04s31 = pd.read_csv(common_path + \"Output - BSL Image Frames - Sign - 31.csv\")\n",
        "u04s32 = pd.read_csv(common_path + \"Output - BSL Image Frames - Sign - 32.csv\")\n",
        "u04s33 = pd.read_csv(common_path + \"Output - BSL Image Frames - Sign - 33.csv\")\n",
        "u04s34 = pd.read_csv(common_path + \"Output - BSL Image Frames - Sign - 34.csv\")\n",
        "u04s35 = pd.read_csv(common_path + \"Output - BSL Image Frames - Sign - 35.csv\")\n",
        "u04s36 = pd.read_csv(common_path + \"Output - BSL Image Frames - Sign - 36.csv\")"
      ],
      "metadata": {
        "execution": {
          "iopub.status.busy": "2022-07-18T06:26:27.532928Z",
          "iopub.execute_input": "2022-07-18T06:26:27.533363Z",
          "iopub.status.idle": "2022-07-18T06:26:28.003496Z",
          "shell.execute_reply.started": "2022-07-18T06:26:27.533329Z",
          "shell.execute_reply": "2022-07-18T06:26:28.002549Z"
        },
        "trusted": true,
        "id": "tZVGifD0U5Uy"
      },
      "execution_count": null,
      "outputs": []
    },
    {
      "cell_type": "markdown",
      "source": [
        "## User 5 "
      ],
      "metadata": {
        "id": "jiXVobmWU5Uy"
      }
    },
    {
      "cell_type": "code",
      "source": [
        "common_path = \"/content/drive/MyDrive/kaggle/input/Bangla Sign Language Dataset CSV Files/Sign Alphabet Dataset CSV Files/Subject 05 - Male, 24/\"\n",
        "\n",
        "u05s00 = pd.read_csv(common_path + \"Output - BSL Image Frames - Sign 00.csv\")\n",
        "u05s01 = pd.read_csv(common_path + \"Output - BSL Image Frames - Sign 01.csv\")\n",
        "u05s02 = pd.read_csv(common_path + \"Output - BSL Image Frames - Sign 02.csv\")\n",
        "u05s03 = pd.read_csv(common_path + \"Output - BSL Image Frames - Sign 03.csv\")\n",
        "u05s04 = pd.read_csv(common_path + \"Output - BSL Image Frames - Sign 04.csv\")\n",
        "u05s05 = pd.read_csv(common_path + \"Output - BSL Image Frames - Sign 05.csv\")\n",
        "u05s06 = pd.read_csv(common_path + \"Output - BSL Image Frames - Sign 06.csv\")\n",
        "u05s07 = pd.read_csv(common_path + \"Output - BSL Image Frames - Sign 07.csv\")\n",
        "u05s08 = pd.read_csv(common_path + \"Output - BSL Image Frames - Sign 08.csv\")\n",
        "u05s09 = pd.read_csv(common_path + \"Output - BSL Image Frames - Sign 09.csv\")\n",
        "\n",
        "\n",
        "u05s10 = pd.read_csv(common_path + \"Output - BSL Image Frames - Sign 10.csv\")\n",
        "u05s11 = pd.read_csv(common_path + \"Output - BSL Image Frames - Sign 11.csv\")\n",
        "u05s12 = pd.read_csv(common_path + \"Output - BSL Image Frames - Sign 12.csv\")\n",
        "u05s13 = pd.read_csv(common_path + \"Output - BSL Image Frames - Sign 13.csv\")\n",
        "u05s14 = pd.read_csv(common_path + \"Output - BSL Image Frames - Sign 14.csv\")\n",
        "u05s15 = pd.read_csv(common_path + \"Output - BSL Image Frames - Sign 15.csv\")\n",
        "u05s16 = pd.read_csv(common_path + \"Output - BSL Image Frames - Sign 16.csv\")\n",
        "u05s17 = pd.read_csv(common_path + \"Output - BSL Image Frames - Sign 17.csv\")\n",
        "u05s18 = pd.read_csv(common_path + \"Output - BSL Image Frames - Sign 18.csv\")\n",
        "u05s19 = pd.read_csv(common_path + \"Output - BSL Image Frames - Sign 19.csv\")\n",
        "\n",
        "\n",
        "u05s20 = pd.read_csv(common_path + \"Output - BSL Image Frames - Sign 20.csv\")\n",
        "u05s21 = pd.read_csv(common_path + \"Output - BSL Image Frames - Sign 21.csv\")\n",
        "u05s22 = pd.read_csv(common_path + \"Output - BSL Image Frames - Sign 22.csv\")\n",
        "u05s23 = pd.read_csv(common_path + \"Output - BSL Image Frames - Sign 23.csv\")\n",
        "u05s24 = pd.read_csv(common_path + \"Output - BSL Image Frames - Sign 24.csv\")\n",
        "u05s25 = pd.read_csv(common_path + \"Output - BSL Image Frames - Sign 25.csv\")\n",
        "u05s26 = pd.read_csv(common_path + \"Output - BSL Image Frames - Sign 26.csv\")\n",
        "u05s27 = pd.read_csv(common_path + \"Output - BSL Image Frames - Sign 27.csv\")\n",
        "u05s28 = pd.read_csv(common_path + \"Output - BSL Image Frames - Sign 28.csv\")\n",
        "u05s29 = pd.read_csv(common_path + \"Output - BSL Image Frames - Sign 29.csv\")\n",
        "\n",
        "\n",
        "u05s30 = pd.read_csv(common_path + \"Output - BSL Image Frames - Sign 30.csv\")\n",
        "u05s31 = pd.read_csv(common_path + \"Output - BSL Image Frames - Sign 31.csv\")\n",
        "u05s32 = pd.read_csv(common_path + \"Output - BSL Image Frames - Sign 32.csv\")\n",
        "u05s33 = pd.read_csv(common_path + \"Output - BSL Image Frames - Sign 33.csv\")\n",
        "u05s34 = pd.read_csv(common_path + \"Output - BSL Image Frames - Sign 34.csv\")\n",
        "u05s35 = pd.read_csv(common_path + \"Output - BSL Image Frames - Sign 35.csv\")\n",
        "u05s36 = pd.read_csv(common_path + \"Output - BSL Image Frames - Sign 36.csv\")"
      ],
      "metadata": {
        "execution": {
          "iopub.status.busy": "2022-07-18T06:29:19.204736Z",
          "iopub.execute_input": "2022-07-18T06:29:19.206026Z",
          "iopub.status.idle": "2022-07-18T06:29:19.656585Z",
          "shell.execute_reply.started": "2022-07-18T06:29:19.205981Z",
          "shell.execute_reply": "2022-07-18T06:29:19.654860Z"
        },
        "trusted": true,
        "id": "F9tSa9WKU5Uy"
      },
      "execution_count": null,
      "outputs": []
    },
    {
      "cell_type": "markdown",
      "source": [
        "## User 6 "
      ],
      "metadata": {
        "id": "3NyP7T6LU5Uy"
      }
    },
    {
      "cell_type": "code",
      "source": [
        "common_path = \"/content/drive/MyDrive/kaggle/input/Bangla Sign Language Dataset CSV Files/Sign Alphabet Dataset CSV Files/Subject 06 - Female, 21/\"\n",
        "\n",
        "\n",
        "u06s00 = pd.read_csv(common_path + \"Output - BSL Image Frames - Sign 00.csv\")\n",
        "u06s01 = pd.read_csv(common_path + \"Output - BSL Image Frames - Sign 01.csv\")\n",
        "u06s02 = pd.read_csv(common_path + \"Output - BSL Image Frames - Sign 02.csv\")\n",
        "u06s03 = pd.read_csv(common_path + \"Output - BSL Image Frames - Sign 03.csv\")\n",
        "u06s04 = pd.read_csv(common_path + \"Output - BSL Image Frames - Sign 04.csv\")\n",
        "u06s05 = pd.read_csv(common_path + \"Output - BSL Image Frames - Sign 05.csv\")\n",
        "u06s06 = pd.read_csv(common_path + \"Output - BSL Image Frames - Sign 06.csv\")\n",
        "u06s07 = pd.read_csv(common_path + \"Output - BSL Image Frames - Sign 07.csv\")\n",
        "u06s08 = pd.read_csv(common_path + \"Output - BSL Image Frames - Sign 08.csv\")\n",
        "u06s09 = pd.read_csv(common_path + \"Output - BSL Image Frames - Sign 09.csv\")\n",
        "\n",
        "\n",
        "u06s10 = pd.read_csv(common_path + \"Output - BSL Image Frames - Sign 10.csv\")\n",
        "u06s11 = pd.read_csv(common_path + \"Output - BSL Image Frames - Sign 11.csv\")\n",
        "u06s12 = pd.read_csv(common_path + \"Output - BSL Image Frames - Sign 12.csv\")\n",
        "u06s13 = pd.read_csv(common_path + \"Output - BSL Image Frames - Sign 13.csv\")\n",
        "u06s14 = pd.read_csv(common_path + \"Output - BSL Image Frames - Sign 14.csv\")\n",
        "u06s15 = pd.read_csv(common_path + \"Output - BSL Image Frames - Sign 15.csv\")\n",
        "u06s16 = pd.read_csv(common_path + \"Output - BSL Image Frames - Sign 16.csv\")\n",
        "u06s17 = pd.read_csv(common_path + \"Output - BSL Image Frames - Sign 17.csv\")\n",
        "u06s18 = pd.read_csv(common_path + \"Output - BSL Image Frames - Sign 18.csv\")\n",
        "u06s19 = pd.read_csv(common_path + \"Output - BSL Image Frames - Sign 19.csv\")\n",
        "\n",
        "\n",
        "u06s20 = pd.read_csv(common_path + \"Output - BSL Image Frames - Sign 20.csv\")\n",
        "u06s21 = pd.read_csv(common_path + \"Output - BSL Image Frames - Sign 21.csv\")\n",
        "u06s22 = pd.read_csv(common_path + \"Output - BSL Image Frames - Sign 22.csv\")\n",
        "u06s23 = pd.read_csv(common_path + \"Output - BSL Image Frames - Sign 23.csv\")\n",
        "u06s24 = pd.read_csv(common_path + \"Output - BSL Image Frames - Sign 24.csv\")\n",
        "u06s25 = pd.read_csv(common_path + \"Output - BSL Image Frames - Sign 25.csv\")\n",
        "u06s26 = pd.read_csv(common_path + \"Output - BSL Image Frames - Sign 26.csv\")\n",
        "u06s27 = pd.read_csv(common_path + \"Output - BSL Image Frames - Sign 27.csv\")\n",
        "u06s28 = pd.read_csv(common_path + \"Output - BSL Image Frames - Sign 28.csv\")\n",
        "u06s29 = pd.read_csv(common_path + \"Output - BSL Image Frames - Sign 29.csv\")\n",
        "\n",
        "\n",
        "u06s30 = pd.read_csv(common_path + \"Output - BSL Image Frames - Sign 30.csv\")\n",
        "u06s31 = pd.read_csv(common_path + \"Output - BSL Image Frames - Sign 31.csv\")\n",
        "u06s32 = pd.read_csv(common_path + \"Output - BSL Image Frames - Sign 32.csv\")\n",
        "u06s33 = pd.read_csv(common_path + \"Output - BSL Image Frames - Sign 33.csv\")\n",
        "u06s34 = pd.read_csv(common_path + \"Output - BSL Image Frames - Sign 34.csv\")\n",
        "u06s35 = pd.read_csv(common_path + \"Output - BSL Image Frames - Sign 35.csv\")\n",
        "u06s36 = pd.read_csv(common_path + \"Output - BSL Image Frames - Sign 36.csv\")"
      ],
      "metadata": {
        "execution": {
          "iopub.status.busy": "2022-07-18T06:31:32.701761Z",
          "iopub.execute_input": "2022-07-18T06:31:32.702209Z",
          "iopub.status.idle": "2022-07-18T06:31:33.122805Z",
          "shell.execute_reply.started": "2022-07-18T06:31:32.702166Z",
          "shell.execute_reply": "2022-07-18T06:31:33.121771Z"
        },
        "trusted": true,
        "id": "gx4JF5lhU5Uz"
      },
      "execution_count": null,
      "outputs": []
    },
    {
      "cell_type": "markdown",
      "source": [
        "## User 7 "
      ],
      "metadata": {
        "id": "5S0ZgRghU5Uz"
      }
    },
    {
      "cell_type": "code",
      "source": [
        "common_path = \"/content/drive/MyDrive/kaggle/input/Bangla Sign Language Dataset CSV Files/Sign Alphabet Dataset CSV Files/Subject 07 - Male, 14/\"\n",
        "\n",
        "\n",
        "u07s00 = pd.read_csv(common_path + \"Output Images - Sign 00.csv\")\n",
        "u07s01 = pd.read_csv(common_path + \"Output Images - Sign 01.csv\")\n",
        "u07s02 = pd.read_csv(common_path + \"Output Images - Sign 02.csv\")\n",
        "u07s03 = pd.read_csv(common_path + \"Output Images - Sign 03.csv\")\n",
        "u07s04 = pd.read_csv(common_path + \"Output Images - Sign 04.csv\")\n",
        "u07s05 = pd.read_csv(common_path + \"Output Images - Sign 05.csv\")\n",
        "u07s06 = pd.read_csv(common_path + \"Output Images - Sign 06.csv\")\n",
        "u07s07 = pd.read_csv(common_path + \"Output Images - Sign 07.csv\")\n",
        "u07s08 = pd.read_csv(common_path + \"Output Images - Sign 08.csv\")\n",
        "u07s09 = pd.read_csv(common_path + \"Output Images - Sign 09.csv\")\n",
        "\n",
        "\n",
        "u07s10 = pd.read_csv(common_path + \"Output Images - Sign 10.csv\")\n",
        "u07s11 = pd.read_csv(common_path + \"Output Images - Sign 11.csv\")\n",
        "u07s12 = pd.read_csv(common_path + \"Output Images - Sign 12.csv\")\n",
        "u07s13 = pd.read_csv(common_path + \"Output Images - Sign 13.csv\")\n",
        "u07s14 = pd.read_csv(common_path + \"Output Images - Sign 14.csv\")\n",
        "u07s15 = pd.read_csv(common_path + \"Output Images - Sign 15.csv\")\n",
        "u07s16 = pd.read_csv(common_path + \"Output Images - Sign 16.csv\")\n",
        "u07s17 = pd.read_csv(common_path + \"Output Images - Sign 17.csv\")\n",
        "u07s18 = pd.read_csv(common_path + \"Output Images - Sign 18.csv\")\n",
        "u07s19 = pd.read_csv(common_path + \"Output Images - Sign 19.csv\")\n",
        "\n",
        "\n",
        "u07s20 = pd.read_csv(common_path + \"Output Images - Sign 20.csv\")\n",
        "u07s21 = pd.read_csv(common_path + \"Output Images - Sign 21.csv\")\n",
        "u07s22 = pd.read_csv(common_path + \"Output Images - Sign 22.csv\")\n",
        "u07s23 = pd.read_csv(common_path + \"Output Images - Sign 23.csv\")\n",
        "u07s24 = pd.read_csv(common_path + \"Output Images - Sign 24.csv\")\n",
        "u07s25 = pd.read_csv(common_path + \"Output Images - Sign 25.csv\")\n",
        "u07s26 = pd.read_csv(common_path + \"Output Images - Sign 26.csv\")\n",
        "u07s27 = pd.read_csv(common_path + \"Output Images - Sign 27.csv\")\n",
        "u07s28 = pd.read_csv(common_path + \"Output Images - Sign 28.csv\")\n",
        "u07s29 = pd.read_csv(common_path + \"Output Images - Sign 29.csv\")\n",
        "\n",
        "\n",
        "u07s30 = pd.read_csv(common_path + \"Output Images - Sign 30.csv\")\n",
        "u07s31 = pd.read_csv(common_path + \"Output Images - Sign 31.csv\")\n",
        "u07s32 = pd.read_csv(common_path + \"Output Images - Sign 32.csv\")\n",
        "u07s33 = pd.read_csv(common_path + \"Output Images - Sign 33.csv\")\n",
        "u07s34 = pd.read_csv(common_path + \"Output Images - Sign 34.csv\")\n",
        "u07s35 = pd.read_csv(common_path + \"Output Images - Sign 35.csv\")\n",
        "u07s36 = pd.read_csv(common_path + \"Output Images - Sign 36.csv\")"
      ],
      "metadata": {
        "execution": {
          "iopub.status.busy": "2022-07-18T06:33:59.038387Z",
          "iopub.execute_input": "2022-07-18T06:33:59.039304Z",
          "iopub.status.idle": "2022-07-18T06:33:59.487596Z",
          "shell.execute_reply.started": "2022-07-18T06:33:59.039263Z",
          "shell.execute_reply": "2022-07-18T06:33:59.486217Z"
        },
        "trusted": true,
        "id": "lL_tamt0U5Uz"
      },
      "execution_count": null,
      "outputs": []
    },
    {
      "cell_type": "markdown",
      "source": [
        "## User 8  "
      ],
      "metadata": {
        "id": "KI3CE-5YU5Uz"
      }
    },
    {
      "cell_type": "code",
      "source": [
        "common_path = \"/content/drive/MyDrive/kaggle/input/Bangla Sign Language Dataset CSV Files/Sign Alphabet Dataset CSV Files/Subject 08 - Male, 24/\"\n",
        "\n",
        "\n",
        "u08s00 = pd.read_csv(common_path + \"Output Images - Sign 00.csv\")\n",
        "u08s01 = pd.read_csv(common_path + \"Output Images - Sign 01.csv\")\n",
        "u08s02 = pd.read_csv(common_path + \"Output Images - Sign 02.csv\")\n",
        "u08s03 = pd.read_csv(common_path + \"Output Images - Sign 03.csv\")\n",
        "u08s04 = pd.read_csv(common_path + \"Output Images - Sign 04.csv\")\n",
        "u08s05 = pd.read_csv(common_path + \"Output Images - Sign 05.csv\")\n",
        "u08s06 = pd.read_csv(common_path + \"Output Images - Sign 06.csv\")\n",
        "u08s07 = pd.read_csv(common_path + \"Output Images - Sign 07.csv\")\n",
        "u08s08 = pd.read_csv(common_path + \"Output Images - Sign 08.csv\")\n",
        "u08s09 = pd.read_csv(common_path + \"Output Images - Sign 09.csv\")\n",
        "\n",
        "\n",
        "u08s10 = pd.read_csv(common_path + \"Output Images - Sign 10.csv\")\n",
        "u08s11 = pd.read_csv(common_path + \"Output Images - Sign 11.csv\")\n",
        "u08s12 = pd.read_csv(common_path + \"Output Images - Sign 12.csv\")\n",
        "u08s13 = pd.read_csv(common_path + \"Output Images - Sign 13.csv\")\n",
        "u08s14 = pd.read_csv(common_path + \"Output Images - Sign 14.csv\")\n",
        "u08s15 = pd.read_csv(common_path + \"Output Images - Sign 15.csv\")\n",
        "u08s16 = pd.read_csv(common_path + \"Output Images - Sign 16.csv\")\n",
        "u08s17 = pd.read_csv(common_path + \"Output Images - Sign 17.csv\")\n",
        "u08s18 = pd.read_csv(common_path + \"Output Images - Sign 18.csv\")\n",
        "u08s19 = pd.read_csv(common_path + \"Output Images - Sign 19.csv\")\n",
        "\n",
        "\n",
        "u08s20 = pd.read_csv(common_path + \"Output Images - Sign 20.csv\")\n",
        "u08s21 = pd.read_csv(common_path + \"Output Images - Sign 21.csv\")\n",
        "u08s22 = pd.read_csv(common_path + \"Output Images - Sign 22.csv\")\n",
        "u08s23 = pd.read_csv(common_path + \"Output Images - Sign 23.csv\")\n",
        "u08s24 = pd.read_csv(common_path + \"Output Images - Sign 24.csv\")\n",
        "u08s25 = pd.read_csv(common_path + \"Output Images - Sign 25.csv\")\n",
        "u08s26 = pd.read_csv(common_path + \"Output Images - Sign 26.csv\")\n",
        "u08s27 = pd.read_csv(common_path + \"Output Images - Sign 27.csv\")\n",
        "u08s28 = pd.read_csv(common_path + \"Output Images - Sign 28.csv\")\n",
        "u08s29 = pd.read_csv(common_path + \"Output Images - Sign 29.csv\")\n",
        "\n",
        "\n",
        "u08s30 = pd.read_csv(common_path + \"Output Images - Sign 30.csv\")\n",
        "u08s31 = pd.read_csv(common_path + \"Output Images - Sign 31.csv\")\n",
        "u08s32 = pd.read_csv(common_path + \"Output Images - Sign 32.csv\")\n",
        "u08s33 = pd.read_csv(common_path + \"Output Images - Sign 33.csv\")\n",
        "u08s34 = pd.read_csv(common_path + \"Output Images - Sign 34.csv\")\n",
        "u08s35 = pd.read_csv(common_path + \"Output Images - Sign 35.csv\")\n",
        "u08s36 = pd.read_csv(common_path + \"Output Images - Sign 36.csv\")"
      ],
      "metadata": {
        "execution": {
          "iopub.status.busy": "2022-07-18T06:43:55.535432Z",
          "iopub.execute_input": "2022-07-18T06:43:55.535966Z",
          "iopub.status.idle": "2022-07-18T06:43:56.219017Z",
          "shell.execute_reply.started": "2022-07-18T06:43:55.535919Z",
          "shell.execute_reply": "2022-07-18T06:43:56.217728Z"
        },
        "trusted": true,
        "id": "YY9vTF_qU5Uz"
      },
      "execution_count": null,
      "outputs": []
    },
    {
      "cell_type": "markdown",
      "source": [
        "## User 9 "
      ],
      "metadata": {
        "id": "OJB6YBq7U5U0"
      }
    },
    {
      "cell_type": "code",
      "source": [
        "common_path = \"/content/drive/MyDrive/kaggle/input/Bangla Sign Language Dataset CSV Files/Sign Alphabet Dataset CSV Files/Subject 09 - Male, 26/\"\n",
        "\n",
        "\n",
        "u09s00 = pd.read_csv(common_path + \"Output Images - Sign 00.csv\")\n",
        "u09s01 = pd.read_csv(common_path + \"Output Images - Sign 01.csv\")\n",
        "u09s02 = pd.read_csv(common_path + \"Output Images - Sign 02.csv\")\n",
        "u09s03 = pd.read_csv(common_path + \"Output Images - Sign 03.csv\")\n",
        "u09s04 = pd.read_csv(common_path + \"Output Images - Sign 04.csv\")\n",
        "u09s05 = pd.read_csv(common_path + \"Output Images - Sign 05.csv\")\n",
        "u09s06 = pd.read_csv(common_path + \"Output Images - Sign 06.csv\")\n",
        "u09s07 = pd.read_csv(common_path + \"Output Images - Sign 07.csv\")\n",
        "u09s08 = pd.read_csv(common_path + \"Output Images - Sign 08.csv\")\n",
        "u09s09 = pd.read_csv(common_path + \"Output Images - Sign 09.csv\")\n",
        "\n",
        "\n",
        "u09s10 = pd.read_csv(common_path + \"Output Images - Sign 10.csv\")\n",
        "u09s11 = pd.read_csv(common_path + \"Output Images - Sign 11.csv\")\n",
        "u09s12 = pd.read_csv(common_path + \"Output Images - Sign 12.csv\")\n",
        "u09s13 = pd.read_csv(common_path + \"Output Images - Sign 13.csv\")\n",
        "u09s14 = pd.read_csv(common_path + \"Output Images - Sign 14.csv\")\n",
        "u09s15 = pd.read_csv(common_path + \"Output Images - Sign 15.csv\")\n",
        "u09s16 = pd.read_csv(common_path + \"Output Images - Sign 16.csv\")\n",
        "u09s17 = pd.read_csv(common_path + \"Output Images - Sign 17.csv\")\n",
        "u09s18 = pd.read_csv(common_path + \"Output Images - Sign 18.csv\")\n",
        "u09s19 = pd.read_csv(common_path + \"Output Images - Sign 19.csv\")\n",
        "\n",
        "\n",
        "u09s20 = pd.read_csv(common_path + \"Output Images - Sign 20.csv\")\n",
        "u09s21 = pd.read_csv(common_path + \"Output Images - Sign 21.csv\")\n",
        "u09s22 = pd.read_csv(common_path + \"Output Images - Sign 22.csv\")\n",
        "u09s23 = pd.read_csv(common_path + \"Output Images - Sign 23.csv\")\n",
        "u09s24 = pd.read_csv(common_path + \"Output Images - Sign 24.csv\")\n",
        "u09s25 = pd.read_csv(common_path + \"Output Images - Sign 25.csv\")\n",
        "u09s26 = pd.read_csv(common_path + \"Output Images - Sign 26.csv\")\n",
        "u09s27 = pd.read_csv(common_path + \"Output Images - Sign 27.csv\")\n",
        "u09s28 = pd.read_csv(common_path + \"Output Images - Sign 28.csv\")\n",
        "u09s29 = pd.read_csv(common_path + \"Output Images - Sign 29.csv\")\n",
        "\n",
        "\n",
        "u09s30 = pd.read_csv(common_path + \"Output Images - Sign 30.csv\")\n",
        "u09s31 = pd.read_csv(common_path + \"Output Images - Sign 31.csv\")\n",
        "u09s32 = pd.read_csv(common_path + \"Output Images - Sign 32.csv\")\n",
        "u09s33 = pd.read_csv(common_path + \"Output Images - Sign 33.csv\")\n",
        "u09s34 = pd.read_csv(common_path + \"Output Images - Sign 34.csv\")\n",
        "u09s35 = pd.read_csv(common_path + \"Output Images - Sign 35.csv\")\n",
        "u09s36 = pd.read_csv(common_path + \"Output Images - Sign 36.csv\")"
      ],
      "metadata": {
        "execution": {
          "iopub.status.busy": "2022-07-18T06:45:24.518066Z",
          "iopub.execute_input": "2022-07-18T06:45:24.518574Z",
          "iopub.status.idle": "2022-07-18T06:45:25.011331Z",
          "shell.execute_reply.started": "2022-07-18T06:45:24.518537Z",
          "shell.execute_reply": "2022-07-18T06:45:25.010174Z"
        },
        "trusted": true,
        "id": "-ziG8M6IU5U0"
      },
      "execution_count": null,
      "outputs": []
    },
    {
      "cell_type": "markdown",
      "source": [
        "## User 10 "
      ],
      "metadata": {
        "id": "bMceLTEnU5U0"
      }
    },
    {
      "cell_type": "code",
      "source": [
        "common_path = \"/content/drive/MyDrive/kaggle/input/Bangla Sign Language Dataset CSV Files/Sign Alphabet Dataset CSV Files/Subject 10 - Female, 21/\"\n",
        "\n",
        "\n",
        "u10s00 = pd.read_csv(common_path + \"Output Images - sign 00.csv\")\n",
        "u10s01 = pd.read_csv(common_path + \"Output Images - sign 01.csv\")\n",
        "u10s02 = pd.read_csv(common_path + \"Output Images - sign 02.csv\")\n",
        "u10s03 = pd.read_csv(common_path + \"Output Images - sign 03.csv\")\n",
        "u10s04 = pd.read_csv(common_path + \"Output Images - sign 04.csv\")\n",
        "u10s05 = pd.read_csv(common_path + \"Output Images - sign 05.csv\")\n",
        "u10s06 = pd.read_csv(common_path + \"Output Images - sign 06.csv\")\n",
        "u10s07 = pd.read_csv(common_path + \"Output Images - sign 07.csv\")\n",
        "u10s08 = pd.read_csv(common_path + \"Output Images - sign 08.csv\")\n",
        "u10s09 = pd.read_csv(common_path + \"Output Images - sign 09.csv\")\n",
        "\n",
        "\n",
        "u10s10 = pd.read_csv(common_path + \"Output Images - sign 10.csv\")\n",
        "u10s11 = pd.read_csv(common_path + \"Output Images - sign 11.csv\")\n",
        "u10s12 = pd.read_csv(common_path + \"Output Images - sign 12.csv\")\n",
        "u10s13 = pd.read_csv(common_path + \"Output Images - sign 13.csv\")\n",
        "u10s14 = pd.read_csv(common_path + \"Output Images - sign 14.csv\")\n",
        "u10s15 = pd.read_csv(common_path + \"Output Images - sign 15.csv\")\n",
        "u10s16 = pd.read_csv(common_path + \"Output Images - sign 16.csv\")\n",
        "u10s17 = pd.read_csv(common_path + \"Output Images - sign 17.csv\")\n",
        "u10s18 = pd.read_csv(common_path + \"Output Images - sign 18.csv\")\n",
        "u10s19 = pd.read_csv(common_path + \"Output Images - sign 19.csv\")\n",
        "\n",
        "\n",
        "u10s20 = pd.read_csv(common_path + \"Output Images - sign 20.csv\")\n",
        "u10s21 = pd.read_csv(common_path + \"Output Images - sign 21.csv\")\n",
        "u10s22 = pd.read_csv(common_path + \"Output Images - sign 22.csv\")\n",
        "u10s23 = pd.read_csv(common_path + \"Output Images - sign 23.csv\")\n",
        "u10s24 = pd.read_csv(common_path + \"Output Images - sign 24.csv\")\n",
        "u10s25 = pd.read_csv(common_path + \"Output Images - sign 25.csv\")\n",
        "u10s26 = pd.read_csv(common_path + \"Output Images - sign 26.csv\")\n",
        "u10s27 = pd.read_csv(common_path + \"Output Images - sign 27.csv\")\n",
        "u10s28 = pd.read_csv(common_path + \"Output Images - sign 28.csv\")\n",
        "u10s29 = pd.read_csv(common_path + \"Output Images - sign 29.csv\")\n",
        "\n",
        "\n",
        "u10s30 = pd.read_csv(common_path + \"Output Images - sign 30.csv\")\n",
        "u10s31 = pd.read_csv(common_path + \"Output Images - sign 31.csv\")\n",
        "u10s32 = pd.read_csv(common_path + \"Output Images - sign 32.csv\")\n",
        "u10s33 = pd.read_csv(common_path + \"Output Images - sign 33.csv\")\n",
        "u10s34 = pd.read_csv(common_path + \"Output Images - sign 34.csv\")\n",
        "u10s35 = pd.read_csv(common_path + \"Output Images - sign 35.csv\")\n",
        "u10s36 = pd.read_csv(common_path + \"Output Images - sign 36.csv\")"
      ],
      "metadata": {
        "execution": {
          "iopub.status.busy": "2022-07-18T06:47:58.996245Z",
          "iopub.execute_input": "2022-07-18T06:47:58.996668Z",
          "iopub.status.idle": "2022-07-18T06:47:59.490324Z",
          "shell.execute_reply.started": "2022-07-18T06:47:58.996634Z",
          "shell.execute_reply": "2022-07-18T06:47:59.489040Z"
        },
        "trusted": true,
        "id": "U1B437dMU5U0"
      },
      "execution_count": null,
      "outputs": []
    },
    {
      "cell_type": "markdown",
      "source": [
        "# Digits"
      ],
      "metadata": {
        "id": "U4-4VpjBU5U0"
      }
    },
    {
      "cell_type": "markdown",
      "source": [
        "## User 1 "
      ],
      "metadata": {
        "id": "vppt34cKU5U0"
      }
    },
    {
      "cell_type": "code",
      "source": [
        "common_path_digit = \"/content/drive/MyDrive/kaggle/input/Bangla Sign Language Dataset CSV Files/Sign Digit Dataset CSV Files/Subject 01 - Female, 52/\"\n",
        "\n",
        "\n",
        "u01s37 = pd.read_csv(common_path_digit + \"Output Images - Sign 0 (37).csv\")\n",
        "u01s38 = pd.read_csv(common_path_digit + \"Output Images - Sign 1 (38).csv\")\n",
        "u01s39 = pd.read_csv(common_path_digit + \"Output Images - Sign 2 (39).csv\")\n",
        "u01s40 = pd.read_csv(common_path_digit + \"Output Images - Sign 3 (40).csv\")\n",
        "u01s41 = pd.read_csv(common_path_digit + \"Output Images - Sign 4 (41).csv\")\n",
        "u01s42 = pd.read_csv(common_path_digit + \"Output Images - Sign 5 (42).csv\")\n",
        "u01s43 = pd.read_csv(common_path_digit + \"Output Images - Sign 6 (43).csv\")\n",
        "u01s44 = pd.read_csv(common_path_digit + \"Output Images - Sign 7 (44).csv\")\n",
        "u01s45 = pd.read_csv(common_path_digit + \"Output Images - Sign 8 (45).csv\")\n",
        "u01s46 = pd.read_csv(common_path_digit + \"Output Images - Sign 9 (46).csv\")"
      ],
      "metadata": {
        "execution": {
          "iopub.status.busy": "2022-07-18T06:52:25.387728Z",
          "iopub.execute_input": "2022-07-18T06:52:25.388646Z",
          "iopub.status.idle": "2022-07-18T06:52:25.492724Z",
          "shell.execute_reply.started": "2022-07-18T06:52:25.388607Z",
          "shell.execute_reply": "2022-07-18T06:52:25.491790Z"
        },
        "trusted": true,
        "id": "I6v7-pWwU5U0"
      },
      "execution_count": null,
      "outputs": []
    },
    {
      "cell_type": "markdown",
      "source": [
        "## User 2"
      ],
      "metadata": {
        "id": "E0fjYoizU5U1"
      }
    },
    {
      "cell_type": "code",
      "source": [
        "common_path_digit = \"/content/drive/MyDrive/kaggle/input/Bangla Sign Language Dataset CSV Files/Sign Digit Dataset CSV Files/Subject 02 - Female, 19/\"\n",
        "\n",
        "\n",
        "u02s37 = pd.read_csv(common_path_digit + \"Output Images - Sign 0 (37).csv\")\n",
        "u02s38 = pd.read_csv(common_path_digit + \"Output Images - Sign 1 (38).csv\")\n",
        "u02s39 = pd.read_csv(common_path_digit + \"Output Images - Sign 2 (39).csv\")\n",
        "u02s40 = pd.read_csv(common_path_digit + \"Output Images - Sign 3 (40).csv\")\n",
        "u02s41 = pd.read_csv(common_path_digit + \"Output Images - Sign 4 (41).csv\")\n",
        "u02s42 = pd.read_csv(common_path_digit + \"Output Images - Sign 5 (42).csv\")\n",
        "u02s43 = pd.read_csv(common_path_digit + \"Output Images - Sign 6 (43).csv\")\n",
        "u02s44 = pd.read_csv(common_path_digit + \"Output Images - Sign 7 (44).csv\")\n",
        "u02s45 = pd.read_csv(common_path_digit + \"Output Images - Sign 8 (45).csv\")\n",
        "u02s46 = pd.read_csv(common_path_digit + \"Output Images - Sign 9 (46).csv\")"
      ],
      "metadata": {
        "execution": {
          "iopub.status.busy": "2022-07-18T06:52:34.993594Z",
          "iopub.execute_input": "2022-07-18T06:52:34.993959Z",
          "iopub.status.idle": "2022-07-18T06:52:35.090950Z",
          "shell.execute_reply.started": "2022-07-18T06:52:34.993929Z",
          "shell.execute_reply": "2022-07-18T06:52:35.089713Z"
        },
        "trusted": true,
        "id": "k5vgEpJjU5U1"
      },
      "execution_count": null,
      "outputs": []
    },
    {
      "cell_type": "markdown",
      "source": [
        "## User 3 "
      ],
      "metadata": {
        "id": "BurFcmtSU5U1"
      }
    },
    {
      "cell_type": "code",
      "source": [
        "common_path_digit = \"/content/drive/MyDrive/kaggle/input/Bangla Sign Language Dataset CSV Files/Sign Digit Dataset CSV Files/Subject 03 - Male, 23/\"\n",
        "\n",
        "\n",
        "u03s37 = pd.read_csv(common_path_digit + \"Output Images - Sign 0 (37).csv\")\n",
        "u03s38 = pd.read_csv(common_path_digit + \"Output Images - Sign 1 (38).csv\")\n",
        "u03s39 = pd.read_csv(common_path_digit + \"Output Images - Sign 2 (39).csv\")\n",
        "u03s40 = pd.read_csv(common_path_digit + \"Output Images - Sign 3 (40).csv\")\n",
        "u03s41 = pd.read_csv(common_path_digit + \"Output Images - Sign 4 (41).csv\")\n",
        "u03s42 = pd.read_csv(common_path_digit + \"Output Images - Sign 5 (42).csv\")\n",
        "u03s43 = pd.read_csv(common_path_digit + \"Output Images - Sign 6 (43).csv\")\n",
        "u03s44 = pd.read_csv(common_path_digit + \"Output Images - Sign 7 (44).csv\")\n",
        "u03s45 = pd.read_csv(common_path_digit + \"Output Images - Sign 8 (45).csv\")\n",
        "u03s46 = pd.read_csv(common_path_digit + \"Output Images - Sign 9 (46).csv\")"
      ],
      "metadata": {
        "execution": {
          "iopub.status.busy": "2022-07-18T06:53:32.343222Z",
          "iopub.execute_input": "2022-07-18T06:53:32.343657Z",
          "iopub.status.idle": "2022-07-18T06:53:32.546035Z",
          "shell.execute_reply.started": "2022-07-18T06:53:32.343622Z",
          "shell.execute_reply": "2022-07-18T06:53:32.544864Z"
        },
        "trusted": true,
        "id": "FNeKWciEU5U1"
      },
      "execution_count": null,
      "outputs": []
    },
    {
      "cell_type": "markdown",
      "source": [
        "## User 4 "
      ],
      "metadata": {
        "id": "5KoEwlyIU5U1"
      }
    },
    {
      "cell_type": "code",
      "source": [
        "common_path_digit = \"/content/drive/MyDrive/kaggle/input/Bangla Sign Language Dataset CSV Files/Sign Digit Dataset CSV Files/Subject 04 - Male, 55/\"\n",
        "\n",
        "\n",
        "u04s37 = pd.read_csv(common_path_digit + \"Output Images - Sign 0 (37).csv\")\n",
        "u04s38 = pd.read_csv(common_path_digit + \"Output Images - Sign 1 (38).csv\")\n",
        "u04s39 = pd.read_csv(common_path_digit + \"Output Images - Sign 2 (39).csv\")\n",
        "u04s40 = pd.read_csv(common_path_digit + \"Output Images - Sign 3 (40).csv\")\n",
        "u04s41 = pd.read_csv(common_path_digit + \"Output Images - Sign 4 (41).csv\")\n",
        "u04s42 = pd.read_csv(common_path_digit + \"Output Images - Sign 5 (42).csv\")\n",
        "u04s43 = pd.read_csv(common_path_digit + \"Output Images - Sign 6 (43).csv\")\n",
        "u04s44 = pd.read_csv(common_path_digit + \"Output Images - Sign 7 (44).csv\")\n",
        "u04s45 = pd.read_csv(common_path_digit + \"Output Images - Sign 8 (45).csv\")\n",
        "u04s46 = pd.read_csv(common_path_digit + \"Output Images - Sign 9 (46).csv\")"
      ],
      "metadata": {
        "execution": {
          "iopub.status.busy": "2022-07-18T06:54:13.583639Z",
          "iopub.execute_input": "2022-07-18T06:54:13.584043Z",
          "iopub.status.idle": "2022-07-18T06:54:13.787610Z",
          "shell.execute_reply.started": "2022-07-18T06:54:13.584010Z",
          "shell.execute_reply": "2022-07-18T06:54:13.785252Z"
        },
        "trusted": true,
        "id": "HV5Odi2-U5U1"
      },
      "execution_count": null,
      "outputs": []
    },
    {
      "cell_type": "markdown",
      "source": [
        "## User 5 "
      ],
      "metadata": {
        "id": "sSHEpDLNU5U1"
      }
    },
    {
      "cell_type": "code",
      "source": [
        "common_path_digit = \"/content/drive/MyDrive/kaggle/input/Bangla Sign Language Dataset CSV Files/Sign Digit Dataset CSV Files/Subject 05 - Female, 23/\"\n",
        "\n",
        "\n",
        "u05s37 = pd.read_csv(common_path_digit + \"Output Images - Sign 0 (37).csv\")\n",
        "u05s38 = pd.read_csv(common_path_digit + \"Output Images - Sign 1 (38).csv\")\n",
        "u05s39 = pd.read_csv(common_path_digit + \"Output Images - Sign 2 (39).csv\")\n",
        "u05s40 = pd.read_csv(common_path_digit + \"Output Images - Sign 3 (40).csv\")\n",
        "u05s41 = pd.read_csv(common_path_digit + \"Output Images - Sign 4 (41).csv\")\n",
        "u05s42 = pd.read_csv(common_path_digit + \"Output Images - Sign 5 (42).csv\")\n",
        "u05s43 = pd.read_csv(common_path_digit + \"Output Images - Sign 6 (43).csv\")\n",
        "u05s44 = pd.read_csv(common_path_digit + \"Output Images - Sign 7 (44).csv\")\n",
        "u05s45 = pd.read_csv(common_path_digit + \"Output Images - Sign 8 (45).csv\")\n",
        "u05s46 = pd.read_csv(common_path_digit + \"Output Images - Sign 9 (46).csv\")"
      ],
      "metadata": {
        "execution": {
          "iopub.status.busy": "2022-07-18T06:54:46.977861Z",
          "iopub.execute_input": "2022-07-18T06:54:46.978267Z",
          "iopub.status.idle": "2022-07-18T06:54:47.208601Z",
          "shell.execute_reply.started": "2022-07-18T06:54:46.978235Z",
          "shell.execute_reply": "2022-07-18T06:54:47.207276Z"
        },
        "trusted": true,
        "id": "oFOcafhIU5U1"
      },
      "execution_count": null,
      "outputs": []
    },
    {
      "cell_type": "markdown",
      "source": [
        "## User 6 "
      ],
      "metadata": {
        "id": "xURCXZTCU5U2"
      }
    },
    {
      "cell_type": "code",
      "source": [
        "common_path_digit = \"/content/drive/MyDrive/kaggle/input/Bangla Sign Language Dataset CSV Files/Sign Digit Dataset CSV Files/Subject 06 - Female, 58/\"\n",
        "\n",
        "\n",
        "u06s37 = pd.read_csv(common_path_digit + \"Output Images - Sign 0 (37).csv\")\n",
        "u06s38 = pd.read_csv(common_path_digit + \"Output Images - Sign 1 (38).csv\")\n",
        "u06s39 = pd.read_csv(common_path_digit + \"Output Images - Sign 2 (39).csv\")\n",
        "u06s40 = pd.read_csv(common_path_digit + \"Output Images - Sign 3 (40).csv\")\n",
        "u06s41 = pd.read_csv(common_path_digit + \"Output Images - Sign 4 (41).csv\")\n",
        "u06s42 = pd.read_csv(common_path_digit + \"Output Images - Sign 5 (42).csv\")\n",
        "u06s43 = pd.read_csv(common_path_digit + \"Output Images - Sign 6 (43).csv\")\n",
        "u06s44 = pd.read_csv(common_path_digit + \"Output Images - Sign 7 (44).csv\")\n",
        "u06s45 = pd.read_csv(common_path_digit + \"Output Images - Sign 8 (45).csv\")\n",
        "u06s46 = pd.read_csv(common_path_digit + \"Output Images - Sign 9 (46).csv\")"
      ],
      "metadata": {
        "execution": {
          "iopub.status.busy": "2022-07-18T06:55:22.393476Z",
          "iopub.execute_input": "2022-07-18T06:55:22.394030Z",
          "iopub.status.idle": "2022-07-18T06:55:22.537621Z",
          "shell.execute_reply.started": "2022-07-18T06:55:22.393976Z",
          "shell.execute_reply": "2022-07-18T06:55:22.536222Z"
        },
        "trusted": true,
        "id": "oT5tvCR-U5U2"
      },
      "execution_count": null,
      "outputs": []
    },
    {
      "cell_type": "markdown",
      "source": [
        "## User 7  "
      ],
      "metadata": {
        "id": "_V-ksBm_U5U2"
      }
    },
    {
      "cell_type": "code",
      "source": [
        "common_path_digit = \"/content/drive/MyDrive/kaggle/input/Bangla Sign Language Dataset CSV Files/Sign Digit Dataset CSV Files/Subject 07 - Male, 62/\"\n",
        "\n",
        "\n",
        "u07s37 = pd.read_csv(common_path_digit + \"Output Images - Sign 0 (37).csv\")\n",
        "u07s38 = pd.read_csv(common_path_digit + \"Output Images - Sign 1 (38).csv\")\n",
        "u07s39 = pd.read_csv(common_path_digit + \"Output Images - Sign 2 (39).csv\")\n",
        "u07s40 = pd.read_csv(common_path_digit + \"Output Images - Sign 3 (40).csv\")\n",
        "u07s41 = pd.read_csv(common_path_digit + \"Output Images - Sign 4 (41).csv\")\n",
        "u07s42 = pd.read_csv(common_path_digit + \"Output Images - Sign 5 (42).csv\")\n",
        "u07s43 = pd.read_csv(common_path_digit + \"Output Images - Sign 6 (43).csv\")\n",
        "u07s44 = pd.read_csv(common_path_digit + \"Output Images - Sign 7 (44).csv\")\n",
        "u07s45 = pd.read_csv(common_path_digit + \"Output Images - Sign 8 (45).csv\")\n",
        "u07s46 = pd.read_csv(common_path_digit + \"Output Images - Sign 9 (46).csv\")"
      ],
      "metadata": {
        "execution": {
          "iopub.status.busy": "2022-07-18T06:55:49.025411Z",
          "iopub.execute_input": "2022-07-18T06:55:49.025798Z",
          "iopub.status.idle": "2022-07-18T06:55:49.162309Z",
          "shell.execute_reply.started": "2022-07-18T06:55:49.025769Z",
          "shell.execute_reply": "2022-07-18T06:55:49.161053Z"
        },
        "trusted": true,
        "id": "dOejdtXlU5U2"
      },
      "execution_count": null,
      "outputs": []
    },
    {
      "cell_type": "markdown",
      "source": [
        "## User 8 "
      ],
      "metadata": {
        "id": "uVGN_SqiU5U2"
      }
    },
    {
      "cell_type": "code",
      "source": [
        "common_path_digit = \"/content/drive/MyDrive/kaggle/input/Bangla Sign Language Dataset CSV Files/Sign Digit Dataset CSV Files/Subject 08 - Male, 23/\"\n",
        "\n",
        "\n",
        "u08s37 = pd.read_csv(common_path_digit + \"Output Images - Sign 0 (37).csv\")\n",
        "u08s38 = pd.read_csv(common_path_digit + \"Output Images - Sign 1 (38).csv\")\n",
        "u08s39 = pd.read_csv(common_path_digit + \"Output Images - Sign 2 (39).csv\")\n",
        "u08s40 = pd.read_csv(common_path_digit + \"Output Images - Sign 3 (40).csv\")\n",
        "u08s41 = pd.read_csv(common_path_digit + \"Output Images - Sign 4 (41).csv\")\n",
        "u08s42 = pd.read_csv(common_path_digit + \"Output Images - Sign 5 (42).csv\")\n",
        "u08s43 = pd.read_csv(common_path_digit + \"Output Images - Sign 6 (43).csv\")\n",
        "u08s44 = pd.read_csv(common_path_digit + \"Output Images - Sign 7 (44).csv\")\n",
        "u08s45 = pd.read_csv(common_path_digit + \"Output Images - Sign 8 (45).csv\")\n",
        "u08s46 = pd.read_csv(common_path_digit + \"Output Images - Sign 9 (46).csv\")"
      ],
      "metadata": {
        "execution": {
          "iopub.status.busy": "2022-07-18T06:56:13.512120Z",
          "iopub.execute_input": "2022-07-18T06:56:13.512537Z",
          "iopub.status.idle": "2022-07-18T06:56:13.656680Z",
          "shell.execute_reply.started": "2022-07-18T06:56:13.512502Z",
          "shell.execute_reply": "2022-07-18T06:56:13.655567Z"
        },
        "trusted": true,
        "id": "A0quHGFgU5U2"
      },
      "execution_count": null,
      "outputs": []
    },
    {
      "cell_type": "markdown",
      "source": [
        "## User 9 "
      ],
      "metadata": {
        "id": "R_8NHTI_U5U2"
      }
    },
    {
      "cell_type": "code",
      "source": [
        "common_path_digit = \"/content/drive/MyDrive/kaggle/input/Bangla Sign Language Dataset CSV Files/Sign Digit Dataset CSV Files/Subject 09 - Female, 19/\"\n",
        "\n",
        "\n",
        "u09s37 = pd.read_csv(common_path_digit + \"Output Images - Sign 0 (37).csv\")\n",
        "u09s38 = pd.read_csv(common_path_digit + \"Output Images - Sign 1 (38).csv\")\n",
        "u09s39 = pd.read_csv(common_path_digit + \"Output Images - Sign 2 (39).csv\")\n",
        "u09s40 = pd.read_csv(common_path_digit + \"Output Images - Sign 3 (40).csv\")\n",
        "u09s41 = pd.read_csv(common_path_digit + \"Output Images - Sign 4 (41).csv\")\n",
        "u09s42 = pd.read_csv(common_path_digit + \"Output Images - Sign 5 (42).csv\")\n",
        "u09s43 = pd.read_csv(common_path_digit + \"Output Images - Sign 6 (43).csv\")\n",
        "u09s44 = pd.read_csv(common_path_digit + \"Output Images - Sign 7 (44).csv\")\n",
        "u09s45 = pd.read_csv(common_path_digit + \"Output Images - Sign 8 (45).csv\")\n",
        "u09s46 = pd.read_csv(common_path_digit + \"Output Images - Sign 9 (46).csv\")"
      ],
      "metadata": {
        "execution": {
          "iopub.status.busy": "2022-07-18T06:56:53.414079Z",
          "iopub.execute_input": "2022-07-18T06:56:53.414509Z",
          "iopub.status.idle": "2022-07-18T06:56:53.551490Z",
          "shell.execute_reply.started": "2022-07-18T06:56:53.414474Z",
          "shell.execute_reply": "2022-07-18T06:56:53.550325Z"
        },
        "trusted": true,
        "id": "-Cz7gFCsU5U3"
      },
      "execution_count": null,
      "outputs": []
    },
    {
      "cell_type": "markdown",
      "source": [
        "## User 10 "
      ],
      "metadata": {
        "id": "pLDSV2cRU5U3"
      }
    },
    {
      "cell_type": "code",
      "source": [
        "common_path_digit = \"/content/drive/MyDrive/kaggle/input/Bangla Sign Language Dataset CSV Files/Sign Digit Dataset CSV Files/Subject 10 - Male, 23/\"\n",
        "\n",
        "\n",
        "u10s37 = pd.read_csv(common_path_digit + \"Output Images - Sign 0 (37).csv\")\n",
        "u10s38 = pd.read_csv(common_path_digit + \"Output Images - Sign 1 (38).csv\")\n",
        "u10s39 = pd.read_csv(common_path_digit + \"Output Images - Sign 2 (39).csv\")\n",
        "u10s40 = pd.read_csv(common_path_digit + \"Output Images - Sign 3 (40).csv\")\n",
        "u10s41 = pd.read_csv(common_path_digit + \"Output Images - Sign 4 (41).csv\")\n",
        "u10s42 = pd.read_csv(common_path_digit + \"Output Images - Sign 5 (42).csv\")\n",
        "u10s43 = pd.read_csv(common_path_digit + \"Output Images - Sign 6 (43).csv\")\n",
        "u10s44 = pd.read_csv(common_path_digit + \"Output Images - Sign 7 (44).csv\")\n",
        "u10s45 = pd.read_csv(common_path_digit + \"Output Images - Sign 8 (45).csv\")\n",
        "u10s46 = pd.read_csv(common_path_digit + \"Output Images - Sign 9 (46).csv\")"
      ],
      "metadata": {
        "execution": {
          "iopub.status.busy": "2022-07-18T06:57:28.953693Z",
          "iopub.execute_input": "2022-07-18T06:57:28.954884Z",
          "iopub.status.idle": "2022-07-18T06:57:29.098248Z",
          "shell.execute_reply.started": "2022-07-18T06:57:28.954822Z",
          "shell.execute_reply": "2022-07-18T06:57:29.097311Z"
        },
        "trusted": true,
        "id": "JEiSuF5DU5U3"
      },
      "execution_count": null,
      "outputs": []
    },
    {
      "cell_type": "code",
      "source": [
        "df = pd.concat([u01s00, u01s01, u01s02, u01s03, u01s04, u01s05, u01s06, u01s07, u01s08, u01s09,\n",
        "                u01s10, u01s11, u01s12, u01s13, u01s14, u01s15, u01s16, u01s17, u01s18, u01s19,\n",
        "                u01s20, u01s21, u01s22, u01s23, u01s24, u01s25, u01s26, u01s27, u01s28, u01s29,\n",
        "                u01s30, u01s31, u01s32, u01s33, u01s34, u01s35, u01s36, u01s37, u01s38, u01s39,\n",
        "                u01s40, u01s41, u01s42, u01s43, u01s44, u01s45, u01s46, \n",
        "                \n",
        "                u02s00, u02s01, u02s02, u02s03, u02s04, u02s05, u02s06, u02s07, u02s08, u02s09,\n",
        "                u02s10, u02s11, u02s12, u02s13, u02s14, u02s15, u02s16, u02s17, u02s18, u02s19,\n",
        "                u02s20, u02s21, u02s22, u02s23, u02s24, u02s25, u02s26, u02s27, u02s28, u02s29,\n",
        "                u02s30, u02s31, u02s32, u02s33, u02s34, u02s35, u02s36, u02s37, u02s38, u02s39,\n",
        "                u02s40, u02s41, u02s42, u02s43, u02s44, u02s45, u02s46, \n",
        "                \n",
        "                u03s00, u03s01, u03s02, u03s03, u03s04, u03s05, u03s06, u03s07, u03s08, u03s09,\n",
        "                u03s10, u03s11, u03s12, u03s13, u03s14, u03s15, u03s16, u03s17, u03s18, u03s19,\n",
        "                u03s20, u03s21, u03s22, u03s23, u03s24, u03s25, u03s26, u03s27, u03s28, u03s29,\n",
        "                u03s30, u03s31, u03s32, u03s33, u03s34, u03s35, u03s36, u03s37, u03s38, u03s39,\n",
        "                u03s40, u03s41, u03s42, u03s43, u03s44, u03s45, u03s46, \n",
        "                \n",
        "                u04s00, u04s01, u04s02, u04s03, u04s04, u04s05, u04s06, u04s07, u04s08, u04s09,\n",
        "                u04s10, u04s11, u04s12, u04s13, u04s14, u04s15, u04s16, u04s17, u04s18, u04s19,\n",
        "                u04s20, u04s21, u04s22, u04s23, u04s24, u04s25, u04s26, u04s27, u04s28, u04s29,\n",
        "                u04s30, u04s31, u04s32, u04s33, u04s34, u04s35, u04s36, u04s37, u04s38, u04s39,\n",
        "                u04s40, u04s41, u04s42, u04s43, u04s44, u04s45, u04s46, \n",
        "                \n",
        "                u05s00, u05s01, u05s02, u05s03, u05s04, u05s05, u05s06, u05s07, u05s08, u05s09,\n",
        "                u05s10, u05s11, u05s12, u05s13, u05s14, u05s15, u05s16, u05s17, u05s18, u05s19,\n",
        "                u05s20, u05s21, u05s22, u05s23, u05s24, u05s25, u05s26, u05s27, u05s28, u05s29,\n",
        "                u05s30, u05s31, u05s32, u05s33, u05s34, u05s35, u05s36, u05s37, u05s38, u05s39,\n",
        "                u05s40, u05s41, u05s42, u05s43, u05s44, u05s45, u05s46, \n",
        "                \n",
        "                u06s00, u06s01, u06s02, u06s03, u06s04, u06s05, u06s06, u06s07, u06s08, u06s09,\n",
        "                u06s10, u06s11, u06s12, u06s13, u06s14, u06s15, u06s16, u06s17, u06s18, u06s19,\n",
        "                u06s20, u06s21, u06s22, u06s23, u06s24, u06s25, u06s26, u06s27, u06s28, u06s29,\n",
        "                u06s30, u06s31, u06s32, u06s33, u06s34, u06s35, u06s36, u06s37, u06s38, u06s39,\n",
        "                u06s40, u06s41, u06s42, u06s43, u06s44, u06s45, u06s46, \n",
        "                \n",
        "                u07s00, u07s01, u07s02, u07s03, u07s04, u07s05, u07s06, u07s07, u07s08, u07s09,\n",
        "                u07s10, u07s11, u07s12, u07s13, u07s14, u07s15, u07s16, u07s17, u07s18, u07s19,\n",
        "                u07s20, u07s21, u07s22, u07s23, u07s24, u07s25, u07s26, u07s27, u07s28, u07s29,\n",
        "                u07s30, u07s31, u07s32, u07s33, u07s34, u07s35, u07s36, u07s37, u07s38, u07s39,\n",
        "                u07s40, u07s41, u07s42, u07s43, u07s44, u07s45, u07s46, \n",
        "                \n",
        "                u08s00, u08s01, u08s02, u08s03, u08s04, u08s05, u08s06, u08s07, u08s08, u08s09,\n",
        "                u08s10, u08s11, u08s12, u08s13, u08s14, u08s15, u08s16, u08s17, u08s18, u08s19,\n",
        "                u08s20, u08s21, u08s22, u08s23, u08s24, u08s25, u08s26, u08s27, u08s28, u08s29,\n",
        "                u08s30, u08s31, u08s32, u08s33, u08s34, u08s35, u08s36, u08s37, u08s38, u08s39,\n",
        "                u08s40, u08s41, u08s42, u08s43, u08s44, u08s45, u08s46, \n",
        "                \n",
        "                u09s00, u09s01, u09s02, u09s03, u09s04, u09s05, u09s06, u09s07, u09s08, u09s09,\n",
        "                u09s10, u09s11, u09s12, u09s13, u09s14, u09s15, u09s16, u09s17, u09s18, u09s19,\n",
        "                u09s20, u09s21, u09s22, u09s23, u09s24, u09s25, u09s26, u09s27, u09s28, u09s29,\n",
        "                u09s30, u09s31, u09s32, u09s33, u09s34, u09s35, u09s36, u09s37, u09s38, u09s39,\n",
        "                u09s40, u09s41, u09s42, u09s43, u09s44, u09s45, u09s46, \n",
        "                \n",
        "                u10s00, u10s01, u10s02, u10s03, u10s04, u10s05, u10s06, u10s07, u10s08, u10s09,\n",
        "                u10s10, u10s11, u10s12, u10s13, u10s14, u10s15, u10s16, u10s17, u10s18, u10s19,\n",
        "                u10s20, u10s21, u10s22, u10s23, u10s24, u10s25, u10s26, u10s27, u10s28, u10s29,\n",
        "                u10s30, u10s31, u10s32, u10s33, u10s34, u10s35, u10s36, u10s37, u10s38, u10s39,\n",
        "                u10s40, u10s41, u10s42, u10s43, u10s44, u10s45, u10s46\n",
        "            \n",
        "               ])"
      ],
      "metadata": {
        "execution": {
          "iopub.status.busy": "2022-07-18T07:23:02.509153Z",
          "iopub.execute_input": "2022-07-18T07:23:02.509596Z",
          "iopub.status.idle": "2022-07-18T07:23:02.687364Z",
          "shell.execute_reply.started": "2022-07-18T07:23:02.509560Z",
          "shell.execute_reply": "2022-07-18T07:23:02.686249Z"
        },
        "trusted": true,
        "id": "0NErHGYCU5U3"
      },
      "execution_count": null,
      "outputs": []
    },
    {
      "cell_type": "code",
      "source": [
        "df"
      ],
      "metadata": {
        "execution": {
          "iopub.status.busy": "2022-07-18T07:23:05.566294Z",
          "iopub.execute_input": "2022-07-18T07:23:05.566820Z",
          "iopub.status.idle": "2022-07-18T07:23:05.637553Z",
          "shell.execute_reply.started": "2022-07-18T07:23:05.566777Z",
          "shell.execute_reply": "2022-07-18T07:23:05.636108Z"
        },
        "trusted": true,
        "colab": {
          "base_uri": "https://localhost:8080/",
          "height": 956
        },
        "id": "-jQjpor2U5U3",
        "outputId": "fd7ed212-56cc-424a-ee53-7d9c1c0267e8"
      },
      "execution_count": null,
      "outputs": [
        {
          "output_type": "execute_result",
          "data": {
            "text/plain": [
              "                                   Single Image Frame       x00       y00  \\\n",
              "0                                F:\\sign 00\\x (1).jpg  0.203971  0.577323   \n",
              "1                                F:\\sign 00\\x (2).jpg  0.218817  0.588807   \n",
              "2                                F:\\sign 00\\x (3).jpg  0.223006  0.588451   \n",
              "3                                F:\\sign 00\\x (4).jpg  0.230761  0.589568   \n",
              "4                                F:\\sign 00\\x (5).jpg  0.398876  0.586115   \n",
              "..                                                ...       ...       ...   \n",
              "95  D://BSL Digits//User 10 - Gazi (Male, 23)//Sig...  0.424403  0.281642   \n",
              "96  D://BSL Digits//User 10 - Gazi (Male, 23)//Sig...  0.426137  0.213340   \n",
              "97  D://BSL Digits//User 10 - Gazi (Male, 23)//Sig...  0.371283  0.228021   \n",
              "98  D://BSL Digits//User 10 - Gazi (Male, 23)//Sig...  0.687748  0.337160   \n",
              "99  D://BSL Digits//User 10 - Gazi (Male, 23)//Sig...  0.347475  0.394564   \n",
              "\n",
              "         z00       x01       y01       z01       x02       y02       z02  ...  \\\n",
              "0  -0.000069  0.277499  0.653642 -0.128615  0.349422  0.654397 -0.204252  ...   \n",
              "1  -0.000126  0.302026  0.650693 -0.121038  0.379824  0.642501 -0.188132  ...   \n",
              "2  -0.000106  0.301983  0.653061 -0.119562  0.377797  0.651146 -0.190769  ...   \n",
              "3  -0.000094  0.309036  0.654769 -0.126211  0.387939  0.650713 -0.197971  ...   \n",
              "4  -0.000059  0.325789  0.500907  0.033454  0.289552  0.399537  0.036959  ...   \n",
              "..       ...       ...       ...       ...       ...       ...       ...  ...   \n",
              "95 -0.000198  0.433599  0.475581  0.027444  0.491697  0.590232  0.037058  ...   \n",
              "96 -0.000172  0.432987  0.429740  0.037212  0.482009  0.576919  0.041866  ...   \n",
              "97 -0.000161  0.374456  0.410967  0.022436  0.428811  0.542679  0.021737  ...   \n",
              "98 -0.000031  0.667265  0.496169 -0.111250  0.579142  0.622508 -0.153638  ...   \n",
              "99 -0.000049  0.363841  0.570964  0.015916  0.434531  0.672895  0.023088  ...   \n",
              "\n",
              "         y18       z18       x19       y19       z19       x20       y20  \\\n",
              "0   0.293503 -0.069548  0.425456  0.282663 -0.079171  0.462041  0.290448   \n",
              "1   0.290065 -0.069467  0.428476  0.278553 -0.080080  0.464764  0.293226   \n",
              "2   0.294699 -0.089741  0.434579  0.285591 -0.099008  0.470683  0.302903   \n",
              "3   0.292168 -0.090483  0.449239  0.282159 -0.104818  0.486247  0.296807   \n",
              "4   0.265049 -0.168310  0.442485  0.195248 -0.201740  0.411932  0.148366   \n",
              "..       ...       ...       ...       ...       ...       ...       ...   \n",
              "95  0.249013  0.199288  0.658447  0.275871  0.249225  0.623743  0.279096   \n",
              "96  0.182626  0.140381  0.700038  0.210771  0.205640  0.657697  0.214722   \n",
              "97  0.219787  0.106833  0.630926  0.247164  0.167227  0.591547  0.250094   \n",
              "98  0.171462 -0.151528  0.468479  0.189089 -0.189194  0.514254  0.228651   \n",
              "99  0.318742  0.206709  0.609432  0.354276  0.249826  0.580130  0.358544   \n",
              "\n",
              "         z20  Label  Unnamed: 0  \n",
              "0  -0.073725      0         NaN  \n",
              "1  -0.075531      0         NaN  \n",
              "2  -0.091572      0         NaN  \n",
              "3  -0.102231      0         NaN  \n",
              "4  -0.227269      0         NaN  \n",
              "..       ...    ...         ...  \n",
              "95  0.268745     46        95.0  \n",
              "96  0.237304     46        96.0  \n",
              "97  0.196764     46        97.0  \n",
              "98 -0.192721     46        98.0  \n",
              "99  0.278063     46        99.0  \n",
              "\n",
              "[47000 rows x 66 columns]"
            ],
            "text/html": [
              "\n",
              "  <div id=\"df-875bbc4e-850e-4980-8842-24dfbe4df782\">\n",
              "    <div class=\"colab-df-container\">\n",
              "      <div>\n",
              "<style scoped>\n",
              "    .dataframe tbody tr th:only-of-type {\n",
              "        vertical-align: middle;\n",
              "    }\n",
              "\n",
              "    .dataframe tbody tr th {\n",
              "        vertical-align: top;\n",
              "    }\n",
              "\n",
              "    .dataframe thead th {\n",
              "        text-align: right;\n",
              "    }\n",
              "</style>\n",
              "<table border=\"1\" class=\"dataframe\">\n",
              "  <thead>\n",
              "    <tr style=\"text-align: right;\">\n",
              "      <th></th>\n",
              "      <th>Single Image Frame</th>\n",
              "      <th>x00</th>\n",
              "      <th>y00</th>\n",
              "      <th>z00</th>\n",
              "      <th>x01</th>\n",
              "      <th>y01</th>\n",
              "      <th>z01</th>\n",
              "      <th>x02</th>\n",
              "      <th>y02</th>\n",
              "      <th>z02</th>\n",
              "      <th>...</th>\n",
              "      <th>y18</th>\n",
              "      <th>z18</th>\n",
              "      <th>x19</th>\n",
              "      <th>y19</th>\n",
              "      <th>z19</th>\n",
              "      <th>x20</th>\n",
              "      <th>y20</th>\n",
              "      <th>z20</th>\n",
              "      <th>Label</th>\n",
              "      <th>Unnamed: 0</th>\n",
              "    </tr>\n",
              "  </thead>\n",
              "  <tbody>\n",
              "    <tr>\n",
              "      <th>0</th>\n",
              "      <td>F:\\sign 00\\x (1).jpg</td>\n",
              "      <td>0.203971</td>\n",
              "      <td>0.577323</td>\n",
              "      <td>-0.000069</td>\n",
              "      <td>0.277499</td>\n",
              "      <td>0.653642</td>\n",
              "      <td>-0.128615</td>\n",
              "      <td>0.349422</td>\n",
              "      <td>0.654397</td>\n",
              "      <td>-0.204252</td>\n",
              "      <td>...</td>\n",
              "      <td>0.293503</td>\n",
              "      <td>-0.069548</td>\n",
              "      <td>0.425456</td>\n",
              "      <td>0.282663</td>\n",
              "      <td>-0.079171</td>\n",
              "      <td>0.462041</td>\n",
              "      <td>0.290448</td>\n",
              "      <td>-0.073725</td>\n",
              "      <td>0</td>\n",
              "      <td>NaN</td>\n",
              "    </tr>\n",
              "    <tr>\n",
              "      <th>1</th>\n",
              "      <td>F:\\sign 00\\x (2).jpg</td>\n",
              "      <td>0.218817</td>\n",
              "      <td>0.588807</td>\n",
              "      <td>-0.000126</td>\n",
              "      <td>0.302026</td>\n",
              "      <td>0.650693</td>\n",
              "      <td>-0.121038</td>\n",
              "      <td>0.379824</td>\n",
              "      <td>0.642501</td>\n",
              "      <td>-0.188132</td>\n",
              "      <td>...</td>\n",
              "      <td>0.290065</td>\n",
              "      <td>-0.069467</td>\n",
              "      <td>0.428476</td>\n",
              "      <td>0.278553</td>\n",
              "      <td>-0.080080</td>\n",
              "      <td>0.464764</td>\n",
              "      <td>0.293226</td>\n",
              "      <td>-0.075531</td>\n",
              "      <td>0</td>\n",
              "      <td>NaN</td>\n",
              "    </tr>\n",
              "    <tr>\n",
              "      <th>2</th>\n",
              "      <td>F:\\sign 00\\x (3).jpg</td>\n",
              "      <td>0.223006</td>\n",
              "      <td>0.588451</td>\n",
              "      <td>-0.000106</td>\n",
              "      <td>0.301983</td>\n",
              "      <td>0.653061</td>\n",
              "      <td>-0.119562</td>\n",
              "      <td>0.377797</td>\n",
              "      <td>0.651146</td>\n",
              "      <td>-0.190769</td>\n",
              "      <td>...</td>\n",
              "      <td>0.294699</td>\n",
              "      <td>-0.089741</td>\n",
              "      <td>0.434579</td>\n",
              "      <td>0.285591</td>\n",
              "      <td>-0.099008</td>\n",
              "      <td>0.470683</td>\n",
              "      <td>0.302903</td>\n",
              "      <td>-0.091572</td>\n",
              "      <td>0</td>\n",
              "      <td>NaN</td>\n",
              "    </tr>\n",
              "    <tr>\n",
              "      <th>3</th>\n",
              "      <td>F:\\sign 00\\x (4).jpg</td>\n",
              "      <td>0.230761</td>\n",
              "      <td>0.589568</td>\n",
              "      <td>-0.000094</td>\n",
              "      <td>0.309036</td>\n",
              "      <td>0.654769</td>\n",
              "      <td>-0.126211</td>\n",
              "      <td>0.387939</td>\n",
              "      <td>0.650713</td>\n",
              "      <td>-0.197971</td>\n",
              "      <td>...</td>\n",
              "      <td>0.292168</td>\n",
              "      <td>-0.090483</td>\n",
              "      <td>0.449239</td>\n",
              "      <td>0.282159</td>\n",
              "      <td>-0.104818</td>\n",
              "      <td>0.486247</td>\n",
              "      <td>0.296807</td>\n",
              "      <td>-0.102231</td>\n",
              "      <td>0</td>\n",
              "      <td>NaN</td>\n",
              "    </tr>\n",
              "    <tr>\n",
              "      <th>4</th>\n",
              "      <td>F:\\sign 00\\x (5).jpg</td>\n",
              "      <td>0.398876</td>\n",
              "      <td>0.586115</td>\n",
              "      <td>-0.000059</td>\n",
              "      <td>0.325789</td>\n",
              "      <td>0.500907</td>\n",
              "      <td>0.033454</td>\n",
              "      <td>0.289552</td>\n",
              "      <td>0.399537</td>\n",
              "      <td>0.036959</td>\n",
              "      <td>...</td>\n",
              "      <td>0.265049</td>\n",
              "      <td>-0.168310</td>\n",
              "      <td>0.442485</td>\n",
              "      <td>0.195248</td>\n",
              "      <td>-0.201740</td>\n",
              "      <td>0.411932</td>\n",
              "      <td>0.148366</td>\n",
              "      <td>-0.227269</td>\n",
              "      <td>0</td>\n",
              "      <td>NaN</td>\n",
              "    </tr>\n",
              "    <tr>\n",
              "      <th>...</th>\n",
              "      <td>...</td>\n",
              "      <td>...</td>\n",
              "      <td>...</td>\n",
              "      <td>...</td>\n",
              "      <td>...</td>\n",
              "      <td>...</td>\n",
              "      <td>...</td>\n",
              "      <td>...</td>\n",
              "      <td>...</td>\n",
              "      <td>...</td>\n",
              "      <td>...</td>\n",
              "      <td>...</td>\n",
              "      <td>...</td>\n",
              "      <td>...</td>\n",
              "      <td>...</td>\n",
              "      <td>...</td>\n",
              "      <td>...</td>\n",
              "      <td>...</td>\n",
              "      <td>...</td>\n",
              "      <td>...</td>\n",
              "      <td>...</td>\n",
              "    </tr>\n",
              "    <tr>\n",
              "      <th>95</th>\n",
              "      <td>D://BSL Digits//User 10 - Gazi (Male, 23)//Sig...</td>\n",
              "      <td>0.424403</td>\n",
              "      <td>0.281642</td>\n",
              "      <td>-0.000198</td>\n",
              "      <td>0.433599</td>\n",
              "      <td>0.475581</td>\n",
              "      <td>0.027444</td>\n",
              "      <td>0.491697</td>\n",
              "      <td>0.590232</td>\n",
              "      <td>0.037058</td>\n",
              "      <td>...</td>\n",
              "      <td>0.249013</td>\n",
              "      <td>0.199288</td>\n",
              "      <td>0.658447</td>\n",
              "      <td>0.275871</td>\n",
              "      <td>0.249225</td>\n",
              "      <td>0.623743</td>\n",
              "      <td>0.279096</td>\n",
              "      <td>0.268745</td>\n",
              "      <td>46</td>\n",
              "      <td>95.0</td>\n",
              "    </tr>\n",
              "    <tr>\n",
              "      <th>96</th>\n",
              "      <td>D://BSL Digits//User 10 - Gazi (Male, 23)//Sig...</td>\n",
              "      <td>0.426137</td>\n",
              "      <td>0.213340</td>\n",
              "      <td>-0.000172</td>\n",
              "      <td>0.432987</td>\n",
              "      <td>0.429740</td>\n",
              "      <td>0.037212</td>\n",
              "      <td>0.482009</td>\n",
              "      <td>0.576919</td>\n",
              "      <td>0.041866</td>\n",
              "      <td>...</td>\n",
              "      <td>0.182626</td>\n",
              "      <td>0.140381</td>\n",
              "      <td>0.700038</td>\n",
              "      <td>0.210771</td>\n",
              "      <td>0.205640</td>\n",
              "      <td>0.657697</td>\n",
              "      <td>0.214722</td>\n",
              "      <td>0.237304</td>\n",
              "      <td>46</td>\n",
              "      <td>96.0</td>\n",
              "    </tr>\n",
              "    <tr>\n",
              "      <th>97</th>\n",
              "      <td>D://BSL Digits//User 10 - Gazi (Male, 23)//Sig...</td>\n",
              "      <td>0.371283</td>\n",
              "      <td>0.228021</td>\n",
              "      <td>-0.000161</td>\n",
              "      <td>0.374456</td>\n",
              "      <td>0.410967</td>\n",
              "      <td>0.022436</td>\n",
              "      <td>0.428811</td>\n",
              "      <td>0.542679</td>\n",
              "      <td>0.021737</td>\n",
              "      <td>...</td>\n",
              "      <td>0.219787</td>\n",
              "      <td>0.106833</td>\n",
              "      <td>0.630926</td>\n",
              "      <td>0.247164</td>\n",
              "      <td>0.167227</td>\n",
              "      <td>0.591547</td>\n",
              "      <td>0.250094</td>\n",
              "      <td>0.196764</td>\n",
              "      <td>46</td>\n",
              "      <td>97.0</td>\n",
              "    </tr>\n",
              "    <tr>\n",
              "      <th>98</th>\n",
              "      <td>D://BSL Digits//User 10 - Gazi (Male, 23)//Sig...</td>\n",
              "      <td>0.687748</td>\n",
              "      <td>0.337160</td>\n",
              "      <td>-0.000031</td>\n",
              "      <td>0.667265</td>\n",
              "      <td>0.496169</td>\n",
              "      <td>-0.111250</td>\n",
              "      <td>0.579142</td>\n",
              "      <td>0.622508</td>\n",
              "      <td>-0.153638</td>\n",
              "      <td>...</td>\n",
              "      <td>0.171462</td>\n",
              "      <td>-0.151528</td>\n",
              "      <td>0.468479</td>\n",
              "      <td>0.189089</td>\n",
              "      <td>-0.189194</td>\n",
              "      <td>0.514254</td>\n",
              "      <td>0.228651</td>\n",
              "      <td>-0.192721</td>\n",
              "      <td>46</td>\n",
              "      <td>98.0</td>\n",
              "    </tr>\n",
              "    <tr>\n",
              "      <th>99</th>\n",
              "      <td>D://BSL Digits//User 10 - Gazi (Male, 23)//Sig...</td>\n",
              "      <td>0.347475</td>\n",
              "      <td>0.394564</td>\n",
              "      <td>-0.000049</td>\n",
              "      <td>0.363841</td>\n",
              "      <td>0.570964</td>\n",
              "      <td>0.015916</td>\n",
              "      <td>0.434531</td>\n",
              "      <td>0.672895</td>\n",
              "      <td>0.023088</td>\n",
              "      <td>...</td>\n",
              "      <td>0.318742</td>\n",
              "      <td>0.206709</td>\n",
              "      <td>0.609432</td>\n",
              "      <td>0.354276</td>\n",
              "      <td>0.249826</td>\n",
              "      <td>0.580130</td>\n",
              "      <td>0.358544</td>\n",
              "      <td>0.278063</td>\n",
              "      <td>46</td>\n",
              "      <td>99.0</td>\n",
              "    </tr>\n",
              "  </tbody>\n",
              "</table>\n",
              "<p>47000 rows × 66 columns</p>\n",
              "</div>\n",
              "      <button class=\"colab-df-convert\" onclick=\"convertToInteractive('df-875bbc4e-850e-4980-8842-24dfbe4df782')\"\n",
              "              title=\"Convert this dataframe to an interactive table.\"\n",
              "              style=\"display:none;\">\n",
              "        \n",
              "  <svg xmlns=\"http://www.w3.org/2000/svg\" height=\"24px\"viewBox=\"0 0 24 24\"\n",
              "       width=\"24px\">\n",
              "    <path d=\"M0 0h24v24H0V0z\" fill=\"none\"/>\n",
              "    <path d=\"M18.56 5.44l.94 2.06.94-2.06 2.06-.94-2.06-.94-.94-2.06-.94 2.06-2.06.94zm-11 1L8.5 8.5l.94-2.06 2.06-.94-2.06-.94L8.5 2.5l-.94 2.06-2.06.94zm10 10l.94 2.06.94-2.06 2.06-.94-2.06-.94-.94-2.06-.94 2.06-2.06.94z\"/><path d=\"M17.41 7.96l-1.37-1.37c-.4-.4-.92-.59-1.43-.59-.52 0-1.04.2-1.43.59L10.3 9.45l-7.72 7.72c-.78.78-.78 2.05 0 2.83L4 21.41c.39.39.9.59 1.41.59.51 0 1.02-.2 1.41-.59l7.78-7.78 2.81-2.81c.8-.78.8-2.07 0-2.86zM5.41 20L4 18.59l7.72-7.72 1.47 1.35L5.41 20z\"/>\n",
              "  </svg>\n",
              "      </button>\n",
              "      \n",
              "  <style>\n",
              "    .colab-df-container {\n",
              "      display:flex;\n",
              "      flex-wrap:wrap;\n",
              "      gap: 12px;\n",
              "    }\n",
              "\n",
              "    .colab-df-convert {\n",
              "      background-color: #E8F0FE;\n",
              "      border: none;\n",
              "      border-radius: 50%;\n",
              "      cursor: pointer;\n",
              "      display: none;\n",
              "      fill: #1967D2;\n",
              "      height: 32px;\n",
              "      padding: 0 0 0 0;\n",
              "      width: 32px;\n",
              "    }\n",
              "\n",
              "    .colab-df-convert:hover {\n",
              "      background-color: #E2EBFA;\n",
              "      box-shadow: 0px 1px 2px rgba(60, 64, 67, 0.3), 0px 1px 3px 1px rgba(60, 64, 67, 0.15);\n",
              "      fill: #174EA6;\n",
              "    }\n",
              "\n",
              "    [theme=dark] .colab-df-convert {\n",
              "      background-color: #3B4455;\n",
              "      fill: #D2E3FC;\n",
              "    }\n",
              "\n",
              "    [theme=dark] .colab-df-convert:hover {\n",
              "      background-color: #434B5C;\n",
              "      box-shadow: 0px 1px 3px 1px rgba(0, 0, 0, 0.15);\n",
              "      filter: drop-shadow(0px 1px 2px rgba(0, 0, 0, 0.3));\n",
              "      fill: #FFFFFF;\n",
              "    }\n",
              "  </style>\n",
              "\n",
              "      <script>\n",
              "        const buttonEl =\n",
              "          document.querySelector('#df-875bbc4e-850e-4980-8842-24dfbe4df782 button.colab-df-convert');\n",
              "        buttonEl.style.display =\n",
              "          google.colab.kernel.accessAllowed ? 'block' : 'none';\n",
              "\n",
              "        async function convertToInteractive(key) {\n",
              "          const element = document.querySelector('#df-875bbc4e-850e-4980-8842-24dfbe4df782');\n",
              "          const dataTable =\n",
              "            await google.colab.kernel.invokeFunction('convertToInteractive',\n",
              "                                                     [key], {});\n",
              "          if (!dataTable) return;\n",
              "\n",
              "          const docLinkHtml = 'Like what you see? Visit the ' +\n",
              "            '<a target=\"_blank\" href=https://colab.research.google.com/notebooks/data_table.ipynb>data table notebook</a>'\n",
              "            + ' to learn more about interactive tables.';\n",
              "          element.innerHTML = '';\n",
              "          dataTable['output_type'] = 'display_data';\n",
              "          await google.colab.output.renderOutput(dataTable, element);\n",
              "          const docLink = document.createElement('div');\n",
              "          docLink.innerHTML = docLinkHtml;\n",
              "          element.appendChild(docLink);\n",
              "        }\n",
              "      </script>\n",
              "    </div>\n",
              "  </div>\n",
              "  "
            ]
          },
          "metadata": {},
          "execution_count": 47
        }
      ]
    },
    {
      "cell_type": "code",
      "source": [
        "print(df.iloc[:,-2])"
      ],
      "metadata": {
        "execution": {
          "iopub.status.busy": "2022-07-18T07:27:04.907836Z",
          "iopub.execute_input": "2022-07-18T07:27:04.908266Z",
          "iopub.status.idle": "2022-07-18T07:27:04.916934Z",
          "shell.execute_reply.started": "2022-07-18T07:27:04.908231Z",
          "shell.execute_reply": "2022-07-18T07:27:04.915400Z"
        },
        "trusted": true,
        "colab": {
          "base_uri": "https://localhost:8080/"
        },
        "id": "uqS7Zc00U5U4",
        "outputId": "e3b54023-d782-4f68-f314-21d80b5b0d20"
      },
      "execution_count": null,
      "outputs": [
        {
          "output_type": "stream",
          "name": "stdout",
          "text": [
            "0      0\n",
            "1      0\n",
            "2      0\n",
            "3      0\n",
            "4      0\n",
            "      ..\n",
            "95    46\n",
            "96    46\n",
            "97    46\n",
            "98    46\n",
            "99    46\n",
            "Name: Label, Length: 47000, dtype: int64\n"
          ]
        }
      ]
    },
    {
      "cell_type": "code",
      "source": [
        "features = df.iloc[:,1:-2]\n",
        "labels = df.iloc[:,-2]"
      ],
      "metadata": {
        "execution": {
          "iopub.status.busy": "2022-07-18T07:27:06.799125Z",
          "iopub.execute_input": "2022-07-18T07:27:06.799528Z",
          "iopub.status.idle": "2022-07-18T07:27:06.824371Z",
          "shell.execute_reply.started": "2022-07-18T07:27:06.799497Z",
          "shell.execute_reply": "2022-07-18T07:27:06.822755Z"
        },
        "trusted": true,
        "id": "UnCDtd1YU5U4"
      },
      "execution_count": null,
      "outputs": []
    },
    {
      "cell_type": "code",
      "source": [
        "features_np = np.array(features)"
      ],
      "metadata": {
        "execution": {
          "iopub.status.busy": "2022-07-18T07:27:09.107226Z",
          "iopub.execute_input": "2022-07-18T07:27:09.107757Z",
          "iopub.status.idle": "2022-07-18T07:27:09.125307Z",
          "shell.execute_reply.started": "2022-07-18T07:27:09.107715Z",
          "shell.execute_reply": "2022-07-18T07:27:09.123779Z"
        },
        "trusted": true,
        "id": "MB8WBRkYU5U4"
      },
      "execution_count": null,
      "outputs": []
    },
    {
      "cell_type": "code",
      "source": [
        "from sklearn.preprocessing import StandardScaler\n",
        "\n",
        "sc_X = StandardScaler()\n",
        "x = sc_X.fit_transform(features)\n",
        "y = labels"
      ],
      "metadata": {
        "execution": {
          "iopub.status.busy": "2022-07-18T07:27:10.678591Z",
          "iopub.execute_input": "2022-07-18T07:27:10.678974Z",
          "iopub.status.idle": "2022-07-18T07:27:10.734471Z",
          "shell.execute_reply.started": "2022-07-18T07:27:10.678944Z",
          "shell.execute_reply": "2022-07-18T07:27:10.733032Z"
        },
        "trusted": true,
        "id": "nuTYGENTU5U4"
      },
      "execution_count": null,
      "outputs": []
    },
    {
      "cell_type": "code",
      "source": [
        "from sklearn.model_selection import train_test_split\n",
        "x_train, x_test, y_train, y_test = train_test_split(x, y, test_size = 0.15, random_state=0)\n",
        "cv = KFold(n_splits=10, random_state=1, shuffle=True)"
      ],
      "metadata": {
        "execution": {
          "iopub.status.busy": "2022-07-18T07:27:12.837235Z",
          "iopub.execute_input": "2022-07-18T07:27:12.837803Z",
          "iopub.status.idle": "2022-07-18T07:27:12.897975Z",
          "shell.execute_reply.started": "2022-07-18T07:27:12.837627Z",
          "shell.execute_reply": "2022-07-18T07:27:12.893702Z"
        },
        "trusted": true,
        "id": "GkuO4nzCU5U4"
      },
      "execution_count": null,
      "outputs": []
    },
    {
      "cell_type": "code",
      "source": [],
      "metadata": {
        "id": "ck1wReOaYBn1"
      },
      "execution_count": null,
      "outputs": []
    },
    {
      "cell_type": "code",
      "source": [],
      "metadata": {
        "id": "6ZYRHWjOYB5X"
      },
      "execution_count": null,
      "outputs": []
    },
    {
      "cell_type": "code",
      "source": [],
      "metadata": {
        "id": "7CiB6kH1YCTA"
      },
      "execution_count": null,
      "outputs": []
    },
    {
      "cell_type": "markdown",
      "source": [
        "# KNN"
      ],
      "metadata": {
        "id": "GQqJ-l_RU5U4"
      }
    },
    {
      "cell_type": "code",
      "source": [
        "from sklearn.neighbors import KNeighborsClassifier\n",
        "\n",
        "modelKNN = KNeighborsClassifier(n_neighbors=1)\n",
        "modelKNN.fit(x_train, y_train)"
      ],
      "metadata": {
        "execution": {
          "iopub.status.busy": "2022-07-18T07:27:16.248911Z",
          "iopub.execute_input": "2022-07-18T07:27:16.249380Z",
          "iopub.status.idle": "2022-07-18T07:27:16.450800Z",
          "shell.execute_reply.started": "2022-07-18T07:27:16.249343Z",
          "shell.execute_reply": "2022-07-18T07:27:16.449550Z"
        },
        "trusted": true,
        "colab": {
          "base_uri": "https://localhost:8080/"
        },
        "id": "xRoIq4RYU5U6",
        "outputId": "cdea1177-ac64-45ec-892e-a36bd464fe9a"
      },
      "execution_count": null,
      "outputs": [
        {
          "output_type": "execute_result",
          "data": {
            "text/plain": [
              "KNeighborsClassifier(n_neighbors=1)"
            ]
          },
          "metadata": {},
          "execution_count": 53
        }
      ]
    },
    {
      "cell_type": "code",
      "source": [
        "y_predKNN = modelKNN.predict(x_test)\n",
        "\n",
        "scores = cross_val_score(modelKNN, x_test, y_test, scoring='accuracy', cv=cv, n_jobs=-1)\n",
        "print('Accuracy in KNN Classifier (with cv) : %.2f' % (mean(scores)*100), '%')"
      ],
      "metadata": {
        "execution": {
          "iopub.status.busy": "2022-07-18T07:27:18.368366Z",
          "iopub.execute_input": "2022-07-18T07:27:18.368796Z",
          "iopub.status.idle": "2022-07-18T07:27:25.290787Z",
          "shell.execute_reply.started": "2022-07-18T07:27:18.368753Z",
          "shell.execute_reply": "2022-07-18T07:27:25.288120Z"
        },
        "trusted": true,
        "colab": {
          "base_uri": "https://localhost:8080/"
        },
        "id": "yN6ao1H4U5U6",
        "outputId": "c8aecca4-ac2e-4fb9-91d3-ab6bc84ccf09"
      },
      "execution_count": null,
      "outputs": [
        {
          "output_type": "stream",
          "name": "stdout",
          "text": [
            "Accuracy in KNN Classifier (with cv) : 89.30 %\n"
          ]
        }
      ]
    },
    {
      "cell_type": "code",
      "source": [],
      "metadata": {
        "id": "jpTLDxD9YDfg"
      },
      "execution_count": null,
      "outputs": []
    },
    {
      "cell_type": "code",
      "source": [],
      "metadata": {
        "id": "t6Va2l7QYD2w"
      },
      "execution_count": null,
      "outputs": []
    },
    {
      "cell_type": "markdown",
      "source": [
        "# SVM"
      ],
      "metadata": {
        "id": "f2q1AZ9aU5U6"
      }
    },
    {
      "cell_type": "code",
      "source": [
        "from sklearn.svm import SVC\n",
        "\n",
        "modelSVM_RBF = SVC(kernel = 'rbf', degree=5)\n",
        "modelSVM_RBF.fit(x_train, y_train)"
      ],
      "metadata": {
        "execution": {
          "iopub.status.busy": "2022-07-18T07:27:27.202643Z",
          "iopub.execute_input": "2022-07-18T07:27:27.203084Z",
          "iopub.status.idle": "2022-07-18T07:28:01.342525Z",
          "shell.execute_reply.started": "2022-07-18T07:27:27.203025Z",
          "shell.execute_reply": "2022-07-18T07:28:01.340269Z"
        },
        "trusted": true,
        "colab": {
          "base_uri": "https://localhost:8080/"
        },
        "id": "4i3UfLTcU5U6",
        "outputId": "e386e612-a98f-498e-b1fd-c09097690aa4"
      },
      "execution_count": null,
      "outputs": [
        {
          "output_type": "execute_result",
          "data": {
            "text/plain": [
              "SVC(degree=5)"
            ]
          },
          "metadata": {},
          "execution_count": 55
        }
      ]
    },
    {
      "cell_type": "code",
      "source": [
        "y_predSVM_RBF = modelSVM_RBF.predict(x_test)\n",
        "\n",
        "scores = cross_val_score(modelSVM_RBF, x_test, y_test, scoring='accuracy', cv=cv, n_jobs=-1)\n",
        "print('Accuracy in SVM Classifier (with cv) : %.2f' % (mean(scores)*100), '%')"
      ],
      "metadata": {
        "execution": {
          "iopub.status.busy": "2022-07-18T07:28:47.033644Z",
          "iopub.execute_input": "2022-07-18T07:28:47.034204Z",
          "iopub.status.idle": "2022-07-18T07:29:40.575140Z",
          "shell.execute_reply.started": "2022-07-18T07:28:47.034161Z",
          "shell.execute_reply": "2022-07-18T07:29:40.574177Z"
        },
        "trusted": true,
        "colab": {
          "base_uri": "https://localhost:8080/"
        },
        "id": "Ks8QzAcDU5U6",
        "outputId": "61d399bb-ac22-4eb1-c48a-163bc696c63d"
      },
      "execution_count": null,
      "outputs": [
        {
          "output_type": "stream",
          "name": "stdout",
          "text": [
            "Accuracy in SVM Classifier (with cv) : 80.16 %\n"
          ]
        }
      ]
    },
    {
      "cell_type": "markdown",
      "source": [
        "# ANN "
      ],
      "metadata": {
        "id": "UB7_6gmwU5U7"
      }
    },
    {
      "cell_type": "code",
      "source": [
        "import keras\n",
        "from keras.models import Sequential\n",
        "from keras.layers import Dense, Dropout\n",
        "\n",
        "classifier = Sequential()\n",
        "classifier.add(Dense(64, input_shape = x_train[0].shape))\n",
        "\n",
        "classifier.add(Dense(128, activation='relu'))\n",
        "classifier.add(Dense(175, activation='relu'))\n",
        "classifier.add(Dropout(rate=0.25))\n",
        "\n",
        "classifier.add(Dense(94, activation='relu'))\n",
        "classifier.add(Dropout(rate=0.25))\n",
        "\n",
        "classifier.add(Dense(47, activation='softmax'))\n",
        "\n",
        "classifier.compile(optimizer='adam',loss='sparse_categorical_crossentropy', metrics=['accuracy'] )\n",
        "classifier.fit(x_train, y_train, epochs=100, batch_size=47)"
      ],
      "metadata": {
        "execution": {
          "iopub.status.busy": "2022-07-18T07:29:43.875310Z",
          "iopub.execute_input": "2022-07-18T07:29:43.875744Z",
          "iopub.status.idle": "2022-07-18T07:37:20.087946Z",
          "shell.execute_reply.started": "2022-07-18T07:29:43.875710Z",
          "shell.execute_reply": "2022-07-18T07:37:20.086538Z"
        },
        "trusted": true,
        "colab": {
          "base_uri": "https://localhost:8080/"
        },
        "id": "jWs6ZUOtU5U7",
        "outputId": "7fd1bdc1-c6cd-4967-9d0a-8eeacc8b6861"
      },
      "execution_count": null,
      "outputs": [
        {
          "output_type": "stream",
          "name": "stdout",
          "text": [
            "Epoch 1/100\n",
            "850/850 [==============================] - 4s 4ms/step - loss: 1.4142 - accuracy: 0.5415\n",
            "Epoch 2/100\n",
            "850/850 [==============================] - 3s 3ms/step - loss: 0.6256 - accuracy: 0.7636\n",
            "Epoch 3/100\n",
            "850/850 [==============================] - 3s 4ms/step - loss: 0.4711 - accuracy: 0.8186\n",
            "Epoch 4/100\n",
            "850/850 [==============================] - 3s 3ms/step - loss: 0.3904 - accuracy: 0.8509\n",
            "Epoch 5/100\n",
            "850/850 [==============================] - 3s 3ms/step - loss: 0.3401 - accuracy: 0.8685\n",
            "Epoch 6/100\n",
            "850/850 [==============================] - 4s 4ms/step - loss: 0.3085 - accuracy: 0.8824\n",
            "Epoch 7/100\n",
            "850/850 [==============================] - 3s 4ms/step - loss: 0.2703 - accuracy: 0.8965\n",
            "Epoch 8/100\n",
            "850/850 [==============================] - 3s 4ms/step - loss: 0.2521 - accuracy: 0.9045\n",
            "Epoch 9/100\n",
            "850/850 [==============================] - 3s 4ms/step - loss: 0.2402 - accuracy: 0.9084\n",
            "Epoch 10/100\n",
            "850/850 [==============================] - 3s 4ms/step - loss: 0.2226 - accuracy: 0.9163\n",
            "Epoch 11/100\n",
            "850/850 [==============================] - 3s 4ms/step - loss: 0.2145 - accuracy: 0.9194\n",
            "Epoch 12/100\n",
            "850/850 [==============================] - 3s 4ms/step - loss: 0.2005 - accuracy: 0.9248\n",
            "Epoch 13/100\n",
            "850/850 [==============================] - 3s 4ms/step - loss: 0.1967 - accuracy: 0.9276\n",
            "Epoch 14/100\n",
            "850/850 [==============================] - 3s 3ms/step - loss: 0.1876 - accuracy: 0.9299\n",
            "Epoch 15/100\n",
            "850/850 [==============================] - 3s 3ms/step - loss: 0.1812 - accuracy: 0.9324\n",
            "Epoch 16/100\n",
            "850/850 [==============================] - 3s 3ms/step - loss: 0.1791 - accuracy: 0.9328\n",
            "Epoch 17/100\n",
            "850/850 [==============================] - 3s 3ms/step - loss: 0.1713 - accuracy: 0.9354\n",
            "Epoch 18/100\n",
            "850/850 [==============================] - 3s 3ms/step - loss: 0.1646 - accuracy: 0.9381\n",
            "Epoch 19/100\n",
            "850/850 [==============================] - 3s 3ms/step - loss: 0.1651 - accuracy: 0.9384\n",
            "Epoch 20/100\n",
            "850/850 [==============================] - 3s 3ms/step - loss: 0.1616 - accuracy: 0.9404\n",
            "Epoch 21/100\n",
            "850/850 [==============================] - 3s 4ms/step - loss: 0.1516 - accuracy: 0.9435\n",
            "Epoch 22/100\n",
            "850/850 [==============================] - 3s 4ms/step - loss: 0.1525 - accuracy: 0.9421\n",
            "Epoch 23/100\n",
            "850/850 [==============================] - 3s 4ms/step - loss: 0.1510 - accuracy: 0.9444\n",
            "Epoch 24/100\n",
            "850/850 [==============================] - 3s 4ms/step - loss: 0.1486 - accuracy: 0.9439\n",
            "Epoch 25/100\n",
            "850/850 [==============================] - 3s 3ms/step - loss: 0.1504 - accuracy: 0.9429\n",
            "Epoch 26/100\n",
            "850/850 [==============================] - 3s 4ms/step - loss: 0.1421 - accuracy: 0.9457\n",
            "Epoch 27/100\n",
            "850/850 [==============================] - 3s 4ms/step - loss: 0.1396 - accuracy: 0.9469\n",
            "Epoch 28/100\n",
            "850/850 [==============================] - 3s 4ms/step - loss: 0.1384 - accuracy: 0.9477\n",
            "Epoch 29/100\n",
            "850/850 [==============================] - 3s 4ms/step - loss: 0.1317 - accuracy: 0.9500\n",
            "Epoch 30/100\n",
            "850/850 [==============================] - 3s 3ms/step - loss: 0.1368 - accuracy: 0.9485\n",
            "Epoch 31/100\n",
            "850/850 [==============================] - 3s 4ms/step - loss: 0.1301 - accuracy: 0.9509\n",
            "Epoch 32/100\n",
            "850/850 [==============================] - 3s 4ms/step - loss: 0.1336 - accuracy: 0.9489\n",
            "Epoch 33/100\n",
            "850/850 [==============================] - 3s 4ms/step - loss: 0.1359 - accuracy: 0.9493\n",
            "Epoch 34/100\n",
            "850/850 [==============================] - 3s 4ms/step - loss: 0.1381 - accuracy: 0.9489\n",
            "Epoch 35/100\n",
            "850/850 [==============================] - 3s 4ms/step - loss: 0.1255 - accuracy: 0.9530\n",
            "Epoch 36/100\n",
            "850/850 [==============================] - 3s 4ms/step - loss: 0.1273 - accuracy: 0.9524\n",
            "Epoch 37/100\n",
            "850/850 [==============================] - 3s 3ms/step - loss: 0.1267 - accuracy: 0.9519\n",
            "Epoch 38/100\n",
            "850/850 [==============================] - 3s 4ms/step - loss: 0.1290 - accuracy: 0.9526\n",
            "Epoch 39/100\n",
            "850/850 [==============================] - 3s 4ms/step - loss: 0.1303 - accuracy: 0.9518\n",
            "Epoch 40/100\n",
            "850/850 [==============================] - 3s 3ms/step - loss: 0.1204 - accuracy: 0.9550\n",
            "Epoch 41/100\n",
            "850/850 [==============================] - 3s 3ms/step - loss: 0.1172 - accuracy: 0.9556\n",
            "Epoch 42/100\n",
            "850/850 [==============================] - 3s 3ms/step - loss: 0.1192 - accuracy: 0.9555\n",
            "Epoch 43/100\n",
            "850/850 [==============================] - 3s 4ms/step - loss: 0.1172 - accuracy: 0.9558\n",
            "Epoch 44/100\n",
            "850/850 [==============================] - 3s 3ms/step - loss: 0.1255 - accuracy: 0.9536\n",
            "Epoch 45/100\n",
            "850/850 [==============================] - 3s 4ms/step - loss: 0.1175 - accuracy: 0.9563\n",
            "Epoch 46/100\n",
            "850/850 [==============================] - 3s 4ms/step - loss: 0.1274 - accuracy: 0.9541\n",
            "Epoch 47/100\n",
            "850/850 [==============================] - 3s 4ms/step - loss: 0.1158 - accuracy: 0.9567\n",
            "Epoch 48/100\n",
            "850/850 [==============================] - 3s 4ms/step - loss: 0.1153 - accuracy: 0.9572\n",
            "Epoch 49/100\n",
            "850/850 [==============================] - 3s 4ms/step - loss: 0.1175 - accuracy: 0.9567\n",
            "Epoch 50/100\n",
            "850/850 [==============================] - 3s 3ms/step - loss: 0.1153 - accuracy: 0.9569\n",
            "Epoch 51/100\n",
            "850/850 [==============================] - 3s 3ms/step - loss: 0.1100 - accuracy: 0.9574\n",
            "Epoch 52/100\n",
            "850/850 [==============================] - 3s 4ms/step - loss: 0.1115 - accuracy: 0.9595\n",
            "Epoch 53/100\n",
            "850/850 [==============================] - 3s 4ms/step - loss: 0.1114 - accuracy: 0.9577\n",
            "Epoch 54/100\n",
            "850/850 [==============================] - 3s 4ms/step - loss: 0.1130 - accuracy: 0.9586\n",
            "Epoch 55/100\n",
            "850/850 [==============================] - 3s 3ms/step - loss: 0.1167 - accuracy: 0.9574\n",
            "Epoch 56/100\n",
            "850/850 [==============================] - 3s 3ms/step - loss: 0.1102 - accuracy: 0.9593\n",
            "Epoch 57/100\n",
            "850/850 [==============================] - 3s 3ms/step - loss: 0.1076 - accuracy: 0.9590\n",
            "Epoch 58/100\n",
            "850/850 [==============================] - 3s 3ms/step - loss: 0.1030 - accuracy: 0.9602\n",
            "Epoch 59/100\n",
            "850/850 [==============================] - 3s 4ms/step - loss: 0.1125 - accuracy: 0.9586\n",
            "Epoch 60/100\n",
            "850/850 [==============================] - 3s 4ms/step - loss: 0.1115 - accuracy: 0.9590\n",
            "Epoch 61/100\n",
            "850/850 [==============================] - 3s 4ms/step - loss: 0.1113 - accuracy: 0.9594\n",
            "Epoch 62/100\n",
            "850/850 [==============================] - 3s 4ms/step - loss: 0.1092 - accuracy: 0.9599\n",
            "Epoch 63/100\n",
            "850/850 [==============================] - 3s 3ms/step - loss: 0.1019 - accuracy: 0.9606\n",
            "Epoch 64/100\n",
            "850/850 [==============================] - 3s 4ms/step - loss: 0.1165 - accuracy: 0.9583\n",
            "Epoch 65/100\n",
            "850/850 [==============================] - 3s 4ms/step - loss: 0.1027 - accuracy: 0.9620\n",
            "Epoch 66/100\n",
            "850/850 [==============================] - 3s 4ms/step - loss: 0.1014 - accuracy: 0.9614\n",
            "Epoch 67/100\n",
            "850/850 [==============================] - 3s 3ms/step - loss: 0.1078 - accuracy: 0.9599\n",
            "Epoch 68/100\n",
            "850/850 [==============================] - 3s 3ms/step - loss: 0.1105 - accuracy: 0.9601\n",
            "Epoch 69/100\n",
            "850/850 [==============================] - 3s 4ms/step - loss: 0.1042 - accuracy: 0.9627\n",
            "Epoch 70/100\n",
            "850/850 [==============================] - 3s 4ms/step - loss: 0.1033 - accuracy: 0.9622\n",
            "Epoch 71/100\n",
            "850/850 [==============================] - 3s 3ms/step - loss: 0.1112 - accuracy: 0.9599\n",
            "Epoch 72/100\n",
            "850/850 [==============================] - 3s 3ms/step - loss: 0.1117 - accuracy: 0.9603\n",
            "Epoch 73/100\n",
            "850/850 [==============================] - 3s 4ms/step - loss: 0.0997 - accuracy: 0.9609\n",
            "Epoch 74/100\n",
            "850/850 [==============================] - 3s 3ms/step - loss: 0.1043 - accuracy: 0.9617\n",
            "Epoch 75/100\n",
            "850/850 [==============================] - 3s 4ms/step - loss: 0.0983 - accuracy: 0.9639\n",
            "Epoch 76/100\n",
            "850/850 [==============================] - 3s 3ms/step - loss: 0.1106 - accuracy: 0.9606\n",
            "Epoch 77/100\n",
            "850/850 [==============================] - 3s 4ms/step - loss: 0.1077 - accuracy: 0.9602\n",
            "Epoch 78/100\n",
            "850/850 [==============================] - 3s 4ms/step - loss: 0.0964 - accuracy: 0.9636\n",
            "Epoch 79/100\n",
            "850/850 [==============================] - 3s 3ms/step - loss: 0.1097 - accuracy: 0.9604\n",
            "Epoch 80/100\n",
            "850/850 [==============================] - 3s 4ms/step - loss: 0.1027 - accuracy: 0.9623\n",
            "Epoch 81/100\n",
            "850/850 [==============================] - 3s 4ms/step - loss: 0.1020 - accuracy: 0.9620\n",
            "Epoch 82/100\n",
            "850/850 [==============================] - 3s 4ms/step - loss: 0.0981 - accuracy: 0.9639\n",
            "Epoch 83/100\n",
            "850/850 [==============================] - 3s 3ms/step - loss: 0.1022 - accuracy: 0.9631\n",
            "Epoch 84/100\n",
            "850/850 [==============================] - 3s 3ms/step - loss: 0.1038 - accuracy: 0.9625\n",
            "Epoch 85/100\n",
            "850/850 [==============================] - 3s 3ms/step - loss: 0.1062 - accuracy: 0.9616\n",
            "Epoch 86/100\n",
            "850/850 [==============================] - 3s 3ms/step - loss: 0.0967 - accuracy: 0.9643\n",
            "Epoch 87/100\n",
            "850/850 [==============================] - 3s 3ms/step - loss: 0.0977 - accuracy: 0.9637\n",
            "Epoch 88/100\n",
            "850/850 [==============================] - 3s 4ms/step - loss: 0.1031 - accuracy: 0.9636\n",
            "Epoch 89/100\n",
            "850/850 [==============================] - 3s 4ms/step - loss: 0.1062 - accuracy: 0.9630\n",
            "Epoch 90/100\n",
            "850/850 [==============================] - 3s 3ms/step - loss: 0.0979 - accuracy: 0.9654\n",
            "Epoch 91/100\n",
            "850/850 [==============================] - 3s 3ms/step - loss: 0.0952 - accuracy: 0.9640\n",
            "Epoch 92/100\n",
            "850/850 [==============================] - 3s 4ms/step - loss: 0.1056 - accuracy: 0.9628\n",
            "Epoch 93/100\n",
            "850/850 [==============================] - 3s 3ms/step - loss: 0.1055 - accuracy: 0.9624\n",
            "Epoch 94/100\n",
            "850/850 [==============================] - 3s 3ms/step - loss: 0.0936 - accuracy: 0.9648\n",
            "Epoch 95/100\n",
            "850/850 [==============================] - 3s 3ms/step - loss: 0.1086 - accuracy: 0.9611\n",
            "Epoch 96/100\n",
            "850/850 [==============================] - 3s 3ms/step - loss: 0.0960 - accuracy: 0.9642\n",
            "Epoch 97/100\n",
            "850/850 [==============================] - 3s 3ms/step - loss: 0.1025 - accuracy: 0.9635\n",
            "Epoch 98/100\n",
            "850/850 [==============================] - 3s 3ms/step - loss: 0.0962 - accuracy: 0.9646\n",
            "Epoch 99/100\n",
            "850/850 [==============================] - 3s 4ms/step - loss: 0.0911 - accuracy: 0.9659\n",
            "Epoch 100/100\n",
            "850/850 [==============================] - 3s 4ms/step - loss: 0.1014 - accuracy: 0.9643\n"
          ]
        },
        {
          "output_type": "execute_result",
          "data": {
            "text/plain": [
              "<keras.callbacks.History at 0x7fcc674abc40>"
            ]
          },
          "metadata": {},
          "execution_count": 57
        }
      ]
    },
    {
      "cell_type": "code",
      "source": [
        "print(\"Evaluation on test data : \")\n",
        "results = classifier.evaluate(x_test, y_test, batch_size=50)\n",
        "accuracyANN = results[1]*100\n",
        "print(\"Test Accuracy : %.2f\" % accuracyANN,'%')"
      ],
      "metadata": {
        "execution": {
          "iopub.status.busy": "2022-07-18T07:44:25.764535Z",
          "iopub.execute_input": "2022-07-18T07:44:25.765044Z",
          "iopub.status.idle": "2022-07-18T07:44:26.329960Z",
          "shell.execute_reply.started": "2022-07-18T07:44:25.765002Z",
          "shell.execute_reply": "2022-07-18T07:44:26.328962Z"
        },
        "trusted": true,
        "colab": {
          "base_uri": "https://localhost:8080/"
        },
        "id": "CJ_tf7DjU5U7",
        "outputId": "c2f7f534-80f9-4f26-e78c-024ecd71bdaf"
      },
      "execution_count": null,
      "outputs": [
        {
          "output_type": "stream",
          "name": "stdout",
          "text": [
            "Evaluation on test data : \n",
            "141/141 [==============================] - 0s 2ms/step - loss: 0.0522 - accuracy: 0.9806\n",
            "Test Accuracy : 98.06 %\n"
          ]
        }
      ]
    },
    {
      "cell_type": "code",
      "source": [],
      "metadata": {
        "id": "Tby8o3ODYF6_"
      },
      "execution_count": null,
      "outputs": []
    },
    {
      "cell_type": "markdown",
      "source": [
        "# RFC"
      ],
      "metadata": {
        "id": "A6pK_RlFU5U7"
      }
    },
    {
      "cell_type": "code",
      "source": [
        "from sklearn.ensemble import RandomForestClassifier\n",
        "\n",
        "modelRFC = RandomForestClassifier(n_estimators = 94, criterion = 'gini')\n",
        "modelRFC.fit(x_train, y_train)"
      ],
      "metadata": {
        "execution": {
          "iopub.status.busy": "2022-07-18T07:52:53.621807Z",
          "iopub.execute_input": "2022-07-18T07:52:53.622217Z",
          "iopub.status.idle": "2022-07-18T07:53:44.497757Z",
          "shell.execute_reply.started": "2022-07-18T07:52:53.622181Z",
          "shell.execute_reply": "2022-07-18T07:53:44.496326Z"
        },
        "trusted": true,
        "colab": {
          "base_uri": "https://localhost:8080/"
        },
        "id": "s5V-KEM7U5U7",
        "outputId": "faa9a44c-3f4c-4341-c270-ed3929a039bc"
      },
      "execution_count": null,
      "outputs": [
        {
          "output_type": "execute_result",
          "data": {
            "text/plain": [
              "RandomForestClassifier(n_estimators=94)"
            ]
          },
          "metadata": {},
          "execution_count": 59
        }
      ]
    },
    {
      "cell_type": "code",
      "source": [
        "y_predRFC = modelRFC.predict(x_test)\n",
        "\n",
        "scores = cross_val_score(modelRFC, x_test, y_test, scoring='accuracy', cv=cv, n_jobs=-1)\n",
        "print('Accuracy in SVM Classifier (with cv) : %.2f' % (mean(scores)*100), '%')"
      ],
      "metadata": {
        "execution": {
          "iopub.status.busy": "2022-07-18T07:53:46.702877Z",
          "iopub.execute_input": "2022-07-18T07:53:46.703439Z",
          "iopub.status.idle": "2022-07-18T07:54:13.673654Z",
          "shell.execute_reply.started": "2022-07-18T07:53:46.703386Z",
          "shell.execute_reply": "2022-07-18T07:54:13.672264Z"
        },
        "trusted": true,
        "colab": {
          "base_uri": "https://localhost:8080/"
        },
        "id": "DEhYmsBBU5U8",
        "outputId": "746113ff-0420-419f-9c23-f2d7364927ed"
      },
      "execution_count": null,
      "outputs": [
        {
          "output_type": "stream",
          "name": "stdout",
          "text": [
            "Accuracy in SVM Classifier (with cv) : 87.89 %\n"
          ]
        }
      ]
    },
    {
      "cell_type": "code",
      "source": [],
      "metadata": {
        "id": "-6sL650kYG9-"
      },
      "execution_count": null,
      "outputs": []
    }
  ]
}