{
  "metadata": {
    "kernelspec": {
      "language": "python",
      "display_name": "Python 3",
      "name": "python3"
    },
    "language_info": {
      "name": "python",
      "version": "3.7.12",
      "mimetype": "text/x-python",
      "codemirror_mode": {
        "name": "ipython",
        "version": 3
      },
      "pygments_lexer": "ipython3",
      "nbconvert_exporter": "python",
      "file_extension": ".py"
    },
    "colab": {
      "provenance": [],
      "toc_visible": true,
      "include_colab_link": true
    }
  },
  "nbformat_minor": 0,
  "nbformat": 4,
  "cells": [
    {
      "cell_type": "markdown",
      "metadata": {
        "id": "view-in-github",
        "colab_type": "text"
      },
      "source": [
        "<a href=\"https://colab.research.google.com/github/MustofAhmed41/3D-Jeep-Car/blob/main/bangla_sign_language_digit_letter_classification_4.ipynb\" target=\"_parent\"><img src=\"https://colab.research.google.com/assets/colab-badge.svg\" alt=\"Open In Colab\"/></a>"
      ]
    },
    {
      "cell_type": "code",
      "source": [
        "import numpy as np\n",
        "import matplotlib.pyplot as plt\n",
        "import pandas as pd\n",
        "from sklearn.model_selection import KFold\n",
        "from sklearn.model_selection import cross_val_score\n",
        "from numpy import mean\n",
        "from sklearn import metrics\n",
        "import seaborn as ss\n",
        "import os\n",
        "from os import listdir\n",
        "\n",
        "from keras.models import Sequential\n",
        "from keras.layers import Dense, Conv1D, Flatten, MaxPooling1D, LSTM, BatchNormalization\n",
        "from sklearn.metrics import confusion_matrix\n",
        "from sklearn.metrics import classification_report\n",
        "from sklearn.metrics import accuracy_score"
      ],
      "metadata": {
        "_uuid": "8f2839f25d086af736a60e9eeb907d3b93b6e0e5",
        "_cell_guid": "b1076dfc-b9ad-4769-8c92-a6c4dae69d19",
        "execution": {
          "iopub.status.busy": "2022-07-18T06:05:55.594271Z",
          "iopub.execute_input": "2022-07-18T06:05:55.594729Z",
          "iopub.status.idle": "2022-07-18T06:05:56.418159Z",
          "shell.execute_reply.started": "2022-07-18T06:05:55.594676Z",
          "shell.execute_reply": "2022-07-18T06:05:56.416815Z"
        },
        "trusted": true,
        "id": "LMMTHZ5eU5Ut"
      },
      "execution_count": 1,
      "outputs": []
    },
    {
      "cell_type": "code",
      "source": [
        "from google.colab import drive\n",
        "drive.mount('/content/drive')"
      ],
      "metadata": {
        "colab": {
          "base_uri": "https://localhost:8080/"
        },
        "id": "lh8z9wzfU-Fw",
        "outputId": "dcdc2e82-418d-4f98-8e80-854282a63b51"
      },
      "execution_count": 2,
      "outputs": [
        {
          "output_type": "stream",
          "name": "stdout",
          "text": [
            "Mounted at /content/drive\n"
          ]
        }
      ]
    },
    {
      "cell_type": "code",
      "source": [],
      "metadata": {
        "id": "0SrQG277VAlT"
      },
      "execution_count": 2,
      "outputs": []
    },
    {
      "cell_type": "code",
      "source": [
        "import os\n",
        "for dirname, _, filenames in os.walk('/kaggle/input'):\n",
        "    for filename in filenames:\n",
        "        print(os.path.join(dirname, filename))"
      ],
      "metadata": {
        "execution": {
          "iopub.status.busy": "2022-07-18T06:05:59.229499Z",
          "iopub.execute_input": "2022-07-18T06:05:59.229903Z",
          "iopub.status.idle": "2022-07-18T06:05:59.282133Z",
          "shell.execute_reply.started": "2022-07-18T06:05:59.229869Z",
          "shell.execute_reply": "2022-07-18T06:05:59.281100Z"
        },
        "trusted": true,
        "id": "Cv3j7WfAU5Uu"
      },
      "execution_count": 3,
      "outputs": []
    },
    {
      "cell_type": "markdown",
      "source": [
        "# Sign Alphabet (0 to 36)"
      ],
      "metadata": {
        "id": "Ty-2qB3RU5Uv"
      }
    },
    {
      "cell_type": "markdown",
      "source": [
        "## User 1"
      ],
      "metadata": {
        "id": "RSQ79hDxU5Uv"
      }
    },
    {
      "cell_type": "code",
      "source": [
        "common_path = \"/content/drive/MyDrive/kaggle/input/Bangla Sign Language Dataset CSV Files/Sign Alphabet Dataset CSV Files/Subject 01 - Female, 24/\"\n",
        "\n",
        "u01s00 = pd.read_csv(common_path + \"Output Images - Sign_00.csv\")\n",
        "u01s01 = pd.read_csv(common_path + \"Output Images - Sign_01.csv\")\n",
        "u01s02 = pd.read_csv(common_path + \"Output Images - Sign_02.csv\")\n",
        "u01s03 = pd.read_csv(common_path + \"Output Images - Sign_03.csv\")\n",
        "u01s04 = pd.read_csv(common_path + \"Output Images - Sign_04.csv\")\n",
        "u01s05 = pd.read_csv(common_path + \"Output Images - Sign_05.csv\")\n",
        "u01s06 = pd.read_csv(common_path + \"Output Images - Sign_06.csv\")\n",
        "u01s07 = pd.read_csv(common_path + \"Output Images - Sign_07.csv\")\n",
        "u01s08 = pd.read_csv(common_path + \"Output Images - Sign_08.csv\")\n",
        "u01s09 = pd.read_csv(common_path + \"Output Images - Sign_09.csv\")\n",
        "\n",
        "\n",
        "u01s10 = pd.read_csv(common_path + \"Output Images - Sign_10.csv\")\n",
        "u01s11 = pd.read_csv(common_path + \"Output Images - Sign_11.csv\")\n",
        "u01s12 = pd.read_csv(common_path + \"Output Images - Sign_12.csv\")\n",
        "u01s13 = pd.read_csv(common_path + \"Output Images - Sign_13.csv\")\n",
        "u01s14 = pd.read_csv(common_path + \"Output Images - Sign_14.csv\")\n",
        "u01s15 = pd.read_csv(common_path + \"Output Images - Sign_15.csv\")\n",
        "u01s16 = pd.read_csv(common_path + \"Output Images - Sign_16.csv\")\n",
        "u01s17 = pd.read_csv(common_path + \"Output Images - Sign_17.csv\")\n",
        "u01s18 = pd.read_csv(common_path + \"Output Images - Sign_18.csv\")\n",
        "u01s19 = pd.read_csv(common_path + \"Output Images - Sign_19.csv\")\n",
        "\n",
        "\n",
        "u01s20 = pd.read_csv(common_path + \"Output Images - Sign_20.csv\")\n",
        "u01s21 = pd.read_csv(common_path + \"Output Images - Sign_21.csv\")\n",
        "u01s22 = pd.read_csv(common_path + \"Output Images - Sign_22.csv\")\n",
        "u01s23 = pd.read_csv(common_path + \"Output Images - Sign_23.csv\")\n",
        "u01s24 = pd.read_csv(common_path + \"Output Images - Sign_24.csv\")\n",
        "u01s25 = pd.read_csv(common_path + \"Output Images - Sign_25.csv\")\n",
        "u01s26 = pd.read_csv(common_path + \"Output Images - Sign_26.csv\")\n",
        "u01s27 = pd.read_csv(common_path + \"Output Images - Sign_27.csv\")\n",
        "u01s28 = pd.read_csv(common_path + \"Output Images - Sign_28.csv\")\n",
        "u01s29 = pd.read_csv(common_path + \"Output Images - Sign_29.csv\")\n",
        "\n",
        "\n",
        "u01s30 = pd.read_csv(common_path + \"Output Images - Sign_30.csv\")\n",
        "u01s31 = pd.read_csv(common_path + \"Output Images - Sign_31.csv\")\n",
        "u01s32 = pd.read_csv(common_path + \"Output Images - Sign_32.csv\")\n",
        "u01s33 = pd.read_csv(common_path + \"Output Images - Sign_33.csv\")\n",
        "u01s34 = pd.read_csv(common_path + \"Output Images - Sign_34.csv\")\n",
        "u01s35 = pd.read_csv(common_path + \"Output Images - Sign_35.csv\")\n",
        "u01s36 = pd.read_csv(common_path + \"Output Images - Sign_36.csv\")\n",
        "\n"
      ],
      "metadata": {
        "execution": {
          "iopub.status.busy": "2022-07-18T06:26:36.306439Z",
          "iopub.execute_input": "2022-07-18T06:26:36.306850Z",
          "iopub.status.idle": "2022-07-18T06:26:36.616697Z",
          "shell.execute_reply.started": "2022-07-18T06:26:36.306819Z",
          "shell.execute_reply": "2022-07-18T06:26:36.615398Z"
        },
        "trusted": true,
        "id": "pJAEEh9DU5Uw"
      },
      "execution_count": 4,
      "outputs": []
    },
    {
      "cell_type": "markdown",
      "source": [
        "## User 2 "
      ],
      "metadata": {
        "id": "Mm5AWcvqU5Uw"
      }
    },
    {
      "cell_type": "code",
      "source": [
        "common_path = \"/content/drive/MyDrive/kaggle/input/Bangla Sign Language Dataset CSV Files/Sign Alphabet Dataset CSV Files/Subject 02 - Male, 16/\"\n",
        "\n",
        "u02s00 = pd.read_csv(common_path + \"Output Images - Sign_00.csv\")\n",
        "u02s01 = pd.read_csv(common_path + \"Output Images - Sign_01.csv\")\n",
        "u02s02 = pd.read_csv(common_path + \"Output Images - Sign_02.csv\")\n",
        "u02s03 = pd.read_csv(common_path + \"Output Images - Sign_03.csv\")\n",
        "u02s04 = pd.read_csv(common_path + \"Output Images - Sign_04.csv\")\n",
        "u02s05 = pd.read_csv(common_path + \"Output Images - Sign_05.csv\")\n",
        "u02s06 = pd.read_csv(common_path + \"Output Images - Sign_06.csv\")\n",
        "u02s07 = pd.read_csv(common_path + \"Output Images - Sign_07.csv\")\n",
        "u02s08 = pd.read_csv(common_path + \"Output Images - Sign_08.csv\")\n",
        "u02s09 = pd.read_csv(common_path + \"Output Images - Sign_09.csv\")\n",
        "\n",
        "\n",
        "u02s10 = pd.read_csv(common_path + \"Output Images - Sign_10.csv\")\n",
        "u02s11 = pd.read_csv(common_path + \"Output Images - Sign_11.csv\")\n",
        "u02s12 = pd.read_csv(common_path + \"Output Images - Sign_12.csv\")\n",
        "u02s13 = pd.read_csv(common_path + \"Output Images - Sign_13.csv\")\n",
        "u02s14 = pd.read_csv(common_path + \"Output Images - Sign_14.csv\")\n",
        "u02s15 = pd.read_csv(common_path + \"Output Images - Sign_15.csv\")\n",
        "u02s16 = pd.read_csv(common_path + \"Output Images - Sign_16.csv\")\n",
        "u02s17 = pd.read_csv(common_path + \"Output Images - Sign_17.csv\")\n",
        "u02s18 = pd.read_csv(common_path + \"Output Images - Sign_18.csv\")\n",
        "u02s19 = pd.read_csv(common_path + \"Output Images - Sign_19.csv\")\n",
        "\n",
        "\n",
        "u02s20 = pd.read_csv(common_path + \"Output Images - Sign_20.csv\")\n",
        "u02s21 = pd.read_csv(common_path + \"Output Images - Sign_21.csv\")\n",
        "u02s22 = pd.read_csv(common_path + \"Output Images - Sign_22.csv\")\n",
        "u02s23 = pd.read_csv(common_path + \"Output Images - Sign_23.csv\")\n",
        "u02s24 = pd.read_csv(common_path + \"Output Images - Sign_24.csv\")\n",
        "u02s25 = pd.read_csv(common_path + \"Output Images - Sign_25.csv\")\n",
        "u02s26 = pd.read_csv(common_path + \"Output Images - Sign_26.csv\")\n",
        "u02s27 = pd.read_csv(common_path + \"Output Images - Sign_27.csv\")\n",
        "u02s28 = pd.read_csv(common_path + \"Output Images - Sign_28.csv\")\n",
        "u02s29 = pd.read_csv(common_path + \"Output Images - Sign_29.csv\")\n",
        "\n",
        "\n",
        "u02s30 = pd.read_csv(common_path + \"Output Images - Sign_30.csv\")\n",
        "u02s31 = pd.read_csv(common_path + \"Output Images - Sign_31.csv\")\n",
        "u02s32 = pd.read_csv(common_path + \"Output Images - Sign_32.csv\")\n",
        "u02s33 = pd.read_csv(common_path + \"Output Images - Sign_33.csv\")\n",
        "u02s34 = pd.read_csv(common_path + \"Output Images - Sign_34.csv\")\n",
        "u02s35 = pd.read_csv(common_path + \"Output Images - Sign_35.csv\")\n",
        "u02s36 = pd.read_csv(common_path + \"Output Images - Sign_36.csv\")"
      ],
      "metadata": {
        "execution": {
          "iopub.status.busy": "2022-07-18T06:26:32.913198Z",
          "iopub.execute_input": "2022-07-18T06:26:32.913599Z",
          "iopub.status.idle": "2022-07-18T06:26:33.349274Z",
          "shell.execute_reply.started": "2022-07-18T06:26:32.913567Z",
          "shell.execute_reply": "2022-07-18T06:26:33.347932Z"
        },
        "trusted": true,
        "id": "bskopD-yU5Uw"
      },
      "execution_count": 5,
      "outputs": []
    },
    {
      "cell_type": "markdown",
      "source": [
        "## User 3"
      ],
      "metadata": {
        "id": "cZddcxkuU5Ux"
      }
    },
    {
      "cell_type": "code",
      "source": [
        "common_path = \"/content/drive/MyDrive/kaggle/input/Bangla Sign Language Dataset CSV Files/Sign Alphabet Dataset CSV Files/Subject 03 - Female, 21/\"\n",
        "\n",
        "u03s00 = pd.read_csv(common_path + \"Output Images - Sign_00.csv\")\n",
        "u03s01 = pd.read_csv(common_path + \"Output Images - Sign_01.csv\")\n",
        "u03s02 = pd.read_csv(common_path + \"Output Images - Sign_02.csv\")\n",
        "u03s03 = pd.read_csv(common_path + \"Output Images - Sign_03.csv\")\n",
        "u03s04 = pd.read_csv(common_path + \"Output Images - Sign_04.csv\")\n",
        "u03s05 = pd.read_csv(common_path + \"Output Images - Sign_05.csv\")\n",
        "u03s06 = pd.read_csv(common_path + \"Output Images - Sign_06.csv\")\n",
        "u03s07 = pd.read_csv(common_path + \"Output Images - Sign_07.csv\")\n",
        "u03s08 = pd.read_csv(common_path + \"Output Images - Sign_08.csv\")\n",
        "u03s09 = pd.read_csv(common_path + \"Output Images - Sign_09.csv\")\n",
        "\n",
        "\n",
        "u03s10 = pd.read_csv(common_path + \"Output Images - Sign_10.csv\")\n",
        "u03s11 = pd.read_csv(common_path + \"Output Images - Sign_11.csv\")\n",
        "u03s12 = pd.read_csv(common_path + \"Output Images - Sign_12.csv\")\n",
        "u03s13 = pd.read_csv(common_path + \"Output Images - Sign_13.csv\")\n",
        "u03s14 = pd.read_csv(common_path + \"Output Images - Sign_14.csv\")\n",
        "u03s15 = pd.read_csv(common_path + \"Output Images - Sign_15.csv\")\n",
        "u03s16 = pd.read_csv(common_path + \"Output Images - Sign_16.csv\")\n",
        "u03s17 = pd.read_csv(common_path + \"Output Images - Sign_17.csv\")\n",
        "u03s18 = pd.read_csv(common_path + \"Output Images - Sign_18.csv\")\n",
        "u03s19 = pd.read_csv(common_path + \"Output Images - Sign_19.csv\")\n",
        "\n",
        "\n",
        "u03s20 = pd.read_csv(common_path + \"Output Images - Sign_20.csv\")\n",
        "u03s21 = pd.read_csv(common_path + \"Output Images - Sign_21.csv\")\n",
        "u03s22 = pd.read_csv(common_path + \"Output Images - Sign_22.csv\")\n",
        "u03s23 = pd.read_csv(common_path + \"Output Images - Sign_23.csv\")\n",
        "u03s24 = pd.read_csv(common_path + \"Output Images - Sign_24.csv\")\n",
        "u03s25 = pd.read_csv(common_path + \"Output Images - Sign_25.csv\")\n",
        "u03s26 = pd.read_csv(common_path + \"Output Images - Sign_26.csv\")\n",
        "u03s27 = pd.read_csv(common_path + \"Output Images - Sign_27.csv\")\n",
        "u03s28 = pd.read_csv(common_path + \"Output Images - Sign_28.csv\")\n",
        "u03s29 = pd.read_csv(common_path + \"Output Images - Sign_29.csv\")\n",
        "\n",
        "\n",
        "u03s30 = pd.read_csv(common_path + \"Output Images - Sign_30.csv\")\n",
        "u03s31 = pd.read_csv(common_path + \"Output Images - Sign_31.csv\")\n",
        "u03s32 = pd.read_csv(common_path + \"Output Images - Sign_32.csv\")\n",
        "u03s33 = pd.read_csv(common_path + \"Output Images - Sign_33.csv\")\n",
        "u03s34 = pd.read_csv(common_path + \"Output Images - Sign_34.csv\")\n",
        "u03s35 = pd.read_csv(common_path + \"Output Images - Sign_35.csv\")\n",
        "u03s36 = pd.read_csv(common_path + \"Output Images - Sign_36.csv\")"
      ],
      "metadata": {
        "execution": {
          "iopub.status.busy": "2022-07-18T06:26:30.348649Z",
          "iopub.execute_input": "2022-07-18T06:26:30.349713Z",
          "iopub.status.idle": "2022-07-18T06:26:30.788855Z",
          "shell.execute_reply.started": "2022-07-18T06:26:30.349672Z",
          "shell.execute_reply": "2022-07-18T06:26:30.787837Z"
        },
        "trusted": true,
        "id": "zoCY_8fwU5Ux"
      },
      "execution_count": 6,
      "outputs": []
    },
    {
      "cell_type": "markdown",
      "source": [
        "## User 4 "
      ],
      "metadata": {
        "id": "KEWuyhleU5Ux"
      }
    },
    {
      "cell_type": "code",
      "source": [
        "common_path = \"/content/drive/MyDrive/kaggle/input/Bangla Sign Language Dataset CSV Files/Sign Alphabet Dataset CSV Files/Subject 04 - Female, 52/\"\n",
        "\n",
        "u04s00 = pd.read_csv(common_path + \"Output - BSL Image Frames - Sign - 00.csv\")\n",
        "u04s01 = pd.read_csv(common_path + \"Output - BSL Image Frames - Sign - 01.csv\")\n",
        "u04s02 = pd.read_csv(common_path + \"Output - BSL Image Frames - Sign - 02.csv\")\n",
        "u04s03 = pd.read_csv(common_path + \"Output - BSL Image Frames - Sign - 03.csv\")\n",
        "u04s04 = pd.read_csv(common_path + \"Output - BSL Image Frames - Sign - 04.csv\")\n",
        "u04s05 = pd.read_csv(common_path + \"Output - BSL Image Frames - Sign - 05.csv\")\n",
        "u04s06 = pd.read_csv(common_path + \"Output - BSL Image Frames - Sign - 06.csv\")\n",
        "u04s07 = pd.read_csv(common_path + \"Output - BSL Image Frames - Sign - 07.csv\")\n",
        "u04s08 = pd.read_csv(common_path + \"Output - BSL Image Frames - Sign - 08.csv\")\n",
        "u04s09 = pd.read_csv(common_path + \"Output - BSL Image Frames - Sign - 09.csv\")\n",
        "\n",
        "\n",
        "u04s10 = pd.read_csv(common_path + \"Output - BSL Image Frames - Sign - 10.csv\")\n",
        "u04s11 = pd.read_csv(common_path + \"Output - BSL Image Frames - Sign - 11.csv\")\n",
        "u04s12 = pd.read_csv(common_path + \"Output - BSL Image Frames - Sign - 12.csv\")\n",
        "u04s13 = pd.read_csv(common_path + \"Output - BSL Image Frames - Sign - 13.csv\")\n",
        "u04s14 = pd.read_csv(common_path + \"Output - BSL Image Frames - Sign - 14.csv\")\n",
        "u04s15 = pd.read_csv(common_path + \"Output - BSL Image Frames - Sign - 15.csv\")\n",
        "u04s16 = pd.read_csv(common_path + \"Output - BSL Image Frames - Sign - 16.csv\")\n",
        "u04s17 = pd.read_csv(common_path + \"Output - BSL Image Frames - Sign - 17.csv\")\n",
        "u04s18 = pd.read_csv(common_path + \"Output - BSL Image Frames - Sign - 18.csv\")\n",
        "u04s19 = pd.read_csv(common_path + \"Output - BSL Image Frames - Sign - 19.csv\")\n",
        "\n",
        "\n",
        "u04s20 = pd.read_csv(common_path + \"Output - BSL Image Frames - Sign - 20.csv\")\n",
        "u04s21 = pd.read_csv(common_path + \"Output - BSL Image Frames - Sign - 21.csv\")\n",
        "u04s22 = pd.read_csv(common_path + \"Output - BSL Image Frames - Sign - 22.csv\")\n",
        "u04s23 = pd.read_csv(common_path + \"Output - BSL Image Frames - Sign - 23.csv\")\n",
        "u04s24 = pd.read_csv(common_path + \"Output - BSL Image Frames - Sign - 24.csv\")\n",
        "u04s25 = pd.read_csv(common_path + \"Output - BSL Image Frames - Sign - 25.csv\")\n",
        "u04s26 = pd.read_csv(common_path + \"Output - BSL Image Frames - Sign - 26.csv\")\n",
        "u04s27 = pd.read_csv(common_path + \"Output - BSL Image Frames - Sign - 27.csv\")\n",
        "u04s28 = pd.read_csv(common_path + \"Output - BSL Image Frames - Sign - 28.csv\")\n",
        "u04s29 = pd.read_csv(common_path + \"Output - BSL Image Frames - Sign - 29.csv\")\n",
        "\n",
        "\n",
        "u04s30 = pd.read_csv(common_path + \"Output - BSL Image Frames - Sign - 30.csv\")\n",
        "u04s31 = pd.read_csv(common_path + \"Output - BSL Image Frames - Sign - 31.csv\")\n",
        "u04s32 = pd.read_csv(common_path + \"Output - BSL Image Frames - Sign - 32.csv\")\n",
        "u04s33 = pd.read_csv(common_path + \"Output - BSL Image Frames - Sign - 33.csv\")\n",
        "u04s34 = pd.read_csv(common_path + \"Output - BSL Image Frames - Sign - 34.csv\")\n",
        "u04s35 = pd.read_csv(common_path + \"Output - BSL Image Frames - Sign - 35.csv\")\n",
        "u04s36 = pd.read_csv(common_path + \"Output - BSL Image Frames - Sign - 36.csv\")"
      ],
      "metadata": {
        "execution": {
          "iopub.status.busy": "2022-07-18T06:26:27.532928Z",
          "iopub.execute_input": "2022-07-18T06:26:27.533363Z",
          "iopub.status.idle": "2022-07-18T06:26:28.003496Z",
          "shell.execute_reply.started": "2022-07-18T06:26:27.533329Z",
          "shell.execute_reply": "2022-07-18T06:26:28.002549Z"
        },
        "trusted": true,
        "id": "tZVGifD0U5Uy"
      },
      "execution_count": 7,
      "outputs": []
    },
    {
      "cell_type": "markdown",
      "source": [
        "## User 5 "
      ],
      "metadata": {
        "id": "jiXVobmWU5Uy"
      }
    },
    {
      "cell_type": "code",
      "source": [
        "common_path = \"/content/drive/MyDrive/kaggle/input/Bangla Sign Language Dataset CSV Files/Sign Alphabet Dataset CSV Files/Subject 05 - Male, 24/\"\n",
        "\n",
        "u05s00 = pd.read_csv(common_path + \"Output - BSL Image Frames - Sign 00.csv\")\n",
        "u05s01 = pd.read_csv(common_path + \"Output - BSL Image Frames - Sign 01.csv\")\n",
        "u05s02 = pd.read_csv(common_path + \"Output - BSL Image Frames - Sign 02.csv\")\n",
        "u05s03 = pd.read_csv(common_path + \"Output - BSL Image Frames - Sign 03.csv\")\n",
        "u05s04 = pd.read_csv(common_path + \"Output - BSL Image Frames - Sign 04.csv\")\n",
        "u05s05 = pd.read_csv(common_path + \"Output - BSL Image Frames - Sign 05.csv\")\n",
        "u05s06 = pd.read_csv(common_path + \"Output - BSL Image Frames - Sign 06.csv\")\n",
        "u05s07 = pd.read_csv(common_path + \"Output - BSL Image Frames - Sign 07.csv\")\n",
        "u05s08 = pd.read_csv(common_path + \"Output - BSL Image Frames - Sign 08.csv\")\n",
        "u05s09 = pd.read_csv(common_path + \"Output - BSL Image Frames - Sign 09.csv\")\n",
        "\n",
        "\n",
        "u05s10 = pd.read_csv(common_path + \"Output - BSL Image Frames - Sign 10.csv\")\n",
        "u05s11 = pd.read_csv(common_path + \"Output - BSL Image Frames - Sign 11.csv\")\n",
        "u05s12 = pd.read_csv(common_path + \"Output - BSL Image Frames - Sign 12.csv\")\n",
        "u05s13 = pd.read_csv(common_path + \"Output - BSL Image Frames - Sign 13.csv\")\n",
        "u05s14 = pd.read_csv(common_path + \"Output - BSL Image Frames - Sign 14.csv\")\n",
        "u05s15 = pd.read_csv(common_path + \"Output - BSL Image Frames - Sign 15.csv\")\n",
        "u05s16 = pd.read_csv(common_path + \"Output - BSL Image Frames - Sign 16.csv\")\n",
        "u05s17 = pd.read_csv(common_path + \"Output - BSL Image Frames - Sign 17.csv\")\n",
        "u05s18 = pd.read_csv(common_path + \"Output - BSL Image Frames - Sign 18.csv\")\n",
        "u05s19 = pd.read_csv(common_path + \"Output - BSL Image Frames - Sign 19.csv\")\n",
        "\n",
        "\n",
        "u05s20 = pd.read_csv(common_path + \"Output - BSL Image Frames - Sign 20.csv\")\n",
        "u05s21 = pd.read_csv(common_path + \"Output - BSL Image Frames - Sign 21.csv\")\n",
        "u05s22 = pd.read_csv(common_path + \"Output - BSL Image Frames - Sign 22.csv\")\n",
        "u05s23 = pd.read_csv(common_path + \"Output - BSL Image Frames - Sign 23.csv\")\n",
        "u05s24 = pd.read_csv(common_path + \"Output - BSL Image Frames - Sign 24.csv\")\n",
        "u05s25 = pd.read_csv(common_path + \"Output - BSL Image Frames - Sign 25.csv\")\n",
        "u05s26 = pd.read_csv(common_path + \"Output - BSL Image Frames - Sign 26.csv\")\n",
        "u05s27 = pd.read_csv(common_path + \"Output - BSL Image Frames - Sign 27.csv\")\n",
        "u05s28 = pd.read_csv(common_path + \"Output - BSL Image Frames - Sign 28.csv\")\n",
        "u05s29 = pd.read_csv(common_path + \"Output - BSL Image Frames - Sign 29.csv\")\n",
        "\n",
        "\n",
        "u05s30 = pd.read_csv(common_path + \"Output - BSL Image Frames - Sign 30.csv\")\n",
        "u05s31 = pd.read_csv(common_path + \"Output - BSL Image Frames - Sign 31.csv\")\n",
        "u05s32 = pd.read_csv(common_path + \"Output - BSL Image Frames - Sign 32.csv\")\n",
        "u05s33 = pd.read_csv(common_path + \"Output - BSL Image Frames - Sign 33.csv\")\n",
        "u05s34 = pd.read_csv(common_path + \"Output - BSL Image Frames - Sign 34.csv\")\n",
        "u05s35 = pd.read_csv(common_path + \"Output - BSL Image Frames - Sign 35.csv\")\n",
        "u05s36 = pd.read_csv(common_path + \"Output - BSL Image Frames - Sign 36.csv\")"
      ],
      "metadata": {
        "execution": {
          "iopub.status.busy": "2022-07-18T06:29:19.204736Z",
          "iopub.execute_input": "2022-07-18T06:29:19.206026Z",
          "iopub.status.idle": "2022-07-18T06:29:19.656585Z",
          "shell.execute_reply.started": "2022-07-18T06:29:19.205981Z",
          "shell.execute_reply": "2022-07-18T06:29:19.654860Z"
        },
        "trusted": true,
        "id": "F9tSa9WKU5Uy"
      },
      "execution_count": 8,
      "outputs": []
    },
    {
      "cell_type": "markdown",
      "source": [
        "## User 6 "
      ],
      "metadata": {
        "id": "3NyP7T6LU5Uy"
      }
    },
    {
      "cell_type": "code",
      "source": [
        "common_path = \"/content/drive/MyDrive/kaggle/input/Bangla Sign Language Dataset CSV Files/Sign Alphabet Dataset CSV Files/Subject 06 - Female, 21/\"\n",
        "\n",
        "\n",
        "u06s00 = pd.read_csv(common_path + \"Output - BSL Image Frames - Sign 00.csv\")\n",
        "u06s01 = pd.read_csv(common_path + \"Output - BSL Image Frames - Sign 01.csv\")\n",
        "u06s02 = pd.read_csv(common_path + \"Output - BSL Image Frames - Sign 02.csv\")\n",
        "u06s03 = pd.read_csv(common_path + \"Output - BSL Image Frames - Sign 03.csv\")\n",
        "u06s04 = pd.read_csv(common_path + \"Output - BSL Image Frames - Sign 04.csv\")\n",
        "u06s05 = pd.read_csv(common_path + \"Output - BSL Image Frames - Sign 05.csv\")\n",
        "u06s06 = pd.read_csv(common_path + \"Output - BSL Image Frames - Sign 06.csv\")\n",
        "u06s07 = pd.read_csv(common_path + \"Output - BSL Image Frames - Sign 07.csv\")\n",
        "u06s08 = pd.read_csv(common_path + \"Output - BSL Image Frames - Sign 08.csv\")\n",
        "u06s09 = pd.read_csv(common_path + \"Output - BSL Image Frames - Sign 09.csv\")\n",
        "\n",
        "\n",
        "u06s10 = pd.read_csv(common_path + \"Output - BSL Image Frames - Sign 10.csv\")\n",
        "u06s11 = pd.read_csv(common_path + \"Output - BSL Image Frames - Sign 11.csv\")\n",
        "u06s12 = pd.read_csv(common_path + \"Output - BSL Image Frames - Sign 12.csv\")\n",
        "u06s13 = pd.read_csv(common_path + \"Output - BSL Image Frames - Sign 13.csv\")\n",
        "u06s14 = pd.read_csv(common_path + \"Output - BSL Image Frames - Sign 14.csv\")\n",
        "u06s15 = pd.read_csv(common_path + \"Output - BSL Image Frames - Sign 15.csv\")\n",
        "u06s16 = pd.read_csv(common_path + \"Output - BSL Image Frames - Sign 16.csv\")\n",
        "u06s17 = pd.read_csv(common_path + \"Output - BSL Image Frames - Sign 17.csv\")\n",
        "u06s18 = pd.read_csv(common_path + \"Output - BSL Image Frames - Sign 18.csv\")\n",
        "u06s19 = pd.read_csv(common_path + \"Output - BSL Image Frames - Sign 19.csv\")\n",
        "\n",
        "\n",
        "u06s20 = pd.read_csv(common_path + \"Output - BSL Image Frames - Sign 20.csv\")\n",
        "u06s21 = pd.read_csv(common_path + \"Output - BSL Image Frames - Sign 21.csv\")\n",
        "u06s22 = pd.read_csv(common_path + \"Output - BSL Image Frames - Sign 22.csv\")\n",
        "u06s23 = pd.read_csv(common_path + \"Output - BSL Image Frames - Sign 23.csv\")\n",
        "u06s24 = pd.read_csv(common_path + \"Output - BSL Image Frames - Sign 24.csv\")\n",
        "u06s25 = pd.read_csv(common_path + \"Output - BSL Image Frames - Sign 25.csv\")\n",
        "u06s26 = pd.read_csv(common_path + \"Output - BSL Image Frames - Sign 26.csv\")\n",
        "u06s27 = pd.read_csv(common_path + \"Output - BSL Image Frames - Sign 27.csv\")\n",
        "u06s28 = pd.read_csv(common_path + \"Output - BSL Image Frames - Sign 28.csv\")\n",
        "u06s29 = pd.read_csv(common_path + \"Output - BSL Image Frames - Sign 29.csv\")\n",
        "\n",
        "\n",
        "u06s30 = pd.read_csv(common_path + \"Output - BSL Image Frames - Sign 30.csv\")\n",
        "u06s31 = pd.read_csv(common_path + \"Output - BSL Image Frames - Sign 31.csv\")\n",
        "u06s32 = pd.read_csv(common_path + \"Output - BSL Image Frames - Sign 32.csv\")\n",
        "u06s33 = pd.read_csv(common_path + \"Output - BSL Image Frames - Sign 33.csv\")\n",
        "u06s34 = pd.read_csv(common_path + \"Output - BSL Image Frames - Sign 34.csv\")\n",
        "u06s35 = pd.read_csv(common_path + \"Output - BSL Image Frames - Sign 35.csv\")\n",
        "u06s36 = pd.read_csv(common_path + \"Output - BSL Image Frames - Sign 36.csv\")"
      ],
      "metadata": {
        "execution": {
          "iopub.status.busy": "2022-07-18T06:31:32.701761Z",
          "iopub.execute_input": "2022-07-18T06:31:32.702209Z",
          "iopub.status.idle": "2022-07-18T06:31:33.122805Z",
          "shell.execute_reply.started": "2022-07-18T06:31:32.702166Z",
          "shell.execute_reply": "2022-07-18T06:31:33.121771Z"
        },
        "trusted": true,
        "id": "gx4JF5lhU5Uz"
      },
      "execution_count": 9,
      "outputs": []
    },
    {
      "cell_type": "markdown",
      "source": [
        "## User 7 "
      ],
      "metadata": {
        "id": "5S0ZgRghU5Uz"
      }
    },
    {
      "cell_type": "code",
      "source": [
        "common_path = \"/content/drive/MyDrive/kaggle/input/Bangla Sign Language Dataset CSV Files/Sign Alphabet Dataset CSV Files/Subject 07 - Male, 14/\"\n",
        "\n",
        "\n",
        "u07s00 = pd.read_csv(common_path + \"Output Images - Sign 00.csv\")\n",
        "u07s01 = pd.read_csv(common_path + \"Output Images - Sign 01.csv\")\n",
        "u07s02 = pd.read_csv(common_path + \"Output Images - Sign 02.csv\")\n",
        "u07s03 = pd.read_csv(common_path + \"Output Images - Sign 03.csv\")\n",
        "u07s04 = pd.read_csv(common_path + \"Output Images - Sign 04.csv\")\n",
        "u07s05 = pd.read_csv(common_path + \"Output Images - Sign 05.csv\")\n",
        "u07s06 = pd.read_csv(common_path + \"Output Images - Sign 06.csv\")\n",
        "u07s07 = pd.read_csv(common_path + \"Output Images - Sign 07.csv\")\n",
        "u07s08 = pd.read_csv(common_path + \"Output Images - Sign 08.csv\")\n",
        "u07s09 = pd.read_csv(common_path + \"Output Images - Sign 09.csv\")\n",
        "\n",
        "\n",
        "u07s10 = pd.read_csv(common_path + \"Output Images - Sign 10.csv\")\n",
        "u07s11 = pd.read_csv(common_path + \"Output Images - Sign 11.csv\")\n",
        "u07s12 = pd.read_csv(common_path + \"Output Images - Sign 12.csv\")\n",
        "u07s13 = pd.read_csv(common_path + \"Output Images - Sign 13.csv\")\n",
        "u07s14 = pd.read_csv(common_path + \"Output Images - Sign 14.csv\")\n",
        "u07s15 = pd.read_csv(common_path + \"Output Images - Sign 15.csv\")\n",
        "u07s16 = pd.read_csv(common_path + \"Output Images - Sign 16.csv\")\n",
        "u07s17 = pd.read_csv(common_path + \"Output Images - Sign 17.csv\")\n",
        "u07s18 = pd.read_csv(common_path + \"Output Images - Sign 18.csv\")\n",
        "u07s19 = pd.read_csv(common_path + \"Output Images - Sign 19.csv\")\n",
        "\n",
        "\n",
        "u07s20 = pd.read_csv(common_path + \"Output Images - Sign 20.csv\")\n",
        "u07s21 = pd.read_csv(common_path + \"Output Images - Sign 21.csv\")\n",
        "u07s22 = pd.read_csv(common_path + \"Output Images - Sign 22.csv\")\n",
        "u07s23 = pd.read_csv(common_path + \"Output Images - Sign 23.csv\")\n",
        "u07s24 = pd.read_csv(common_path + \"Output Images - Sign 24.csv\")\n",
        "u07s25 = pd.read_csv(common_path + \"Output Images - Sign 25.csv\")\n",
        "u07s26 = pd.read_csv(common_path + \"Output Images - Sign 26.csv\")\n",
        "u07s27 = pd.read_csv(common_path + \"Output Images - Sign 27.csv\")\n",
        "u07s28 = pd.read_csv(common_path + \"Output Images - Sign 28.csv\")\n",
        "u07s29 = pd.read_csv(common_path + \"Output Images - Sign 29.csv\")\n",
        "\n",
        "\n",
        "u07s30 = pd.read_csv(common_path + \"Output Images - Sign 30.csv\")\n",
        "u07s31 = pd.read_csv(common_path + \"Output Images - Sign 31.csv\")\n",
        "u07s32 = pd.read_csv(common_path + \"Output Images - Sign 32.csv\")\n",
        "u07s33 = pd.read_csv(common_path + \"Output Images - Sign 33.csv\")\n",
        "u07s34 = pd.read_csv(common_path + \"Output Images - Sign 34.csv\")\n",
        "u07s35 = pd.read_csv(common_path + \"Output Images - Sign 35.csv\")\n",
        "u07s36 = pd.read_csv(common_path + \"Output Images - Sign 36.csv\")"
      ],
      "metadata": {
        "execution": {
          "iopub.status.busy": "2022-07-18T06:33:59.038387Z",
          "iopub.execute_input": "2022-07-18T06:33:59.039304Z",
          "iopub.status.idle": "2022-07-18T06:33:59.487596Z",
          "shell.execute_reply.started": "2022-07-18T06:33:59.039263Z",
          "shell.execute_reply": "2022-07-18T06:33:59.486217Z"
        },
        "trusted": true,
        "id": "lL_tamt0U5Uz"
      },
      "execution_count": 10,
      "outputs": []
    },
    {
      "cell_type": "markdown",
      "source": [
        "## User 8  "
      ],
      "metadata": {
        "id": "KI3CE-5YU5Uz"
      }
    },
    {
      "cell_type": "code",
      "source": [
        "common_path = \"/content/drive/MyDrive/kaggle/input/Bangla Sign Language Dataset CSV Files/Sign Alphabet Dataset CSV Files/Subject 08 - Male, 24/\"\n",
        "\n",
        "\n",
        "u08s00 = pd.read_csv(common_path + \"Output Images - Sign 00.csv\")\n",
        "u08s01 = pd.read_csv(common_path + \"Output Images - Sign 01.csv\")\n",
        "u08s02 = pd.read_csv(common_path + \"Output Images - Sign 02.csv\")\n",
        "u08s03 = pd.read_csv(common_path + \"Output Images - Sign 03.csv\")\n",
        "u08s04 = pd.read_csv(common_path + \"Output Images - Sign 04.csv\")\n",
        "u08s05 = pd.read_csv(common_path + \"Output Images - Sign 05.csv\")\n",
        "u08s06 = pd.read_csv(common_path + \"Output Images - Sign 06.csv\")\n",
        "u08s07 = pd.read_csv(common_path + \"Output Images - Sign 07.csv\")\n",
        "u08s08 = pd.read_csv(common_path + \"Output Images - Sign 08.csv\")\n",
        "u08s09 = pd.read_csv(common_path + \"Output Images - Sign 09.csv\")\n",
        "\n",
        "\n",
        "u08s10 = pd.read_csv(common_path + \"Output Images - Sign 10.csv\")\n",
        "u08s11 = pd.read_csv(common_path + \"Output Images - Sign 11.csv\")\n",
        "u08s12 = pd.read_csv(common_path + \"Output Images - Sign 12.csv\")\n",
        "u08s13 = pd.read_csv(common_path + \"Output Images - Sign 13.csv\")\n",
        "u08s14 = pd.read_csv(common_path + \"Output Images - Sign 14.csv\")\n",
        "u08s15 = pd.read_csv(common_path + \"Output Images - Sign 15.csv\")\n",
        "u08s16 = pd.read_csv(common_path + \"Output Images - Sign 16.csv\")\n",
        "u08s17 = pd.read_csv(common_path + \"Output Images - Sign 17.csv\")\n",
        "u08s18 = pd.read_csv(common_path + \"Output Images - Sign 18.csv\")\n",
        "u08s19 = pd.read_csv(common_path + \"Output Images - Sign 19.csv\")\n",
        "\n",
        "\n",
        "u08s20 = pd.read_csv(common_path + \"Output Images - Sign 20.csv\")\n",
        "u08s21 = pd.read_csv(common_path + \"Output Images - Sign 21.csv\")\n",
        "u08s22 = pd.read_csv(common_path + \"Output Images - Sign 22.csv\")\n",
        "u08s23 = pd.read_csv(common_path + \"Output Images - Sign 23.csv\")\n",
        "u08s24 = pd.read_csv(common_path + \"Output Images - Sign 24.csv\")\n",
        "u08s25 = pd.read_csv(common_path + \"Output Images - Sign 25.csv\")\n",
        "u08s26 = pd.read_csv(common_path + \"Output Images - Sign 26.csv\")\n",
        "u08s27 = pd.read_csv(common_path + \"Output Images - Sign 27.csv\")\n",
        "u08s28 = pd.read_csv(common_path + \"Output Images - Sign 28.csv\")\n",
        "u08s29 = pd.read_csv(common_path + \"Output Images - Sign 29.csv\")\n",
        "\n",
        "\n",
        "u08s30 = pd.read_csv(common_path + \"Output Images - Sign 30.csv\")\n",
        "u08s31 = pd.read_csv(common_path + \"Output Images - Sign 31.csv\")\n",
        "u08s32 = pd.read_csv(common_path + \"Output Images - Sign 32.csv\")\n",
        "u08s33 = pd.read_csv(common_path + \"Output Images - Sign 33.csv\")\n",
        "u08s34 = pd.read_csv(common_path + \"Output Images - Sign 34.csv\")\n",
        "u08s35 = pd.read_csv(common_path + \"Output Images - Sign 35.csv\")\n",
        "u08s36 = pd.read_csv(common_path + \"Output Images - Sign 36.csv\")"
      ],
      "metadata": {
        "execution": {
          "iopub.status.busy": "2022-07-18T06:43:55.535432Z",
          "iopub.execute_input": "2022-07-18T06:43:55.535966Z",
          "iopub.status.idle": "2022-07-18T06:43:56.219017Z",
          "shell.execute_reply.started": "2022-07-18T06:43:55.535919Z",
          "shell.execute_reply": "2022-07-18T06:43:56.217728Z"
        },
        "trusted": true,
        "id": "YY9vTF_qU5Uz"
      },
      "execution_count": 11,
      "outputs": []
    },
    {
      "cell_type": "markdown",
      "source": [
        "## User 9 "
      ],
      "metadata": {
        "id": "OJB6YBq7U5U0"
      }
    },
    {
      "cell_type": "code",
      "source": [
        "common_path = \"/content/drive/MyDrive/kaggle/input/Bangla Sign Language Dataset CSV Files/Sign Alphabet Dataset CSV Files/Subject 09 - Male, 26/\"\n",
        "\n",
        "\n",
        "u09s00 = pd.read_csv(common_path + \"Output Images - Sign 00.csv\")\n",
        "u09s01 = pd.read_csv(common_path + \"Output Images - Sign 01.csv\")\n",
        "u09s02 = pd.read_csv(common_path + \"Output Images - Sign 02.csv\")\n",
        "u09s03 = pd.read_csv(common_path + \"Output Images - Sign 03.csv\")\n",
        "u09s04 = pd.read_csv(common_path + \"Output Images - Sign 04.csv\")\n",
        "u09s05 = pd.read_csv(common_path + \"Output Images - Sign 05.csv\")\n",
        "u09s06 = pd.read_csv(common_path + \"Output Images - Sign 06.csv\")\n",
        "u09s07 = pd.read_csv(common_path + \"Output Images - Sign 07.csv\")\n",
        "u09s08 = pd.read_csv(common_path + \"Output Images - Sign 08.csv\")\n",
        "u09s09 = pd.read_csv(common_path + \"Output Images - Sign 09.csv\")\n",
        "\n",
        "\n",
        "u09s10 = pd.read_csv(common_path + \"Output Images - Sign 10.csv\")\n",
        "u09s11 = pd.read_csv(common_path + \"Output Images - Sign 11.csv\")\n",
        "u09s12 = pd.read_csv(common_path + \"Output Images - Sign 12.csv\")\n",
        "u09s13 = pd.read_csv(common_path + \"Output Images - Sign 13.csv\")\n",
        "u09s14 = pd.read_csv(common_path + \"Output Images - Sign 14.csv\")\n",
        "u09s15 = pd.read_csv(common_path + \"Output Images - Sign 15.csv\")\n",
        "u09s16 = pd.read_csv(common_path + \"Output Images - Sign 16.csv\")\n",
        "u09s17 = pd.read_csv(common_path + \"Output Images - Sign 17.csv\")\n",
        "u09s18 = pd.read_csv(common_path + \"Output Images - Sign 18.csv\")\n",
        "u09s19 = pd.read_csv(common_path + \"Output Images - Sign 19.csv\")\n",
        "\n",
        "\n",
        "u09s20 = pd.read_csv(common_path + \"Output Images - Sign 20.csv\")\n",
        "u09s21 = pd.read_csv(common_path + \"Output Images - Sign 21.csv\")\n",
        "u09s22 = pd.read_csv(common_path + \"Output Images - Sign 22.csv\")\n",
        "u09s23 = pd.read_csv(common_path + \"Output Images - Sign 23.csv\")\n",
        "u09s24 = pd.read_csv(common_path + \"Output Images - Sign 24.csv\")\n",
        "u09s25 = pd.read_csv(common_path + \"Output Images - Sign 25.csv\")\n",
        "u09s26 = pd.read_csv(common_path + \"Output Images - Sign 26.csv\")\n",
        "u09s27 = pd.read_csv(common_path + \"Output Images - Sign 27.csv\")\n",
        "u09s28 = pd.read_csv(common_path + \"Output Images - Sign 28.csv\")\n",
        "u09s29 = pd.read_csv(common_path + \"Output Images - Sign 29.csv\")\n",
        "\n",
        "\n",
        "u09s30 = pd.read_csv(common_path + \"Output Images - Sign 30.csv\")\n",
        "u09s31 = pd.read_csv(common_path + \"Output Images - Sign 31.csv\")\n",
        "u09s32 = pd.read_csv(common_path + \"Output Images - Sign 32.csv\")\n",
        "u09s33 = pd.read_csv(common_path + \"Output Images - Sign 33.csv\")\n",
        "u09s34 = pd.read_csv(common_path + \"Output Images - Sign 34.csv\")\n",
        "u09s35 = pd.read_csv(common_path + \"Output Images - Sign 35.csv\")\n",
        "u09s36 = pd.read_csv(common_path + \"Output Images - Sign 36.csv\")"
      ],
      "metadata": {
        "execution": {
          "iopub.status.busy": "2022-07-18T06:45:24.518066Z",
          "iopub.execute_input": "2022-07-18T06:45:24.518574Z",
          "iopub.status.idle": "2022-07-18T06:45:25.011331Z",
          "shell.execute_reply.started": "2022-07-18T06:45:24.518537Z",
          "shell.execute_reply": "2022-07-18T06:45:25.010174Z"
        },
        "trusted": true,
        "id": "-ziG8M6IU5U0"
      },
      "execution_count": 12,
      "outputs": []
    },
    {
      "cell_type": "markdown",
      "source": [
        "## User 10 "
      ],
      "metadata": {
        "id": "bMceLTEnU5U0"
      }
    },
    {
      "cell_type": "code",
      "source": [
        "common_path = \"/content/drive/MyDrive/kaggle/input/Bangla Sign Language Dataset CSV Files/Sign Alphabet Dataset CSV Files/Subject 10 - Female, 21/\"\n",
        "\n",
        "\n",
        "u10s00 = pd.read_csv(common_path + \"Output Images - sign 00.csv\")\n",
        "u10s01 = pd.read_csv(common_path + \"Output Images - sign 01.csv\")\n",
        "u10s02 = pd.read_csv(common_path + \"Output Images - sign 02.csv\")\n",
        "u10s03 = pd.read_csv(common_path + \"Output Images - sign 03.csv\")\n",
        "u10s04 = pd.read_csv(common_path + \"Output Images - sign 04.csv\")\n",
        "u10s05 = pd.read_csv(common_path + \"Output Images - sign 05.csv\")\n",
        "u10s06 = pd.read_csv(common_path + \"Output Images - sign 06.csv\")\n",
        "u10s07 = pd.read_csv(common_path + \"Output Images - sign 07.csv\")\n",
        "u10s08 = pd.read_csv(common_path + \"Output Images - sign 08.csv\")\n",
        "u10s09 = pd.read_csv(common_path + \"Output Images - sign 09.csv\")\n",
        "\n",
        "\n",
        "u10s10 = pd.read_csv(common_path + \"Output Images - sign 10.csv\")\n",
        "u10s11 = pd.read_csv(common_path + \"Output Images - sign 11.csv\")\n",
        "u10s12 = pd.read_csv(common_path + \"Output Images - sign 12.csv\")\n",
        "u10s13 = pd.read_csv(common_path + \"Output Images - sign 13.csv\")\n",
        "u10s14 = pd.read_csv(common_path + \"Output Images - sign 14.csv\")\n",
        "u10s15 = pd.read_csv(common_path + \"Output Images - sign 15.csv\")\n",
        "u10s16 = pd.read_csv(common_path + \"Output Images - sign 16.csv\")\n",
        "u10s17 = pd.read_csv(common_path + \"Output Images - sign 17.csv\")\n",
        "u10s18 = pd.read_csv(common_path + \"Output Images - sign 18.csv\")\n",
        "u10s19 = pd.read_csv(common_path + \"Output Images - sign 19.csv\")\n",
        "\n",
        "\n",
        "u10s20 = pd.read_csv(common_path + \"Output Images - sign 20.csv\")\n",
        "u10s21 = pd.read_csv(common_path + \"Output Images - sign 21.csv\")\n",
        "u10s22 = pd.read_csv(common_path + \"Output Images - sign 22.csv\")\n",
        "u10s23 = pd.read_csv(common_path + \"Output Images - sign 23.csv\")\n",
        "u10s24 = pd.read_csv(common_path + \"Output Images - sign 24.csv\")\n",
        "u10s25 = pd.read_csv(common_path + \"Output Images - sign 25.csv\")\n",
        "u10s26 = pd.read_csv(common_path + \"Output Images - sign 26.csv\")\n",
        "u10s27 = pd.read_csv(common_path + \"Output Images - sign 27.csv\")\n",
        "u10s28 = pd.read_csv(common_path + \"Output Images - sign 28.csv\")\n",
        "u10s29 = pd.read_csv(common_path + \"Output Images - sign 29.csv\")\n",
        "\n",
        "\n",
        "u10s30 = pd.read_csv(common_path + \"Output Images - sign 30.csv\")\n",
        "u10s31 = pd.read_csv(common_path + \"Output Images - sign 31.csv\")\n",
        "u10s32 = pd.read_csv(common_path + \"Output Images - sign 32.csv\")\n",
        "u10s33 = pd.read_csv(common_path + \"Output Images - sign 33.csv\")\n",
        "u10s34 = pd.read_csv(common_path + \"Output Images - sign 34.csv\")\n",
        "u10s35 = pd.read_csv(common_path + \"Output Images - sign 35.csv\")\n",
        "u10s36 = pd.read_csv(common_path + \"Output Images - sign 36.csv\")"
      ],
      "metadata": {
        "execution": {
          "iopub.status.busy": "2022-07-18T06:47:58.996245Z",
          "iopub.execute_input": "2022-07-18T06:47:58.996668Z",
          "iopub.status.idle": "2022-07-18T06:47:59.490324Z",
          "shell.execute_reply.started": "2022-07-18T06:47:58.996634Z",
          "shell.execute_reply": "2022-07-18T06:47:59.489040Z"
        },
        "trusted": true,
        "id": "U1B437dMU5U0"
      },
      "execution_count": 13,
      "outputs": []
    },
    {
      "cell_type": "markdown",
      "source": [
        "# Digits"
      ],
      "metadata": {
        "id": "U4-4VpjBU5U0"
      }
    },
    {
      "cell_type": "markdown",
      "source": [
        "## User 1 "
      ],
      "metadata": {
        "id": "vppt34cKU5U0"
      }
    },
    {
      "cell_type": "code",
      "source": [
        "common_path_digit = \"/content/drive/MyDrive/kaggle/input/Bangla Sign Language Dataset CSV Files/Sign Digit Dataset CSV Files/Subject 01 - Female, 52/\"\n",
        "\n",
        "\n",
        "u01s37 = pd.read_csv(common_path_digit + \"Output Images - Sign 0 (37).csv\")\n",
        "u01s38 = pd.read_csv(common_path_digit + \"Output Images - Sign 1 (38).csv\")\n",
        "u01s39 = pd.read_csv(common_path_digit + \"Output Images - Sign 2 (39).csv\")\n",
        "u01s40 = pd.read_csv(common_path_digit + \"Output Images - Sign 3 (40).csv\")\n",
        "u01s41 = pd.read_csv(common_path_digit + \"Output Images - Sign 4 (41).csv\")\n",
        "u01s42 = pd.read_csv(common_path_digit + \"Output Images - Sign 5 (42).csv\")\n",
        "u01s43 = pd.read_csv(common_path_digit + \"Output Images - Sign 6 (43).csv\")\n",
        "u01s44 = pd.read_csv(common_path_digit + \"Output Images - Sign 7 (44).csv\")\n",
        "u01s45 = pd.read_csv(common_path_digit + \"Output Images - Sign 8 (45).csv\")\n",
        "u01s46 = pd.read_csv(common_path_digit + \"Output Images - Sign 9 (46).csv\")"
      ],
      "metadata": {
        "execution": {
          "iopub.status.busy": "2022-07-18T06:52:25.387728Z",
          "iopub.execute_input": "2022-07-18T06:52:25.388646Z",
          "iopub.status.idle": "2022-07-18T06:52:25.492724Z",
          "shell.execute_reply.started": "2022-07-18T06:52:25.388607Z",
          "shell.execute_reply": "2022-07-18T06:52:25.491790Z"
        },
        "trusted": true,
        "id": "I6v7-pWwU5U0"
      },
      "execution_count": 14,
      "outputs": []
    },
    {
      "cell_type": "markdown",
      "source": [
        "## User 2"
      ],
      "metadata": {
        "id": "E0fjYoizU5U1"
      }
    },
    {
      "cell_type": "code",
      "source": [
        "common_path_digit = \"/content/drive/MyDrive/kaggle/input/Bangla Sign Language Dataset CSV Files/Sign Digit Dataset CSV Files/Subject 02 - Female, 19/\"\n",
        "\n",
        "\n",
        "u02s37 = pd.read_csv(common_path_digit + \"Output Images - Sign 0 (37).csv\")\n",
        "u02s38 = pd.read_csv(common_path_digit + \"Output Images - Sign 1 (38).csv\")\n",
        "u02s39 = pd.read_csv(common_path_digit + \"Output Images - Sign 2 (39).csv\")\n",
        "u02s40 = pd.read_csv(common_path_digit + \"Output Images - Sign 3 (40).csv\")\n",
        "u02s41 = pd.read_csv(common_path_digit + \"Output Images - Sign 4 (41).csv\")\n",
        "u02s42 = pd.read_csv(common_path_digit + \"Output Images - Sign 5 (42).csv\")\n",
        "u02s43 = pd.read_csv(common_path_digit + \"Output Images - Sign 6 (43).csv\")\n",
        "u02s44 = pd.read_csv(common_path_digit + \"Output Images - Sign 7 (44).csv\")\n",
        "u02s45 = pd.read_csv(common_path_digit + \"Output Images - Sign 8 (45).csv\")\n",
        "u02s46 = pd.read_csv(common_path_digit + \"Output Images - Sign 9 (46).csv\")"
      ],
      "metadata": {
        "execution": {
          "iopub.status.busy": "2022-07-18T06:52:34.993594Z",
          "iopub.execute_input": "2022-07-18T06:52:34.993959Z",
          "iopub.status.idle": "2022-07-18T06:52:35.090950Z",
          "shell.execute_reply.started": "2022-07-18T06:52:34.993929Z",
          "shell.execute_reply": "2022-07-18T06:52:35.089713Z"
        },
        "trusted": true,
        "id": "k5vgEpJjU5U1"
      },
      "execution_count": 15,
      "outputs": []
    },
    {
      "cell_type": "markdown",
      "source": [
        "## User 3 "
      ],
      "metadata": {
        "id": "BurFcmtSU5U1"
      }
    },
    {
      "cell_type": "code",
      "source": [
        "common_path_digit = \"/content/drive/MyDrive/kaggle/input/Bangla Sign Language Dataset CSV Files/Sign Digit Dataset CSV Files/Subject 03 - Male, 23/\"\n",
        "\n",
        "\n",
        "u03s37 = pd.read_csv(common_path_digit + \"Output Images - Sign 0 (37).csv\")\n",
        "u03s38 = pd.read_csv(common_path_digit + \"Output Images - Sign 1 (38).csv\")\n",
        "u03s39 = pd.read_csv(common_path_digit + \"Output Images - Sign 2 (39).csv\")\n",
        "u03s40 = pd.read_csv(common_path_digit + \"Output Images - Sign 3 (40).csv\")\n",
        "u03s41 = pd.read_csv(common_path_digit + \"Output Images - Sign 4 (41).csv\")\n",
        "u03s42 = pd.read_csv(common_path_digit + \"Output Images - Sign 5 (42).csv\")\n",
        "u03s43 = pd.read_csv(common_path_digit + \"Output Images - Sign 6 (43).csv\")\n",
        "u03s44 = pd.read_csv(common_path_digit + \"Output Images - Sign 7 (44).csv\")\n",
        "u03s45 = pd.read_csv(common_path_digit + \"Output Images - Sign 8 (45).csv\")\n",
        "u03s46 = pd.read_csv(common_path_digit + \"Output Images - Sign 9 (46).csv\")"
      ],
      "metadata": {
        "execution": {
          "iopub.status.busy": "2022-07-18T06:53:32.343222Z",
          "iopub.execute_input": "2022-07-18T06:53:32.343657Z",
          "iopub.status.idle": "2022-07-18T06:53:32.546035Z",
          "shell.execute_reply.started": "2022-07-18T06:53:32.343622Z",
          "shell.execute_reply": "2022-07-18T06:53:32.544864Z"
        },
        "trusted": true,
        "id": "FNeKWciEU5U1"
      },
      "execution_count": 16,
      "outputs": []
    },
    {
      "cell_type": "markdown",
      "source": [
        "## User 4 "
      ],
      "metadata": {
        "id": "5KoEwlyIU5U1"
      }
    },
    {
      "cell_type": "code",
      "source": [
        "common_path_digit = \"/content/drive/MyDrive/kaggle/input/Bangla Sign Language Dataset CSV Files/Sign Digit Dataset CSV Files/Subject 04 - Male, 55/\"\n",
        "\n",
        "\n",
        "u04s37 = pd.read_csv(common_path_digit + \"Output Images - Sign 0 (37).csv\")\n",
        "u04s38 = pd.read_csv(common_path_digit + \"Output Images - Sign 1 (38).csv\")\n",
        "u04s39 = pd.read_csv(common_path_digit + \"Output Images - Sign 2 (39).csv\")\n",
        "u04s40 = pd.read_csv(common_path_digit + \"Output Images - Sign 3 (40).csv\")\n",
        "u04s41 = pd.read_csv(common_path_digit + \"Output Images - Sign 4 (41).csv\")\n",
        "u04s42 = pd.read_csv(common_path_digit + \"Output Images - Sign 5 (42).csv\")\n",
        "u04s43 = pd.read_csv(common_path_digit + \"Output Images - Sign 6 (43).csv\")\n",
        "u04s44 = pd.read_csv(common_path_digit + \"Output Images - Sign 7 (44).csv\")\n",
        "u04s45 = pd.read_csv(common_path_digit + \"Output Images - Sign 8 (45).csv\")\n",
        "u04s46 = pd.read_csv(common_path_digit + \"Output Images - Sign 9 (46).csv\")"
      ],
      "metadata": {
        "execution": {
          "iopub.status.busy": "2022-07-18T06:54:13.583639Z",
          "iopub.execute_input": "2022-07-18T06:54:13.584043Z",
          "iopub.status.idle": "2022-07-18T06:54:13.787610Z",
          "shell.execute_reply.started": "2022-07-18T06:54:13.584010Z",
          "shell.execute_reply": "2022-07-18T06:54:13.785252Z"
        },
        "trusted": true,
        "id": "HV5Odi2-U5U1"
      },
      "execution_count": 17,
      "outputs": []
    },
    {
      "cell_type": "markdown",
      "source": [
        "## User 5 "
      ],
      "metadata": {
        "id": "sSHEpDLNU5U1"
      }
    },
    {
      "cell_type": "code",
      "source": [
        "common_path_digit = \"/content/drive/MyDrive/kaggle/input/Bangla Sign Language Dataset CSV Files/Sign Digit Dataset CSV Files/Subject 05 - Female, 23/\"\n",
        "\n",
        "\n",
        "u05s37 = pd.read_csv(common_path_digit + \"Output Images - Sign 0 (37).csv\")\n",
        "u05s38 = pd.read_csv(common_path_digit + \"Output Images - Sign 1 (38).csv\")\n",
        "u05s39 = pd.read_csv(common_path_digit + \"Output Images - Sign 2 (39).csv\")\n",
        "u05s40 = pd.read_csv(common_path_digit + \"Output Images - Sign 3 (40).csv\")\n",
        "u05s41 = pd.read_csv(common_path_digit + \"Output Images - Sign 4 (41).csv\")\n",
        "u05s42 = pd.read_csv(common_path_digit + \"Output Images - Sign 5 (42).csv\")\n",
        "u05s43 = pd.read_csv(common_path_digit + \"Output Images - Sign 6 (43).csv\")\n",
        "u05s44 = pd.read_csv(common_path_digit + \"Output Images - Sign 7 (44).csv\")\n",
        "u05s45 = pd.read_csv(common_path_digit + \"Output Images - Sign 8 (45).csv\")\n",
        "u05s46 = pd.read_csv(common_path_digit + \"Output Images - Sign 9 (46).csv\")"
      ],
      "metadata": {
        "execution": {
          "iopub.status.busy": "2022-07-18T06:54:46.977861Z",
          "iopub.execute_input": "2022-07-18T06:54:46.978267Z",
          "iopub.status.idle": "2022-07-18T06:54:47.208601Z",
          "shell.execute_reply.started": "2022-07-18T06:54:46.978235Z",
          "shell.execute_reply": "2022-07-18T06:54:47.207276Z"
        },
        "trusted": true,
        "id": "oFOcafhIU5U1"
      },
      "execution_count": 18,
      "outputs": []
    },
    {
      "cell_type": "markdown",
      "source": [
        "## User 6 "
      ],
      "metadata": {
        "id": "xURCXZTCU5U2"
      }
    },
    {
      "cell_type": "code",
      "source": [
        "common_path_digit = \"/content/drive/MyDrive/kaggle/input/Bangla Sign Language Dataset CSV Files/Sign Digit Dataset CSV Files/Subject 06 - Female, 58/\"\n",
        "\n",
        "\n",
        "u06s37 = pd.read_csv(common_path_digit + \"Output Images - Sign 0 (37).csv\")\n",
        "u06s38 = pd.read_csv(common_path_digit + \"Output Images - Sign 1 (38).csv\")\n",
        "u06s39 = pd.read_csv(common_path_digit + \"Output Images - Sign 2 (39).csv\")\n",
        "u06s40 = pd.read_csv(common_path_digit + \"Output Images - Sign 3 (40).csv\")\n",
        "u06s41 = pd.read_csv(common_path_digit + \"Output Images - Sign 4 (41).csv\")\n",
        "u06s42 = pd.read_csv(common_path_digit + \"Output Images - Sign 5 (42).csv\")\n",
        "u06s43 = pd.read_csv(common_path_digit + \"Output Images - Sign 6 (43).csv\")\n",
        "u06s44 = pd.read_csv(common_path_digit + \"Output Images - Sign 7 (44).csv\")\n",
        "u06s45 = pd.read_csv(common_path_digit + \"Output Images - Sign 8 (45).csv\")\n",
        "u06s46 = pd.read_csv(common_path_digit + \"Output Images - Sign 9 (46).csv\")"
      ],
      "metadata": {
        "execution": {
          "iopub.status.busy": "2022-07-18T06:55:22.393476Z",
          "iopub.execute_input": "2022-07-18T06:55:22.394030Z",
          "iopub.status.idle": "2022-07-18T06:55:22.537621Z",
          "shell.execute_reply.started": "2022-07-18T06:55:22.393976Z",
          "shell.execute_reply": "2022-07-18T06:55:22.536222Z"
        },
        "trusted": true,
        "id": "oT5tvCR-U5U2"
      },
      "execution_count": 19,
      "outputs": []
    },
    {
      "cell_type": "markdown",
      "source": [
        "## User 7  "
      ],
      "metadata": {
        "id": "_V-ksBm_U5U2"
      }
    },
    {
      "cell_type": "code",
      "source": [
        "common_path_digit = \"/content/drive/MyDrive/kaggle/input/Bangla Sign Language Dataset CSV Files/Sign Digit Dataset CSV Files/Subject 07 - Male, 62/\"\n",
        "\n",
        "\n",
        "u07s37 = pd.read_csv(common_path_digit + \"Output Images - Sign 0 (37).csv\")\n",
        "u07s38 = pd.read_csv(common_path_digit + \"Output Images - Sign 1 (38).csv\")\n",
        "u07s39 = pd.read_csv(common_path_digit + \"Output Images - Sign 2 (39).csv\")\n",
        "u07s40 = pd.read_csv(common_path_digit + \"Output Images - Sign 3 (40).csv\")\n",
        "u07s41 = pd.read_csv(common_path_digit + \"Output Images - Sign 4 (41).csv\")\n",
        "u07s42 = pd.read_csv(common_path_digit + \"Output Images - Sign 5 (42).csv\")\n",
        "u07s43 = pd.read_csv(common_path_digit + \"Output Images - Sign 6 (43).csv\")\n",
        "u07s44 = pd.read_csv(common_path_digit + \"Output Images - Sign 7 (44).csv\")\n",
        "u07s45 = pd.read_csv(common_path_digit + \"Output Images - Sign 8 (45).csv\")\n",
        "u07s46 = pd.read_csv(common_path_digit + \"Output Images - Sign 9 (46).csv\")"
      ],
      "metadata": {
        "execution": {
          "iopub.status.busy": "2022-07-18T06:55:49.025411Z",
          "iopub.execute_input": "2022-07-18T06:55:49.025798Z",
          "iopub.status.idle": "2022-07-18T06:55:49.162309Z",
          "shell.execute_reply.started": "2022-07-18T06:55:49.025769Z",
          "shell.execute_reply": "2022-07-18T06:55:49.161053Z"
        },
        "trusted": true,
        "id": "dOejdtXlU5U2"
      },
      "execution_count": 20,
      "outputs": []
    },
    {
      "cell_type": "markdown",
      "source": [
        "## User 8 "
      ],
      "metadata": {
        "id": "uVGN_SqiU5U2"
      }
    },
    {
      "cell_type": "code",
      "source": [
        "common_path_digit = \"/content/drive/MyDrive/kaggle/input/Bangla Sign Language Dataset CSV Files/Sign Digit Dataset CSV Files/Subject 08 - Male, 23/\"\n",
        "\n",
        "\n",
        "u08s37 = pd.read_csv(common_path_digit + \"Output Images - Sign 0 (37).csv\")\n",
        "u08s38 = pd.read_csv(common_path_digit + \"Output Images - Sign 1 (38).csv\")\n",
        "u08s39 = pd.read_csv(common_path_digit + \"Output Images - Sign 2 (39).csv\")\n",
        "u08s40 = pd.read_csv(common_path_digit + \"Output Images - Sign 3 (40).csv\")\n",
        "u08s41 = pd.read_csv(common_path_digit + \"Output Images - Sign 4 (41).csv\")\n",
        "u08s42 = pd.read_csv(common_path_digit + \"Output Images - Sign 5 (42).csv\")\n",
        "u08s43 = pd.read_csv(common_path_digit + \"Output Images - Sign 6 (43).csv\")\n",
        "u08s44 = pd.read_csv(common_path_digit + \"Output Images - Sign 7 (44).csv\")\n",
        "u08s45 = pd.read_csv(common_path_digit + \"Output Images - Sign 8 (45).csv\")\n",
        "u08s46 = pd.read_csv(common_path_digit + \"Output Images - Sign 9 (46).csv\")"
      ],
      "metadata": {
        "execution": {
          "iopub.status.busy": "2022-07-18T06:56:13.512120Z",
          "iopub.execute_input": "2022-07-18T06:56:13.512537Z",
          "iopub.status.idle": "2022-07-18T06:56:13.656680Z",
          "shell.execute_reply.started": "2022-07-18T06:56:13.512502Z",
          "shell.execute_reply": "2022-07-18T06:56:13.655567Z"
        },
        "trusted": true,
        "id": "A0quHGFgU5U2"
      },
      "execution_count": 21,
      "outputs": []
    },
    {
      "cell_type": "markdown",
      "source": [
        "## User 9 "
      ],
      "metadata": {
        "id": "R_8NHTI_U5U2"
      }
    },
    {
      "cell_type": "code",
      "source": [
        "common_path_digit = \"/content/drive/MyDrive/kaggle/input/Bangla Sign Language Dataset CSV Files/Sign Digit Dataset CSV Files/Subject 09 - Female, 19/\"\n",
        "\n",
        "\n",
        "u09s37 = pd.read_csv(common_path_digit + \"Output Images - Sign 0 (37).csv\")\n",
        "u09s38 = pd.read_csv(common_path_digit + \"Output Images - Sign 1 (38).csv\")\n",
        "u09s39 = pd.read_csv(common_path_digit + \"Output Images - Sign 2 (39).csv\")\n",
        "u09s40 = pd.read_csv(common_path_digit + \"Output Images - Sign 3 (40).csv\")\n",
        "u09s41 = pd.read_csv(common_path_digit + \"Output Images - Sign 4 (41).csv\")\n",
        "u09s42 = pd.read_csv(common_path_digit + \"Output Images - Sign 5 (42).csv\")\n",
        "u09s43 = pd.read_csv(common_path_digit + \"Output Images - Sign 6 (43).csv\")\n",
        "u09s44 = pd.read_csv(common_path_digit + \"Output Images - Sign 7 (44).csv\")\n",
        "u09s45 = pd.read_csv(common_path_digit + \"Output Images - Sign 8 (45).csv\")\n",
        "u09s46 = pd.read_csv(common_path_digit + \"Output Images - Sign 9 (46).csv\")"
      ],
      "metadata": {
        "execution": {
          "iopub.status.busy": "2022-07-18T06:56:53.414079Z",
          "iopub.execute_input": "2022-07-18T06:56:53.414509Z",
          "iopub.status.idle": "2022-07-18T06:56:53.551490Z",
          "shell.execute_reply.started": "2022-07-18T06:56:53.414474Z",
          "shell.execute_reply": "2022-07-18T06:56:53.550325Z"
        },
        "trusted": true,
        "id": "-Cz7gFCsU5U3"
      },
      "execution_count": 22,
      "outputs": []
    },
    {
      "cell_type": "markdown",
      "source": [
        "## User 10 "
      ],
      "metadata": {
        "id": "pLDSV2cRU5U3"
      }
    },
    {
      "cell_type": "code",
      "source": [
        "common_path_digit = \"/content/drive/MyDrive/kaggle/input/Bangla Sign Language Dataset CSV Files/Sign Digit Dataset CSV Files/Subject 10 - Male, 23/\"\n",
        "\n",
        "\n",
        "u10s37 = pd.read_csv(common_path_digit + \"Output Images - Sign 0 (37).csv\")\n",
        "u10s38 = pd.read_csv(common_path_digit + \"Output Images - Sign 1 (38).csv\")\n",
        "u10s39 = pd.read_csv(common_path_digit + \"Output Images - Sign 2 (39).csv\")\n",
        "u10s40 = pd.read_csv(common_path_digit + \"Output Images - Sign 3 (40).csv\")\n",
        "u10s41 = pd.read_csv(common_path_digit + \"Output Images - Sign 4 (41).csv\")\n",
        "u10s42 = pd.read_csv(common_path_digit + \"Output Images - Sign 5 (42).csv\")\n",
        "u10s43 = pd.read_csv(common_path_digit + \"Output Images - Sign 6 (43).csv\")\n",
        "u10s44 = pd.read_csv(common_path_digit + \"Output Images - Sign 7 (44).csv\")\n",
        "u10s45 = pd.read_csv(common_path_digit + \"Output Images - Sign 8 (45).csv\")\n",
        "u10s46 = pd.read_csv(common_path_digit + \"Output Images - Sign 9 (46).csv\")"
      ],
      "metadata": {
        "execution": {
          "iopub.status.busy": "2022-07-18T06:57:28.953693Z",
          "iopub.execute_input": "2022-07-18T06:57:28.954884Z",
          "iopub.status.idle": "2022-07-18T06:57:29.098248Z",
          "shell.execute_reply.started": "2022-07-18T06:57:28.954822Z",
          "shell.execute_reply": "2022-07-18T06:57:29.097311Z"
        },
        "trusted": true,
        "id": "JEiSuF5DU5U3"
      },
      "execution_count": 23,
      "outputs": []
    },
    {
      "cell_type": "code",
      "source": [
        "df = pd.concat([u01s00, u01s01, u01s02, u01s03, u01s04, u01s05, u01s06, u01s07, u01s08, u01s09,\n",
        "                u01s10, u01s11, u01s12, u01s13, u01s14, u01s15, u01s16, u01s17, u01s18, u01s19,\n",
        "                u01s20, u01s21, u01s22, u01s23, u01s24, u01s25, u01s26, u01s27, u01s28, u01s29,\n",
        "                u01s30, u01s31, u01s32, u01s33, u01s34, u01s35, u01s36, u01s37, u01s38, u01s39,\n",
        "                u01s40, u01s41, u01s42, u01s43, u01s44, u01s45, u01s46, \n",
        "                \n",
        "                u02s00, u02s01, u02s02, u02s03, u02s04, u02s05, u02s06, u02s07, u02s08, u02s09,\n",
        "                u02s10, u02s11, u02s12, u02s13, u02s14, u02s15, u02s16, u02s17, u02s18, u02s19,\n",
        "                u02s20, u02s21, u02s22, u02s23, u02s24, u02s25, u02s26, u02s27, u02s28, u02s29,\n",
        "                u02s30, u02s31, u02s32, u02s33, u02s34, u02s35, u02s36, u02s37, u02s38, u02s39,\n",
        "                u02s40, u02s41, u02s42, u02s43, u02s44, u02s45, u02s46, \n",
        "                \n",
        "                u03s00, u03s01, u03s02, u03s03, u03s04, u03s05, u03s06, u03s07, u03s08, u03s09,\n",
        "                u03s10, u03s11, u03s12, u03s13, u03s14, u03s15, u03s16, u03s17, u03s18, u03s19,\n",
        "                u03s20, u03s21, u03s22, u03s23, u03s24, u03s25, u03s26, u03s27, u03s28, u03s29,\n",
        "                u03s30, u03s31, u03s32, u03s33, u03s34, u03s35, u03s36, u03s37, u03s38, u03s39,\n",
        "                u03s40, u03s41, u03s42, u03s43, u03s44, u03s45, u03s46, \n",
        "                \n",
        "                u04s00, u04s01, u04s02, u04s03, u04s04, u04s05, u04s06, u04s07, u04s08, u04s09,\n",
        "                u04s10, u04s11, u04s12, u04s13, u04s14, u04s15, u04s16, u04s17, u04s18, u04s19,\n",
        "                u04s20, u04s21, u04s22, u04s23, u04s24, u04s25, u04s26, u04s27, u04s28, u04s29,\n",
        "                u04s30, u04s31, u04s32, u04s33, u04s34, u04s35, u04s36, u04s37, u04s38, u04s39,\n",
        "                u04s40, u04s41, u04s42, u04s43, u04s44, u04s45, u04s46, \n",
        "                \n",
        "                u05s00, u05s01, u05s02, u05s03, u05s04, u05s05, u05s06, u05s07, u05s08, u05s09,\n",
        "                u05s10, u05s11, u05s12, u05s13, u05s14, u05s15, u05s16, u05s17, u05s18, u05s19,\n",
        "                u05s20, u05s21, u05s22, u05s23, u05s24, u05s25, u05s26, u05s27, u05s28, u05s29,\n",
        "                u05s30, u05s31, u05s32, u05s33, u05s34, u05s35, u05s36, u05s37, u05s38, u05s39,\n",
        "                u05s40, u05s41, u05s42, u05s43, u05s44, u05s45, u05s46, \n",
        "                \n",
        "                u06s00, u06s01, u06s02, u06s03, u06s04, u06s05, u06s06, u06s07, u06s08, u06s09,\n",
        "                u06s10, u06s11, u06s12, u06s13, u06s14, u06s15, u06s16, u06s17, u06s18, u06s19,\n",
        "                u06s20, u06s21, u06s22, u06s23, u06s24, u06s25, u06s26, u06s27, u06s28, u06s29,\n",
        "                u06s30, u06s31, u06s32, u06s33, u06s34, u06s35, u06s36, u06s37, u06s38, u06s39,\n",
        "                u06s40, u06s41, u06s42, u06s43, u06s44, u06s45, u06s46, \n",
        "                \n",
        "                u07s00, u07s01, u07s02, u07s03, u07s04, u07s05, u07s06, u07s07, u07s08, u07s09,\n",
        "                u07s10, u07s11, u07s12, u07s13, u07s14, u07s15, u07s16, u07s17, u07s18, u07s19,\n",
        "                u07s20, u07s21, u07s22, u07s23, u07s24, u07s25, u07s26, u07s27, u07s28, u07s29,\n",
        "                u07s30, u07s31, u07s32, u07s33, u07s34, u07s35, u07s36, u07s37, u07s38, u07s39,\n",
        "                u07s40, u07s41, u07s42, u07s43, u07s44, u07s45, u07s46, \n",
        "                \n",
        "                u08s00, u08s01, u08s02, u08s03, u08s04, u08s05, u08s06, u08s07, u08s08, u08s09,\n",
        "                u08s10, u08s11, u08s12, u08s13, u08s14, u08s15, u08s16, u08s17, u08s18, u08s19,\n",
        "                u08s20, u08s21, u08s22, u08s23, u08s24, u08s25, u08s26, u08s27, u08s28, u08s29,\n",
        "                u08s30, u08s31, u08s32, u08s33, u08s34, u08s35, u08s36, u08s37, u08s38, u08s39,\n",
        "                u08s40, u08s41, u08s42, u08s43, u08s44, u08s45, u08s46, \n",
        "                \n",
        "                u09s00, u09s01, u09s02, u09s03, u09s04, u09s05, u09s06, u09s07, u09s08, u09s09,\n",
        "                u09s10, u09s11, u09s12, u09s13, u09s14, u09s15, u09s16, u09s17, u09s18, u09s19,\n",
        "                u09s20, u09s21, u09s22, u09s23, u09s24, u09s25, u09s26, u09s27, u09s28, u09s29,\n",
        "                u09s30, u09s31, u09s32, u09s33, u09s34, u09s35, u09s36, u09s37, u09s38, u09s39,\n",
        "                u09s40, u09s41, u09s42, u09s43, u09s44, u09s45, u09s46, \n",
        "                \n",
        "                u10s00, u10s01, u10s02, u10s03, u10s04, u10s05, u10s06, u10s07, u10s08, u10s09,\n",
        "                u10s10, u10s11, u10s12, u10s13, u10s14, u10s15, u10s16, u10s17, u10s18, u10s19,\n",
        "                u10s20, u10s21, u10s22, u10s23, u10s24, u10s25, u10s26, u10s27, u10s28, u10s29,\n",
        "                u10s30, u10s31, u10s32, u10s33, u10s34, u10s35, u10s36, u10s37, u10s38, u10s39,\n",
        "                u10s40, u10s41, u10s42, u10s43, u10s44, u10s45, u10s46\n",
        "            \n",
        "               ])"
      ],
      "metadata": {
        "execution": {
          "iopub.status.busy": "2022-07-18T07:23:02.509153Z",
          "iopub.execute_input": "2022-07-18T07:23:02.509596Z",
          "iopub.status.idle": "2022-07-18T07:23:02.687364Z",
          "shell.execute_reply.started": "2022-07-18T07:23:02.509560Z",
          "shell.execute_reply": "2022-07-18T07:23:02.686249Z"
        },
        "trusted": true,
        "id": "0NErHGYCU5U3"
      },
      "execution_count": 24,
      "outputs": []
    },
    {
      "cell_type": "code",
      "source": [],
      "metadata": {
        "id": "agyWkaijPMVp"
      },
      "execution_count": 24,
      "outputs": []
    },
    {
      "cell_type": "code",
      "source": [
        "df"
      ],
      "metadata": {
        "execution": {
          "iopub.status.busy": "2022-07-18T07:23:05.566294Z",
          "iopub.execute_input": "2022-07-18T07:23:05.566820Z",
          "iopub.status.idle": "2022-07-18T07:23:05.637553Z",
          "shell.execute_reply.started": "2022-07-18T07:23:05.566777Z",
          "shell.execute_reply": "2022-07-18T07:23:05.636108Z"
        },
        "trusted": true,
        "colab": {
          "base_uri": "https://localhost:8080/",
          "height": 956
        },
        "id": "-jQjpor2U5U3",
        "outputId": "ff0ba109-31eb-44a9-857c-0bad131c8754"
      },
      "execution_count": 25,
      "outputs": [
        {
          "output_type": "execute_result",
          "data": {
            "text/plain": [
              "                                   Single Image Frame       x00       y00  \\\n",
              "0                                F:\\sign 00\\x (1).jpg  0.203971  0.577323   \n",
              "1                                F:\\sign 00\\x (2).jpg  0.218817  0.588807   \n",
              "2                                F:\\sign 00\\x (3).jpg  0.223006  0.588451   \n",
              "3                                F:\\sign 00\\x (4).jpg  0.230761  0.589568   \n",
              "4                                F:\\sign 00\\x (5).jpg  0.398876  0.586115   \n",
              "..                                                ...       ...       ...   \n",
              "95  D://BSL Digits//User 10 - Gazi (Male, 23)//Sig...  0.424403  0.281642   \n",
              "96  D://BSL Digits//User 10 - Gazi (Male, 23)//Sig...  0.426137  0.213340   \n",
              "97  D://BSL Digits//User 10 - Gazi (Male, 23)//Sig...  0.371283  0.228021   \n",
              "98  D://BSL Digits//User 10 - Gazi (Male, 23)//Sig...  0.687748  0.337160   \n",
              "99  D://BSL Digits//User 10 - Gazi (Male, 23)//Sig...  0.347475  0.394564   \n",
              "\n",
              "         z00       x01       y01       z01       x02       y02       z02  ...  \\\n",
              "0  -0.000069  0.277499  0.653642 -0.128615  0.349422  0.654397 -0.204252  ...   \n",
              "1  -0.000126  0.302026  0.650693 -0.121038  0.379824  0.642501 -0.188132  ...   \n",
              "2  -0.000106  0.301983  0.653061 -0.119562  0.377797  0.651146 -0.190769  ...   \n",
              "3  -0.000094  0.309036  0.654769 -0.126211  0.387939  0.650713 -0.197971  ...   \n",
              "4  -0.000059  0.325789  0.500907  0.033454  0.289552  0.399537  0.036959  ...   \n",
              "..       ...       ...       ...       ...       ...       ...       ...  ...   \n",
              "95 -0.000198  0.433599  0.475581  0.027444  0.491697  0.590232  0.037058  ...   \n",
              "96 -0.000172  0.432987  0.429740  0.037212  0.482009  0.576919  0.041866  ...   \n",
              "97 -0.000161  0.374456  0.410967  0.022436  0.428811  0.542679  0.021737  ...   \n",
              "98 -0.000031  0.667265  0.496169 -0.111250  0.579142  0.622508 -0.153638  ...   \n",
              "99 -0.000049  0.363841  0.570964  0.015916  0.434531  0.672895  0.023088  ...   \n",
              "\n",
              "         y18       z18       x19       y19       z19       x20       y20  \\\n",
              "0   0.293503 -0.069548  0.425456  0.282663 -0.079171  0.462041  0.290448   \n",
              "1   0.290065 -0.069467  0.428476  0.278553 -0.080080  0.464764  0.293226   \n",
              "2   0.294699 -0.089741  0.434579  0.285591 -0.099008  0.470683  0.302903   \n",
              "3   0.292168 -0.090483  0.449239  0.282159 -0.104818  0.486247  0.296807   \n",
              "4   0.265049 -0.168310  0.442485  0.195248 -0.201740  0.411932  0.148366   \n",
              "..       ...       ...       ...       ...       ...       ...       ...   \n",
              "95  0.249013  0.199288  0.658447  0.275871  0.249225  0.623743  0.279096   \n",
              "96  0.182626  0.140381  0.700038  0.210771  0.205640  0.657697  0.214722   \n",
              "97  0.219787  0.106833  0.630926  0.247164  0.167227  0.591547  0.250094   \n",
              "98  0.171462 -0.151528  0.468479  0.189089 -0.189194  0.514254  0.228651   \n",
              "99  0.318742  0.206709  0.609432  0.354276  0.249826  0.580130  0.358544   \n",
              "\n",
              "         z20  Label  Unnamed: 0  \n",
              "0  -0.073725      0         NaN  \n",
              "1  -0.075531      0         NaN  \n",
              "2  -0.091572      0         NaN  \n",
              "3  -0.102231      0         NaN  \n",
              "4  -0.227269      0         NaN  \n",
              "..       ...    ...         ...  \n",
              "95  0.268745     46        95.0  \n",
              "96  0.237304     46        96.0  \n",
              "97  0.196764     46        97.0  \n",
              "98 -0.192721     46        98.0  \n",
              "99  0.278063     46        99.0  \n",
              "\n",
              "[47000 rows x 66 columns]"
            ],
            "text/html": [
              "\n",
              "  <div id=\"df-21071fd8-0b4e-4a35-9b50-3433cec6723b\">\n",
              "    <div class=\"colab-df-container\">\n",
              "      <div>\n",
              "<style scoped>\n",
              "    .dataframe tbody tr th:only-of-type {\n",
              "        vertical-align: middle;\n",
              "    }\n",
              "\n",
              "    .dataframe tbody tr th {\n",
              "        vertical-align: top;\n",
              "    }\n",
              "\n",
              "    .dataframe thead th {\n",
              "        text-align: right;\n",
              "    }\n",
              "</style>\n",
              "<table border=\"1\" class=\"dataframe\">\n",
              "  <thead>\n",
              "    <tr style=\"text-align: right;\">\n",
              "      <th></th>\n",
              "      <th>Single Image Frame</th>\n",
              "      <th>x00</th>\n",
              "      <th>y00</th>\n",
              "      <th>z00</th>\n",
              "      <th>x01</th>\n",
              "      <th>y01</th>\n",
              "      <th>z01</th>\n",
              "      <th>x02</th>\n",
              "      <th>y02</th>\n",
              "      <th>z02</th>\n",
              "      <th>...</th>\n",
              "      <th>y18</th>\n",
              "      <th>z18</th>\n",
              "      <th>x19</th>\n",
              "      <th>y19</th>\n",
              "      <th>z19</th>\n",
              "      <th>x20</th>\n",
              "      <th>y20</th>\n",
              "      <th>z20</th>\n",
              "      <th>Label</th>\n",
              "      <th>Unnamed: 0</th>\n",
              "    </tr>\n",
              "  </thead>\n",
              "  <tbody>\n",
              "    <tr>\n",
              "      <th>0</th>\n",
              "      <td>F:\\sign 00\\x (1).jpg</td>\n",
              "      <td>0.203971</td>\n",
              "      <td>0.577323</td>\n",
              "      <td>-0.000069</td>\n",
              "      <td>0.277499</td>\n",
              "      <td>0.653642</td>\n",
              "      <td>-0.128615</td>\n",
              "      <td>0.349422</td>\n",
              "      <td>0.654397</td>\n",
              "      <td>-0.204252</td>\n",
              "      <td>...</td>\n",
              "      <td>0.293503</td>\n",
              "      <td>-0.069548</td>\n",
              "      <td>0.425456</td>\n",
              "      <td>0.282663</td>\n",
              "      <td>-0.079171</td>\n",
              "      <td>0.462041</td>\n",
              "      <td>0.290448</td>\n",
              "      <td>-0.073725</td>\n",
              "      <td>0</td>\n",
              "      <td>NaN</td>\n",
              "    </tr>\n",
              "    <tr>\n",
              "      <th>1</th>\n",
              "      <td>F:\\sign 00\\x (2).jpg</td>\n",
              "      <td>0.218817</td>\n",
              "      <td>0.588807</td>\n",
              "      <td>-0.000126</td>\n",
              "      <td>0.302026</td>\n",
              "      <td>0.650693</td>\n",
              "      <td>-0.121038</td>\n",
              "      <td>0.379824</td>\n",
              "      <td>0.642501</td>\n",
              "      <td>-0.188132</td>\n",
              "      <td>...</td>\n",
              "      <td>0.290065</td>\n",
              "      <td>-0.069467</td>\n",
              "      <td>0.428476</td>\n",
              "      <td>0.278553</td>\n",
              "      <td>-0.080080</td>\n",
              "      <td>0.464764</td>\n",
              "      <td>0.293226</td>\n",
              "      <td>-0.075531</td>\n",
              "      <td>0</td>\n",
              "      <td>NaN</td>\n",
              "    </tr>\n",
              "    <tr>\n",
              "      <th>2</th>\n",
              "      <td>F:\\sign 00\\x (3).jpg</td>\n",
              "      <td>0.223006</td>\n",
              "      <td>0.588451</td>\n",
              "      <td>-0.000106</td>\n",
              "      <td>0.301983</td>\n",
              "      <td>0.653061</td>\n",
              "      <td>-0.119562</td>\n",
              "      <td>0.377797</td>\n",
              "      <td>0.651146</td>\n",
              "      <td>-0.190769</td>\n",
              "      <td>...</td>\n",
              "      <td>0.294699</td>\n",
              "      <td>-0.089741</td>\n",
              "      <td>0.434579</td>\n",
              "      <td>0.285591</td>\n",
              "      <td>-0.099008</td>\n",
              "      <td>0.470683</td>\n",
              "      <td>0.302903</td>\n",
              "      <td>-0.091572</td>\n",
              "      <td>0</td>\n",
              "      <td>NaN</td>\n",
              "    </tr>\n",
              "    <tr>\n",
              "      <th>3</th>\n",
              "      <td>F:\\sign 00\\x (4).jpg</td>\n",
              "      <td>0.230761</td>\n",
              "      <td>0.589568</td>\n",
              "      <td>-0.000094</td>\n",
              "      <td>0.309036</td>\n",
              "      <td>0.654769</td>\n",
              "      <td>-0.126211</td>\n",
              "      <td>0.387939</td>\n",
              "      <td>0.650713</td>\n",
              "      <td>-0.197971</td>\n",
              "      <td>...</td>\n",
              "      <td>0.292168</td>\n",
              "      <td>-0.090483</td>\n",
              "      <td>0.449239</td>\n",
              "      <td>0.282159</td>\n",
              "      <td>-0.104818</td>\n",
              "      <td>0.486247</td>\n",
              "      <td>0.296807</td>\n",
              "      <td>-0.102231</td>\n",
              "      <td>0</td>\n",
              "      <td>NaN</td>\n",
              "    </tr>\n",
              "    <tr>\n",
              "      <th>4</th>\n",
              "      <td>F:\\sign 00\\x (5).jpg</td>\n",
              "      <td>0.398876</td>\n",
              "      <td>0.586115</td>\n",
              "      <td>-0.000059</td>\n",
              "      <td>0.325789</td>\n",
              "      <td>0.500907</td>\n",
              "      <td>0.033454</td>\n",
              "      <td>0.289552</td>\n",
              "      <td>0.399537</td>\n",
              "      <td>0.036959</td>\n",
              "      <td>...</td>\n",
              "      <td>0.265049</td>\n",
              "      <td>-0.168310</td>\n",
              "      <td>0.442485</td>\n",
              "      <td>0.195248</td>\n",
              "      <td>-0.201740</td>\n",
              "      <td>0.411932</td>\n",
              "      <td>0.148366</td>\n",
              "      <td>-0.227269</td>\n",
              "      <td>0</td>\n",
              "      <td>NaN</td>\n",
              "    </tr>\n",
              "    <tr>\n",
              "      <th>...</th>\n",
              "      <td>...</td>\n",
              "      <td>...</td>\n",
              "      <td>...</td>\n",
              "      <td>...</td>\n",
              "      <td>...</td>\n",
              "      <td>...</td>\n",
              "      <td>...</td>\n",
              "      <td>...</td>\n",
              "      <td>...</td>\n",
              "      <td>...</td>\n",
              "      <td>...</td>\n",
              "      <td>...</td>\n",
              "      <td>...</td>\n",
              "      <td>...</td>\n",
              "      <td>...</td>\n",
              "      <td>...</td>\n",
              "      <td>...</td>\n",
              "      <td>...</td>\n",
              "      <td>...</td>\n",
              "      <td>...</td>\n",
              "      <td>...</td>\n",
              "    </tr>\n",
              "    <tr>\n",
              "      <th>95</th>\n",
              "      <td>D://BSL Digits//User 10 - Gazi (Male, 23)//Sig...</td>\n",
              "      <td>0.424403</td>\n",
              "      <td>0.281642</td>\n",
              "      <td>-0.000198</td>\n",
              "      <td>0.433599</td>\n",
              "      <td>0.475581</td>\n",
              "      <td>0.027444</td>\n",
              "      <td>0.491697</td>\n",
              "      <td>0.590232</td>\n",
              "      <td>0.037058</td>\n",
              "      <td>...</td>\n",
              "      <td>0.249013</td>\n",
              "      <td>0.199288</td>\n",
              "      <td>0.658447</td>\n",
              "      <td>0.275871</td>\n",
              "      <td>0.249225</td>\n",
              "      <td>0.623743</td>\n",
              "      <td>0.279096</td>\n",
              "      <td>0.268745</td>\n",
              "      <td>46</td>\n",
              "      <td>95.0</td>\n",
              "    </tr>\n",
              "    <tr>\n",
              "      <th>96</th>\n",
              "      <td>D://BSL Digits//User 10 - Gazi (Male, 23)//Sig...</td>\n",
              "      <td>0.426137</td>\n",
              "      <td>0.213340</td>\n",
              "      <td>-0.000172</td>\n",
              "      <td>0.432987</td>\n",
              "      <td>0.429740</td>\n",
              "      <td>0.037212</td>\n",
              "      <td>0.482009</td>\n",
              "      <td>0.576919</td>\n",
              "      <td>0.041866</td>\n",
              "      <td>...</td>\n",
              "      <td>0.182626</td>\n",
              "      <td>0.140381</td>\n",
              "      <td>0.700038</td>\n",
              "      <td>0.210771</td>\n",
              "      <td>0.205640</td>\n",
              "      <td>0.657697</td>\n",
              "      <td>0.214722</td>\n",
              "      <td>0.237304</td>\n",
              "      <td>46</td>\n",
              "      <td>96.0</td>\n",
              "    </tr>\n",
              "    <tr>\n",
              "      <th>97</th>\n",
              "      <td>D://BSL Digits//User 10 - Gazi (Male, 23)//Sig...</td>\n",
              "      <td>0.371283</td>\n",
              "      <td>0.228021</td>\n",
              "      <td>-0.000161</td>\n",
              "      <td>0.374456</td>\n",
              "      <td>0.410967</td>\n",
              "      <td>0.022436</td>\n",
              "      <td>0.428811</td>\n",
              "      <td>0.542679</td>\n",
              "      <td>0.021737</td>\n",
              "      <td>...</td>\n",
              "      <td>0.219787</td>\n",
              "      <td>0.106833</td>\n",
              "      <td>0.630926</td>\n",
              "      <td>0.247164</td>\n",
              "      <td>0.167227</td>\n",
              "      <td>0.591547</td>\n",
              "      <td>0.250094</td>\n",
              "      <td>0.196764</td>\n",
              "      <td>46</td>\n",
              "      <td>97.0</td>\n",
              "    </tr>\n",
              "    <tr>\n",
              "      <th>98</th>\n",
              "      <td>D://BSL Digits//User 10 - Gazi (Male, 23)//Sig...</td>\n",
              "      <td>0.687748</td>\n",
              "      <td>0.337160</td>\n",
              "      <td>-0.000031</td>\n",
              "      <td>0.667265</td>\n",
              "      <td>0.496169</td>\n",
              "      <td>-0.111250</td>\n",
              "      <td>0.579142</td>\n",
              "      <td>0.622508</td>\n",
              "      <td>-0.153638</td>\n",
              "      <td>...</td>\n",
              "      <td>0.171462</td>\n",
              "      <td>-0.151528</td>\n",
              "      <td>0.468479</td>\n",
              "      <td>0.189089</td>\n",
              "      <td>-0.189194</td>\n",
              "      <td>0.514254</td>\n",
              "      <td>0.228651</td>\n",
              "      <td>-0.192721</td>\n",
              "      <td>46</td>\n",
              "      <td>98.0</td>\n",
              "    </tr>\n",
              "    <tr>\n",
              "      <th>99</th>\n",
              "      <td>D://BSL Digits//User 10 - Gazi (Male, 23)//Sig...</td>\n",
              "      <td>0.347475</td>\n",
              "      <td>0.394564</td>\n",
              "      <td>-0.000049</td>\n",
              "      <td>0.363841</td>\n",
              "      <td>0.570964</td>\n",
              "      <td>0.015916</td>\n",
              "      <td>0.434531</td>\n",
              "      <td>0.672895</td>\n",
              "      <td>0.023088</td>\n",
              "      <td>...</td>\n",
              "      <td>0.318742</td>\n",
              "      <td>0.206709</td>\n",
              "      <td>0.609432</td>\n",
              "      <td>0.354276</td>\n",
              "      <td>0.249826</td>\n",
              "      <td>0.580130</td>\n",
              "      <td>0.358544</td>\n",
              "      <td>0.278063</td>\n",
              "      <td>46</td>\n",
              "      <td>99.0</td>\n",
              "    </tr>\n",
              "  </tbody>\n",
              "</table>\n",
              "<p>47000 rows × 66 columns</p>\n",
              "</div>\n",
              "      <button class=\"colab-df-convert\" onclick=\"convertToInteractive('df-21071fd8-0b4e-4a35-9b50-3433cec6723b')\"\n",
              "              title=\"Convert this dataframe to an interactive table.\"\n",
              "              style=\"display:none;\">\n",
              "        \n",
              "  <svg xmlns=\"http://www.w3.org/2000/svg\" height=\"24px\"viewBox=\"0 0 24 24\"\n",
              "       width=\"24px\">\n",
              "    <path d=\"M0 0h24v24H0V0z\" fill=\"none\"/>\n",
              "    <path d=\"M18.56 5.44l.94 2.06.94-2.06 2.06-.94-2.06-.94-.94-2.06-.94 2.06-2.06.94zm-11 1L8.5 8.5l.94-2.06 2.06-.94-2.06-.94L8.5 2.5l-.94 2.06-2.06.94zm10 10l.94 2.06.94-2.06 2.06-.94-2.06-.94-.94-2.06-.94 2.06-2.06.94z\"/><path d=\"M17.41 7.96l-1.37-1.37c-.4-.4-.92-.59-1.43-.59-.52 0-1.04.2-1.43.59L10.3 9.45l-7.72 7.72c-.78.78-.78 2.05 0 2.83L4 21.41c.39.39.9.59 1.41.59.51 0 1.02-.2 1.41-.59l7.78-7.78 2.81-2.81c.8-.78.8-2.07 0-2.86zM5.41 20L4 18.59l7.72-7.72 1.47 1.35L5.41 20z\"/>\n",
              "  </svg>\n",
              "      </button>\n",
              "      \n",
              "  <style>\n",
              "    .colab-df-container {\n",
              "      display:flex;\n",
              "      flex-wrap:wrap;\n",
              "      gap: 12px;\n",
              "    }\n",
              "\n",
              "    .colab-df-convert {\n",
              "      background-color: #E8F0FE;\n",
              "      border: none;\n",
              "      border-radius: 50%;\n",
              "      cursor: pointer;\n",
              "      display: none;\n",
              "      fill: #1967D2;\n",
              "      height: 32px;\n",
              "      padding: 0 0 0 0;\n",
              "      width: 32px;\n",
              "    }\n",
              "\n",
              "    .colab-df-convert:hover {\n",
              "      background-color: #E2EBFA;\n",
              "      box-shadow: 0px 1px 2px rgba(60, 64, 67, 0.3), 0px 1px 3px 1px rgba(60, 64, 67, 0.15);\n",
              "      fill: #174EA6;\n",
              "    }\n",
              "\n",
              "    [theme=dark] .colab-df-convert {\n",
              "      background-color: #3B4455;\n",
              "      fill: #D2E3FC;\n",
              "    }\n",
              "\n",
              "    [theme=dark] .colab-df-convert:hover {\n",
              "      background-color: #434B5C;\n",
              "      box-shadow: 0px 1px 3px 1px rgba(0, 0, 0, 0.15);\n",
              "      filter: drop-shadow(0px 1px 2px rgba(0, 0, 0, 0.3));\n",
              "      fill: #FFFFFF;\n",
              "    }\n",
              "  </style>\n",
              "\n",
              "      <script>\n",
              "        const buttonEl =\n",
              "          document.querySelector('#df-21071fd8-0b4e-4a35-9b50-3433cec6723b button.colab-df-convert');\n",
              "        buttonEl.style.display =\n",
              "          google.colab.kernel.accessAllowed ? 'block' : 'none';\n",
              "\n",
              "        async function convertToInteractive(key) {\n",
              "          const element = document.querySelector('#df-21071fd8-0b4e-4a35-9b50-3433cec6723b');\n",
              "          const dataTable =\n",
              "            await google.colab.kernel.invokeFunction('convertToInteractive',\n",
              "                                                     [key], {});\n",
              "          if (!dataTable) return;\n",
              "\n",
              "          const docLinkHtml = 'Like what you see? Visit the ' +\n",
              "            '<a target=\"_blank\" href=https://colab.research.google.com/notebooks/data_table.ipynb>data table notebook</a>'\n",
              "            + ' to learn more about interactive tables.';\n",
              "          element.innerHTML = '';\n",
              "          dataTable['output_type'] = 'display_data';\n",
              "          await google.colab.output.renderOutput(dataTable, element);\n",
              "          const docLink = document.createElement('div');\n",
              "          docLink.innerHTML = docLinkHtml;\n",
              "          element.appendChild(docLink);\n",
              "        }\n",
              "      </script>\n",
              "    </div>\n",
              "  </div>\n",
              "  "
            ]
          },
          "metadata": {},
          "execution_count": 25
        }
      ]
    },
    {
      "cell_type": "code",
      "source": [
        "df = df.sample(frac=1).reset_index(drop=True) # shuffling data"
      ],
      "metadata": {
        "id": "EvDcX1k6PONI"
      },
      "execution_count": 26,
      "outputs": []
    },
    {
      "cell_type": "code",
      "source": [
        "df"
      ],
      "metadata": {
        "colab": {
          "base_uri": "https://localhost:8080/",
          "height": 1000
        },
        "id": "PlIjdRGWPTI1",
        "outputId": "8eddb5b4-7ffc-4fbb-959b-780775dbb84a"
      },
      "execution_count": 27,
      "outputs": [
        {
          "output_type": "execute_result",
          "data": {
            "text/plain": [
              "                                      Single Image Frame       x00       y00  \\\n",
              "0                      G:\\sign 33-tasmi\\resized (28).jpg  0.437966  0.722274   \n",
              "1      F://sign 28//Input Images//sign 28 - Sample (1...  0.577157  0.274090   \n",
              "2      D:\\DataSet (From Rayeed)\\User - Hridi (Female,...  0.411439  0.655990   \n",
              "3      D://BSL Digits//User 07 - Sarwar (Male, 62)//S...  0.515091  0.624407   \n",
              "4      F://BdSL Letters//user 5//Sign 31//Input Image...  0.529667  0.758359   \n",
              "...                                                  ...       ...       ...   \n",
              "46995  D:\\DataSet (From Rayeed)\\User - Hridi (Female,...  0.380259  0.654458   \n",
              "46996  F://BdSL Letters//user 4//Sign 33//Input Image...  0.446007  0.711117   \n",
              "46997  D:\\DataSet (From Rayeed)\\User - Hridi (Female,...  0.490514  0.627978   \n",
              "46998  D://zZz Anika Post-processing//sign 25//Input ...  0.563882  0.675484   \n",
              "46999                            G:\\sign6\\sign6 (46).jpg  0.544515  0.685565   \n",
              "\n",
              "            z00       x01       y01       z01       x02       y02       z02  \\\n",
              "0      0.000053  0.507434  0.642868  0.104899  0.525738  0.516957  0.107205   \n",
              "1     -0.000060  0.527595  0.354593  0.066407  0.535457  0.441087  0.077789   \n",
              "2     -0.000110  0.380652  0.539750 -0.080437  0.419957  0.420047 -0.102167   \n",
              "3     -0.000018  0.545001  0.515626 -0.086565  0.520274  0.454157 -0.154734   \n",
              "4     -0.000074  0.474353  0.719342 -0.061698  0.440943  0.611794 -0.116426   \n",
              "...         ...       ...       ...       ...       ...       ...       ...   \n",
              "46995 -0.000123  0.373408  0.527968 -0.066560  0.435601  0.400731 -0.078830   \n",
              "46996 -0.000137  0.363967  0.645593 -0.096900  0.317613  0.536150 -0.164612   \n",
              "46997 -0.000086  0.431979  0.587647 -0.074401  0.407070  0.524770 -0.127461   \n",
              "46998 -0.000031  0.588662  0.575781 -0.012555  0.555592  0.475483 -0.041017   \n",
              "46999 -0.000176  0.517243  0.570213 -0.046852  0.422894  0.499734 -0.065223   \n",
              "\n",
              "       ...       y18       z18       x19       y19       z19       x20  \\\n",
              "0      ...  0.479106 -0.088497  0.327069  0.536360 -0.052808  0.354888   \n",
              "1      ...  0.496219 -0.016698  0.696814  0.468698  0.017572  0.679393   \n",
              "2      ...  0.709012 -0.161479  0.524935  0.712967 -0.180721  0.477229   \n",
              "3      ...  0.706445 -0.174395  0.488899  0.721159 -0.178166  0.520110   \n",
              "4      ...  0.475126 -0.148734  0.596640  0.505371 -0.178087  0.576851   \n",
              "...    ...       ...       ...       ...       ...       ...       ...   \n",
              "46995  ...  0.711748 -0.162654  0.500074  0.703096 -0.180702  0.453581   \n",
              "46996  ...  0.362789 -0.118531  0.597046  0.361053 -0.157414  0.579048   \n",
              "46997  ...  0.449118 -0.137698  0.564429  0.475927 -0.165049  0.538362   \n",
              "46998  ...  0.664863  0.018353  0.434794  0.655753  0.049114  0.452322   \n",
              "46999  ...  0.650926  0.230245  0.317209  0.632308  0.242386  0.355204   \n",
              "\n",
              "            y20       z20  Label  Unnamed: 0  \n",
              "0      0.562191 -0.059013     33         NaN  \n",
              "1      0.433154  0.031155     28         NaN  \n",
              "2      0.703359 -0.169115     25         NaN  \n",
              "3      0.732641 -0.170541     43        95.0  \n",
              "4      0.554020 -0.175346     31         NaN  \n",
              "...         ...       ...    ...         ...  \n",
              "46995  0.682999 -0.173526     25         NaN  \n",
              "46996  0.401829 -0.171260     33         NaN  \n",
              "46997  0.507502 -0.167386      3         NaN  \n",
              "46998  0.667269  0.055563     25         NaN  \n",
              "46999  0.636337  0.230657     43        45.0  \n",
              "\n",
              "[47000 rows x 66 columns]"
            ],
            "text/html": [
              "\n",
              "  <div id=\"df-6008c611-873d-4f13-95d6-8c23b43e22a8\">\n",
              "    <div class=\"colab-df-container\">\n",
              "      <div>\n",
              "<style scoped>\n",
              "    .dataframe tbody tr th:only-of-type {\n",
              "        vertical-align: middle;\n",
              "    }\n",
              "\n",
              "    .dataframe tbody tr th {\n",
              "        vertical-align: top;\n",
              "    }\n",
              "\n",
              "    .dataframe thead th {\n",
              "        text-align: right;\n",
              "    }\n",
              "</style>\n",
              "<table border=\"1\" class=\"dataframe\">\n",
              "  <thead>\n",
              "    <tr style=\"text-align: right;\">\n",
              "      <th></th>\n",
              "      <th>Single Image Frame</th>\n",
              "      <th>x00</th>\n",
              "      <th>y00</th>\n",
              "      <th>z00</th>\n",
              "      <th>x01</th>\n",
              "      <th>y01</th>\n",
              "      <th>z01</th>\n",
              "      <th>x02</th>\n",
              "      <th>y02</th>\n",
              "      <th>z02</th>\n",
              "      <th>...</th>\n",
              "      <th>y18</th>\n",
              "      <th>z18</th>\n",
              "      <th>x19</th>\n",
              "      <th>y19</th>\n",
              "      <th>z19</th>\n",
              "      <th>x20</th>\n",
              "      <th>y20</th>\n",
              "      <th>z20</th>\n",
              "      <th>Label</th>\n",
              "      <th>Unnamed: 0</th>\n",
              "    </tr>\n",
              "  </thead>\n",
              "  <tbody>\n",
              "    <tr>\n",
              "      <th>0</th>\n",
              "      <td>G:\\sign 33-tasmi\\resized (28).jpg</td>\n",
              "      <td>0.437966</td>\n",
              "      <td>0.722274</td>\n",
              "      <td>0.000053</td>\n",
              "      <td>0.507434</td>\n",
              "      <td>0.642868</td>\n",
              "      <td>0.104899</td>\n",
              "      <td>0.525738</td>\n",
              "      <td>0.516957</td>\n",
              "      <td>0.107205</td>\n",
              "      <td>...</td>\n",
              "      <td>0.479106</td>\n",
              "      <td>-0.088497</td>\n",
              "      <td>0.327069</td>\n",
              "      <td>0.536360</td>\n",
              "      <td>-0.052808</td>\n",
              "      <td>0.354888</td>\n",
              "      <td>0.562191</td>\n",
              "      <td>-0.059013</td>\n",
              "      <td>33</td>\n",
              "      <td>NaN</td>\n",
              "    </tr>\n",
              "    <tr>\n",
              "      <th>1</th>\n",
              "      <td>F://sign 28//Input Images//sign 28 - Sample (1...</td>\n",
              "      <td>0.577157</td>\n",
              "      <td>0.274090</td>\n",
              "      <td>-0.000060</td>\n",
              "      <td>0.527595</td>\n",
              "      <td>0.354593</td>\n",
              "      <td>0.066407</td>\n",
              "      <td>0.535457</td>\n",
              "      <td>0.441087</td>\n",
              "      <td>0.077789</td>\n",
              "      <td>...</td>\n",
              "      <td>0.496219</td>\n",
              "      <td>-0.016698</td>\n",
              "      <td>0.696814</td>\n",
              "      <td>0.468698</td>\n",
              "      <td>0.017572</td>\n",
              "      <td>0.679393</td>\n",
              "      <td>0.433154</td>\n",
              "      <td>0.031155</td>\n",
              "      <td>28</td>\n",
              "      <td>NaN</td>\n",
              "    </tr>\n",
              "    <tr>\n",
              "      <th>2</th>\n",
              "      <td>D:\\DataSet (From Rayeed)\\User - Hridi (Female,...</td>\n",
              "      <td>0.411439</td>\n",
              "      <td>0.655990</td>\n",
              "      <td>-0.000110</td>\n",
              "      <td>0.380652</td>\n",
              "      <td>0.539750</td>\n",
              "      <td>-0.080437</td>\n",
              "      <td>0.419957</td>\n",
              "      <td>0.420047</td>\n",
              "      <td>-0.102167</td>\n",
              "      <td>...</td>\n",
              "      <td>0.709012</td>\n",
              "      <td>-0.161479</td>\n",
              "      <td>0.524935</td>\n",
              "      <td>0.712967</td>\n",
              "      <td>-0.180721</td>\n",
              "      <td>0.477229</td>\n",
              "      <td>0.703359</td>\n",
              "      <td>-0.169115</td>\n",
              "      <td>25</td>\n",
              "      <td>NaN</td>\n",
              "    </tr>\n",
              "    <tr>\n",
              "      <th>3</th>\n",
              "      <td>D://BSL Digits//User 07 - Sarwar (Male, 62)//S...</td>\n",
              "      <td>0.515091</td>\n",
              "      <td>0.624407</td>\n",
              "      <td>-0.000018</td>\n",
              "      <td>0.545001</td>\n",
              "      <td>0.515626</td>\n",
              "      <td>-0.086565</td>\n",
              "      <td>0.520274</td>\n",
              "      <td>0.454157</td>\n",
              "      <td>-0.154734</td>\n",
              "      <td>...</td>\n",
              "      <td>0.706445</td>\n",
              "      <td>-0.174395</td>\n",
              "      <td>0.488899</td>\n",
              "      <td>0.721159</td>\n",
              "      <td>-0.178166</td>\n",
              "      <td>0.520110</td>\n",
              "      <td>0.732641</td>\n",
              "      <td>-0.170541</td>\n",
              "      <td>43</td>\n",
              "      <td>95.0</td>\n",
              "    </tr>\n",
              "    <tr>\n",
              "      <th>4</th>\n",
              "      <td>F://BdSL Letters//user 5//Sign 31//Input Image...</td>\n",
              "      <td>0.529667</td>\n",
              "      <td>0.758359</td>\n",
              "      <td>-0.000074</td>\n",
              "      <td>0.474353</td>\n",
              "      <td>0.719342</td>\n",
              "      <td>-0.061698</td>\n",
              "      <td>0.440943</td>\n",
              "      <td>0.611794</td>\n",
              "      <td>-0.116426</td>\n",
              "      <td>...</td>\n",
              "      <td>0.475126</td>\n",
              "      <td>-0.148734</td>\n",
              "      <td>0.596640</td>\n",
              "      <td>0.505371</td>\n",
              "      <td>-0.178087</td>\n",
              "      <td>0.576851</td>\n",
              "      <td>0.554020</td>\n",
              "      <td>-0.175346</td>\n",
              "      <td>31</td>\n",
              "      <td>NaN</td>\n",
              "    </tr>\n",
              "    <tr>\n",
              "      <th>...</th>\n",
              "      <td>...</td>\n",
              "      <td>...</td>\n",
              "      <td>...</td>\n",
              "      <td>...</td>\n",
              "      <td>...</td>\n",
              "      <td>...</td>\n",
              "      <td>...</td>\n",
              "      <td>...</td>\n",
              "      <td>...</td>\n",
              "      <td>...</td>\n",
              "      <td>...</td>\n",
              "      <td>...</td>\n",
              "      <td>...</td>\n",
              "      <td>...</td>\n",
              "      <td>...</td>\n",
              "      <td>...</td>\n",
              "      <td>...</td>\n",
              "      <td>...</td>\n",
              "      <td>...</td>\n",
              "      <td>...</td>\n",
              "      <td>...</td>\n",
              "    </tr>\n",
              "    <tr>\n",
              "      <th>46995</th>\n",
              "      <td>D:\\DataSet (From Rayeed)\\User - Hridi (Female,...</td>\n",
              "      <td>0.380259</td>\n",
              "      <td>0.654458</td>\n",
              "      <td>-0.000123</td>\n",
              "      <td>0.373408</td>\n",
              "      <td>0.527968</td>\n",
              "      <td>-0.066560</td>\n",
              "      <td>0.435601</td>\n",
              "      <td>0.400731</td>\n",
              "      <td>-0.078830</td>\n",
              "      <td>...</td>\n",
              "      <td>0.711748</td>\n",
              "      <td>-0.162654</td>\n",
              "      <td>0.500074</td>\n",
              "      <td>0.703096</td>\n",
              "      <td>-0.180702</td>\n",
              "      <td>0.453581</td>\n",
              "      <td>0.682999</td>\n",
              "      <td>-0.173526</td>\n",
              "      <td>25</td>\n",
              "      <td>NaN</td>\n",
              "    </tr>\n",
              "    <tr>\n",
              "      <th>46996</th>\n",
              "      <td>F://BdSL Letters//user 4//Sign 33//Input Image...</td>\n",
              "      <td>0.446007</td>\n",
              "      <td>0.711117</td>\n",
              "      <td>-0.000137</td>\n",
              "      <td>0.363967</td>\n",
              "      <td>0.645593</td>\n",
              "      <td>-0.096900</td>\n",
              "      <td>0.317613</td>\n",
              "      <td>0.536150</td>\n",
              "      <td>-0.164612</td>\n",
              "      <td>...</td>\n",
              "      <td>0.362789</td>\n",
              "      <td>-0.118531</td>\n",
              "      <td>0.597046</td>\n",
              "      <td>0.361053</td>\n",
              "      <td>-0.157414</td>\n",
              "      <td>0.579048</td>\n",
              "      <td>0.401829</td>\n",
              "      <td>-0.171260</td>\n",
              "      <td>33</td>\n",
              "      <td>NaN</td>\n",
              "    </tr>\n",
              "    <tr>\n",
              "      <th>46997</th>\n",
              "      <td>D:\\DataSet (From Rayeed)\\User - Hridi (Female,...</td>\n",
              "      <td>0.490514</td>\n",
              "      <td>0.627978</td>\n",
              "      <td>-0.000086</td>\n",
              "      <td>0.431979</td>\n",
              "      <td>0.587647</td>\n",
              "      <td>-0.074401</td>\n",
              "      <td>0.407070</td>\n",
              "      <td>0.524770</td>\n",
              "      <td>-0.127461</td>\n",
              "      <td>...</td>\n",
              "      <td>0.449118</td>\n",
              "      <td>-0.137698</td>\n",
              "      <td>0.564429</td>\n",
              "      <td>0.475927</td>\n",
              "      <td>-0.165049</td>\n",
              "      <td>0.538362</td>\n",
              "      <td>0.507502</td>\n",
              "      <td>-0.167386</td>\n",
              "      <td>3</td>\n",
              "      <td>NaN</td>\n",
              "    </tr>\n",
              "    <tr>\n",
              "      <th>46998</th>\n",
              "      <td>D://zZz Anika Post-processing//sign 25//Input ...</td>\n",
              "      <td>0.563882</td>\n",
              "      <td>0.675484</td>\n",
              "      <td>-0.000031</td>\n",
              "      <td>0.588662</td>\n",
              "      <td>0.575781</td>\n",
              "      <td>-0.012555</td>\n",
              "      <td>0.555592</td>\n",
              "      <td>0.475483</td>\n",
              "      <td>-0.041017</td>\n",
              "      <td>...</td>\n",
              "      <td>0.664863</td>\n",
              "      <td>0.018353</td>\n",
              "      <td>0.434794</td>\n",
              "      <td>0.655753</td>\n",
              "      <td>0.049114</td>\n",
              "      <td>0.452322</td>\n",
              "      <td>0.667269</td>\n",
              "      <td>0.055563</td>\n",
              "      <td>25</td>\n",
              "      <td>NaN</td>\n",
              "    </tr>\n",
              "    <tr>\n",
              "      <th>46999</th>\n",
              "      <td>G:\\sign6\\sign6 (46).jpg</td>\n",
              "      <td>0.544515</td>\n",
              "      <td>0.685565</td>\n",
              "      <td>-0.000176</td>\n",
              "      <td>0.517243</td>\n",
              "      <td>0.570213</td>\n",
              "      <td>-0.046852</td>\n",
              "      <td>0.422894</td>\n",
              "      <td>0.499734</td>\n",
              "      <td>-0.065223</td>\n",
              "      <td>...</td>\n",
              "      <td>0.650926</td>\n",
              "      <td>0.230245</td>\n",
              "      <td>0.317209</td>\n",
              "      <td>0.632308</td>\n",
              "      <td>0.242386</td>\n",
              "      <td>0.355204</td>\n",
              "      <td>0.636337</td>\n",
              "      <td>0.230657</td>\n",
              "      <td>43</td>\n",
              "      <td>45.0</td>\n",
              "    </tr>\n",
              "  </tbody>\n",
              "</table>\n",
              "<p>47000 rows × 66 columns</p>\n",
              "</div>\n",
              "      <button class=\"colab-df-convert\" onclick=\"convertToInteractive('df-6008c611-873d-4f13-95d6-8c23b43e22a8')\"\n",
              "              title=\"Convert this dataframe to an interactive table.\"\n",
              "              style=\"display:none;\">\n",
              "        \n",
              "  <svg xmlns=\"http://www.w3.org/2000/svg\" height=\"24px\"viewBox=\"0 0 24 24\"\n",
              "       width=\"24px\">\n",
              "    <path d=\"M0 0h24v24H0V0z\" fill=\"none\"/>\n",
              "    <path d=\"M18.56 5.44l.94 2.06.94-2.06 2.06-.94-2.06-.94-.94-2.06-.94 2.06-2.06.94zm-11 1L8.5 8.5l.94-2.06 2.06-.94-2.06-.94L8.5 2.5l-.94 2.06-2.06.94zm10 10l.94 2.06.94-2.06 2.06-.94-2.06-.94-.94-2.06-.94 2.06-2.06.94z\"/><path d=\"M17.41 7.96l-1.37-1.37c-.4-.4-.92-.59-1.43-.59-.52 0-1.04.2-1.43.59L10.3 9.45l-7.72 7.72c-.78.78-.78 2.05 0 2.83L4 21.41c.39.39.9.59 1.41.59.51 0 1.02-.2 1.41-.59l7.78-7.78 2.81-2.81c.8-.78.8-2.07 0-2.86zM5.41 20L4 18.59l7.72-7.72 1.47 1.35L5.41 20z\"/>\n",
              "  </svg>\n",
              "      </button>\n",
              "      \n",
              "  <style>\n",
              "    .colab-df-container {\n",
              "      display:flex;\n",
              "      flex-wrap:wrap;\n",
              "      gap: 12px;\n",
              "    }\n",
              "\n",
              "    .colab-df-convert {\n",
              "      background-color: #E8F0FE;\n",
              "      border: none;\n",
              "      border-radius: 50%;\n",
              "      cursor: pointer;\n",
              "      display: none;\n",
              "      fill: #1967D2;\n",
              "      height: 32px;\n",
              "      padding: 0 0 0 0;\n",
              "      width: 32px;\n",
              "    }\n",
              "\n",
              "    .colab-df-convert:hover {\n",
              "      background-color: #E2EBFA;\n",
              "      box-shadow: 0px 1px 2px rgba(60, 64, 67, 0.3), 0px 1px 3px 1px rgba(60, 64, 67, 0.15);\n",
              "      fill: #174EA6;\n",
              "    }\n",
              "\n",
              "    [theme=dark] .colab-df-convert {\n",
              "      background-color: #3B4455;\n",
              "      fill: #D2E3FC;\n",
              "    }\n",
              "\n",
              "    [theme=dark] .colab-df-convert:hover {\n",
              "      background-color: #434B5C;\n",
              "      box-shadow: 0px 1px 3px 1px rgba(0, 0, 0, 0.15);\n",
              "      filter: drop-shadow(0px 1px 2px rgba(0, 0, 0, 0.3));\n",
              "      fill: #FFFFFF;\n",
              "    }\n",
              "  </style>\n",
              "\n",
              "      <script>\n",
              "        const buttonEl =\n",
              "          document.querySelector('#df-6008c611-873d-4f13-95d6-8c23b43e22a8 button.colab-df-convert');\n",
              "        buttonEl.style.display =\n",
              "          google.colab.kernel.accessAllowed ? 'block' : 'none';\n",
              "\n",
              "        async function convertToInteractive(key) {\n",
              "          const element = document.querySelector('#df-6008c611-873d-4f13-95d6-8c23b43e22a8');\n",
              "          const dataTable =\n",
              "            await google.colab.kernel.invokeFunction('convertToInteractive',\n",
              "                                                     [key], {});\n",
              "          if (!dataTable) return;\n",
              "\n",
              "          const docLinkHtml = 'Like what you see? Visit the ' +\n",
              "            '<a target=\"_blank\" href=https://colab.research.google.com/notebooks/data_table.ipynb>data table notebook</a>'\n",
              "            + ' to learn more about interactive tables.';\n",
              "          element.innerHTML = '';\n",
              "          dataTable['output_type'] = 'display_data';\n",
              "          await google.colab.output.renderOutput(dataTable, element);\n",
              "          const docLink = document.createElement('div');\n",
              "          docLink.innerHTML = docLinkHtml;\n",
              "          element.appendChild(docLink);\n",
              "        }\n",
              "      </script>\n",
              "    </div>\n",
              "  </div>\n",
              "  "
            ]
          },
          "metadata": {},
          "execution_count": 27
        }
      ]
    },
    {
      "cell_type": "code",
      "source": [
        "print(len(df.columns))\n",
        "df.columns"
      ],
      "metadata": {
        "colab": {
          "base_uri": "https://localhost:8080/"
        },
        "id": "wbX4kPzhXIAG",
        "outputId": "93b19f2d-cbd1-4eeb-c618-ac15b6065155"
      },
      "execution_count": 28,
      "outputs": [
        {
          "output_type": "stream",
          "name": "stdout",
          "text": [
            "66\n"
          ]
        },
        {
          "output_type": "execute_result",
          "data": {
            "text/plain": [
              "Index(['Single Image Frame', 'x00', 'y00', 'z00', 'x01', 'y01', 'z01', 'x02',\n",
              "       'y02', 'z02', 'x03', 'y03', 'z03', 'x04', 'y04', 'z04', 'x05', 'y05',\n",
              "       'z05', 'x06', 'y06', 'z06', 'x07', 'y07', 'z07', 'x08', 'y08', 'z08',\n",
              "       'x09', 'y09', 'z09', 'x10', 'y10', 'z10', 'x11', 'y11', 'z11', 'x12',\n",
              "       'y12', 'z12', 'x13', 'y13', 'z13', 'x14', 'y14', 'z14', 'x15', 'y15',\n",
              "       'z15', 'x16', 'y16', 'z16', 'x17', 'y17', 'z17', 'x18', 'y18', 'z18',\n",
              "       'x19', 'y19', 'z19', 'x20', 'y20', 'z20', 'Label', 'Unnamed: 0'],\n",
              "      dtype='object')"
            ]
          },
          "metadata": {},
          "execution_count": 28
        }
      ]
    },
    {
      "cell_type": "code",
      "source": [
        "print(df.iloc[:,-2])"
      ],
      "metadata": {
        "execution": {
          "iopub.status.busy": "2022-07-18T07:27:04.907836Z",
          "iopub.execute_input": "2022-07-18T07:27:04.908266Z",
          "iopub.status.idle": "2022-07-18T07:27:04.916934Z",
          "shell.execute_reply.started": "2022-07-18T07:27:04.908231Z",
          "shell.execute_reply": "2022-07-18T07:27:04.915400Z"
        },
        "trusted": true,
        "colab": {
          "base_uri": "https://localhost:8080/"
        },
        "id": "uqS7Zc00U5U4",
        "outputId": "e8feb563-81ce-4be0-aa4c-299a9fce267d"
      },
      "execution_count": 29,
      "outputs": [
        {
          "output_type": "stream",
          "name": "stdout",
          "text": [
            "0        33\n",
            "1        28\n",
            "2        25\n",
            "3        43\n",
            "4        31\n",
            "         ..\n",
            "46995    25\n",
            "46996    33\n",
            "46997     3\n",
            "46998    25\n",
            "46999    43\n",
            "Name: Label, Length: 47000, dtype: int64\n"
          ]
        }
      ]
    },
    {
      "cell_type": "code",
      "source": [
        "features = df.iloc[:,1:-2]\n",
        "labels = df.iloc[:,-2]"
      ],
      "metadata": {
        "execution": {
          "iopub.status.busy": "2022-07-18T07:27:06.799125Z",
          "iopub.execute_input": "2022-07-18T07:27:06.799528Z",
          "iopub.status.idle": "2022-07-18T07:27:06.824371Z",
          "shell.execute_reply.started": "2022-07-18T07:27:06.799497Z",
          "shell.execute_reply": "2022-07-18T07:27:06.822755Z"
        },
        "trusted": true,
        "id": "UnCDtd1YU5U4"
      },
      "execution_count": 30,
      "outputs": []
    },
    {
      "cell_type": "code",
      "source": [
        "features_np = np.array(features)"
      ],
      "metadata": {
        "execution": {
          "iopub.status.busy": "2022-07-18T07:27:09.107226Z",
          "iopub.execute_input": "2022-07-18T07:27:09.107757Z",
          "iopub.status.idle": "2022-07-18T07:27:09.125307Z",
          "shell.execute_reply.started": "2022-07-18T07:27:09.107715Z",
          "shell.execute_reply": "2022-07-18T07:27:09.123779Z"
        },
        "trusted": true,
        "id": "MB8WBRkYU5U4"
      },
      "execution_count": 31,
      "outputs": []
    },
    {
      "cell_type": "code",
      "source": [
        "from sklearn.preprocessing import StandardScaler\n",
        "\n",
        "sc_X = StandardScaler()\n",
        "x = sc_X.fit_transform(features)\n",
        "y = labels"
      ],
      "metadata": {
        "execution": {
          "iopub.status.busy": "2022-07-18T07:27:10.678591Z",
          "iopub.execute_input": "2022-07-18T07:27:10.678974Z",
          "iopub.status.idle": "2022-07-18T07:27:10.734471Z",
          "shell.execute_reply.started": "2022-07-18T07:27:10.678944Z",
          "shell.execute_reply": "2022-07-18T07:27:10.733032Z"
        },
        "trusted": true,
        "id": "nuTYGENTU5U4"
      },
      "execution_count": 32,
      "outputs": []
    },
    {
      "cell_type": "code",
      "source": [
        "from sklearn.model_selection import train_test_split\n",
        "x_train, x_test, y_train, y_test = train_test_split(x, y, test_size = 0.15, random_state=0)\n",
        "cv = KFold(n_splits=10, random_state=1, shuffle=True)"
      ],
      "metadata": {
        "execution": {
          "iopub.status.busy": "2022-07-18T07:27:12.837235Z",
          "iopub.execute_input": "2022-07-18T07:27:12.837803Z",
          "iopub.status.idle": "2022-07-18T07:27:12.897975Z",
          "shell.execute_reply.started": "2022-07-18T07:27:12.837627Z",
          "shell.execute_reply": "2022-07-18T07:27:12.893702Z"
        },
        "trusted": true,
        "id": "GkuO4nzCU5U4"
      },
      "execution_count": 33,
      "outputs": []
    },
    {
      "cell_type": "code",
      "source": [],
      "metadata": {
        "id": "ck1wReOaYBn1"
      },
      "execution_count": null,
      "outputs": []
    },
    {
      "cell_type": "code",
      "source": [],
      "metadata": {
        "id": "6ZYRHWjOYB5X"
      },
      "execution_count": null,
      "outputs": []
    },
    {
      "cell_type": "code",
      "source": [],
      "metadata": {
        "id": "7CiB6kH1YCTA"
      },
      "execution_count": null,
      "outputs": []
    },
    {
      "cell_type": "markdown",
      "source": [
        "# KNN"
      ],
      "metadata": {
        "id": "GQqJ-l_RU5U4"
      }
    },
    {
      "cell_type": "code",
      "source": [
        "from sklearn.neighbors import KNeighborsClassifier\n",
        "\n",
        "modelKNN = KNeighborsClassifier(n_neighbors=1)\n",
        "modelKNN.fit(x_train, y_train)"
      ],
      "metadata": {
        "execution": {
          "iopub.status.busy": "2022-07-18T07:27:16.248911Z",
          "iopub.execute_input": "2022-07-18T07:27:16.249380Z",
          "iopub.status.idle": "2022-07-18T07:27:16.450800Z",
          "shell.execute_reply.started": "2022-07-18T07:27:16.249343Z",
          "shell.execute_reply": "2022-07-18T07:27:16.449550Z"
        },
        "trusted": true,
        "colab": {
          "base_uri": "https://localhost:8080/"
        },
        "id": "xRoIq4RYU5U6",
        "outputId": "8f23723f-624b-4b7e-bbf8-4b370970d6c6"
      },
      "execution_count": null,
      "outputs": [
        {
          "output_type": "execute_result",
          "data": {
            "text/plain": [
              "KNeighborsClassifier(n_neighbors=1)"
            ]
          },
          "metadata": {},
          "execution_count": 59
        }
      ]
    },
    {
      "cell_type": "code",
      "source": [
        "y_predKNN = modelKNN.predict(x_test)\n",
        "\n",
        "scores = cross_val_score(modelKNN, x_test, y_test, scoring='accuracy', cv=cv, n_jobs=-1)\n",
        "print('Accuracy in KNN Classifier (with cv) : %.2f' % (mean(scores)*100), '%')"
      ],
      "metadata": {
        "execution": {
          "iopub.status.busy": "2022-07-18T07:27:18.368366Z",
          "iopub.execute_input": "2022-07-18T07:27:18.368796Z",
          "iopub.status.idle": "2022-07-18T07:27:25.290787Z",
          "shell.execute_reply.started": "2022-07-18T07:27:18.368753Z",
          "shell.execute_reply": "2022-07-18T07:27:25.288120Z"
        },
        "trusted": true,
        "colab": {
          "base_uri": "https://localhost:8080/"
        },
        "id": "yN6ao1H4U5U6",
        "outputId": "d62e4193-6a75-4ec9-fea5-c3c9f500d03b"
      },
      "execution_count": null,
      "outputs": [
        {
          "output_type": "stream",
          "name": "stdout",
          "text": [
            "Accuracy in KNN Classifier (with cv) : 89.67 %\n"
          ]
        }
      ]
    },
    {
      "cell_type": "code",
      "source": [],
      "metadata": {
        "id": "jpTLDxD9YDfg"
      },
      "execution_count": null,
      "outputs": []
    },
    {
      "cell_type": "code",
      "source": [],
      "metadata": {
        "id": "t6Va2l7QYD2w"
      },
      "execution_count": null,
      "outputs": []
    },
    {
      "cell_type": "markdown",
      "source": [
        "# SVM"
      ],
      "metadata": {
        "id": "f2q1AZ9aU5U6"
      }
    },
    {
      "cell_type": "code",
      "source": [
        "from sklearn.svm import SVC\n",
        "\n",
        "modelSVM_RBF = SVC(kernel = 'rbf', degree=5)\n",
        "modelSVM_RBF.fit(x_train, y_train)"
      ],
      "metadata": {
        "execution": {
          "iopub.status.busy": "2022-07-18T07:27:27.202643Z",
          "iopub.execute_input": "2022-07-18T07:27:27.203084Z",
          "iopub.status.idle": "2022-07-18T07:28:01.342525Z",
          "shell.execute_reply.started": "2022-07-18T07:27:27.203025Z",
          "shell.execute_reply": "2022-07-18T07:28:01.340269Z"
        },
        "trusted": true,
        "colab": {
          "base_uri": "https://localhost:8080/"
        },
        "id": "4i3UfLTcU5U6",
        "outputId": "061c28b8-8105-41be-a4c7-67be00696959"
      },
      "execution_count": null,
      "outputs": [
        {
          "output_type": "execute_result",
          "data": {
            "text/plain": [
              "SVC(degree=5)"
            ]
          },
          "metadata": {},
          "execution_count": 61
        }
      ]
    },
    {
      "cell_type": "code",
      "source": [
        "y_predSVM_RBF = modelSVM_RBF.predict(x_test)\n",
        "scores = cross_val_score(modelSVM_RBF, x_test, y_test, scoring='accuracy', cv=cv, n_jobs=-1)\n",
        "print('Accuracy in SVM Classifier (with cv) : %.2f' % (mean(scores)*100), '%')"
      ],
      "metadata": {
        "execution": {
          "iopub.status.busy": "2022-07-18T07:28:47.033644Z",
          "iopub.execute_input": "2022-07-18T07:28:47.034204Z",
          "iopub.status.idle": "2022-07-18T07:29:40.575140Z",
          "shell.execute_reply.started": "2022-07-18T07:28:47.034161Z",
          "shell.execute_reply": "2022-07-18T07:29:40.574177Z"
        },
        "trusted": true,
        "colab": {
          "base_uri": "https://localhost:8080/"
        },
        "id": "Ks8QzAcDU5U6",
        "outputId": "ad41e713-1f12-4118-9004-c7b223dadd8e"
      },
      "execution_count": null,
      "outputs": [
        {
          "output_type": "stream",
          "name": "stdout",
          "text": [
            "Accuracy in SVM Classifier (with cv) : 81.48 %\n"
          ]
        }
      ]
    },
    {
      "cell_type": "markdown",
      "source": [
        "# ANN "
      ],
      "metadata": {
        "id": "UB7_6gmwU5U7"
      }
    },
    {
      "cell_type": "code",
      "source": [
        "import keras\n",
        "from keras.models import Sequential\n",
        "from keras.layers import Dense, Dropout, Conv1D, Flatten, MaxPooling1D, LSTM, BatchNormalization\n",
        "\n",
        "classifier = Sequential()\n",
        "classifier.add(Dense(64, input_shape = x_train[0].shape))\n",
        "\n",
        "classifier.add(Dense(128, activation='leaky_relu'))\n",
        "classifier.add(Dropout(rate=0.15))\n",
        "classifier.add(Dense(200, activation='leaky_relu'))\n",
        "classifier.add(Dropout(rate=0.15))\n",
        "\n",
        "classifier.add(Dense(100, activation='leaky_relu'))\n",
        "classifier.add(Dropout(rate=0.2))\n",
        "\n",
        "classifier.add(Dense(50, activation='softmax'))\n",
        "\n",
        "classifier.compile(optimizer='adam',loss='sparse_categorical_crossentropy', metrics=['accuracy'] )\n",
        "classifier.fit(x_train, y_train, epochs=50, batch_size=20)"
      ],
      "metadata": {
        "execution": {
          "iopub.status.busy": "2022-07-18T07:29:43.875310Z",
          "iopub.execute_input": "2022-07-18T07:29:43.875744Z",
          "iopub.status.idle": "2022-07-18T07:37:20.087946Z",
          "shell.execute_reply.started": "2022-07-18T07:29:43.875710Z",
          "shell.execute_reply": "2022-07-18T07:37:20.086538Z"
        },
        "trusted": true,
        "colab": {
          "base_uri": "https://localhost:8080/"
        },
        "id": "jWs6ZUOtU5U7",
        "outputId": "080f08d2-2b02-4cb8-cb1f-8bcb84b164bb"
      },
      "execution_count": null,
      "outputs": [
        {
          "output_type": "stream",
          "name": "stdout",
          "text": [
            "Epoch 1/50\n",
            "1998/1998 [==============================] - 8s 3ms/step - loss: 1.2180 - accuracy: 0.5856\n",
            "Epoch 2/50\n",
            "1998/1998 [==============================] - 6s 3ms/step - loss: 0.6405 - accuracy: 0.7539\n",
            "Epoch 3/50\n",
            "1998/1998 [==============================] - 6s 3ms/step - loss: 0.5252 - accuracy: 0.7960\n",
            "Epoch 4/50\n",
            "1998/1998 [==============================] - 6s 3ms/step - loss: 0.4639 - accuracy: 0.8197\n",
            "Epoch 5/50\n",
            "1998/1998 [==============================] - 5s 3ms/step - loss: 0.4308 - accuracy: 0.8342\n",
            "Epoch 6/50\n",
            "1998/1998 [==============================] - 6s 3ms/step - loss: 0.4005 - accuracy: 0.8451\n",
            "Epoch 7/50\n",
            "1998/1998 [==============================] - 6s 3ms/step - loss: 0.3818 - accuracy: 0.8530\n",
            "Epoch 8/50\n",
            "1998/1998 [==============================] - 6s 3ms/step - loss: 0.3634 - accuracy: 0.8614\n",
            "Epoch 9/50\n",
            "1998/1998 [==============================] - 6s 3ms/step - loss: 0.3523 - accuracy: 0.8681\n",
            "Epoch 10/50\n",
            "1998/1998 [==============================] - 6s 3ms/step - loss: 0.3410 - accuracy: 0.8696\n",
            "Epoch 11/50\n",
            "1998/1998 [==============================] - 6s 3ms/step - loss: 0.3323 - accuracy: 0.8731\n",
            "Epoch 12/50\n",
            "1998/1998 [==============================] - 6s 3ms/step - loss: 0.3313 - accuracy: 0.8756\n",
            "Epoch 13/50\n",
            "1998/1998 [==============================] - 6s 3ms/step - loss: 0.3049 - accuracy: 0.8837\n",
            "Epoch 14/50\n",
            "1998/1998 [==============================] - 6s 3ms/step - loss: 0.3093 - accuracy: 0.8841\n",
            "Epoch 15/50\n",
            "1998/1998 [==============================] - 6s 3ms/step - loss: 0.3012 - accuracy: 0.8867\n",
            "Epoch 16/50\n",
            "1998/1998 [==============================] - 6s 3ms/step - loss: 0.2963 - accuracy: 0.8871\n",
            "Epoch 17/50\n",
            "1998/1998 [==============================] - 6s 3ms/step - loss: 0.2915 - accuracy: 0.8901\n",
            "Epoch 18/50\n",
            "1998/1998 [==============================] - 6s 3ms/step - loss: 0.2837 - accuracy: 0.8934\n",
            "Epoch 19/50\n",
            "1998/1998 [==============================] - 6s 3ms/step - loss: 0.2837 - accuracy: 0.8926\n",
            "Epoch 20/50\n",
            "1998/1998 [==============================] - 6s 3ms/step - loss: 0.2879 - accuracy: 0.8924\n",
            "Epoch 21/50\n",
            "1998/1998 [==============================] - 6s 3ms/step - loss: 0.2789 - accuracy: 0.8964\n",
            "Epoch 22/50\n",
            "1998/1998 [==============================] - 6s 3ms/step - loss: 0.2737 - accuracy: 0.8978\n",
            "Epoch 23/50\n",
            "1998/1998 [==============================] - 6s 3ms/step - loss: 0.2709 - accuracy: 0.8973\n",
            "Epoch 24/50\n",
            "1998/1998 [==============================] - 6s 3ms/step - loss: 0.2666 - accuracy: 0.9008\n",
            "Epoch 25/50\n",
            "1998/1998 [==============================] - 6s 3ms/step - loss: 0.2654 - accuracy: 0.9024\n",
            "Epoch 26/50\n",
            "1998/1998 [==============================] - 7s 3ms/step - loss: 0.2633 - accuracy: 0.9010\n",
            "Epoch 27/50\n",
            "1998/1998 [==============================] - 6s 3ms/step - loss: 0.2579 - accuracy: 0.9043\n",
            "Epoch 28/50\n",
            "1998/1998 [==============================] - 6s 3ms/step - loss: 0.2661 - accuracy: 0.9031\n",
            "Epoch 29/50\n",
            "1998/1998 [==============================] - 6s 3ms/step - loss: 0.2594 - accuracy: 0.9032\n",
            "Epoch 30/50\n",
            "1998/1998 [==============================] - 6s 3ms/step - loss: 0.2531 - accuracy: 0.9069\n",
            "Epoch 31/50\n",
            "1998/1998 [==============================] - 6s 3ms/step - loss: 0.2499 - accuracy: 0.9070\n",
            "Epoch 32/50\n",
            "1998/1998 [==============================] - 6s 3ms/step - loss: 0.2571 - accuracy: 0.9050\n",
            "Epoch 33/50\n",
            "1998/1998 [==============================] - 6s 3ms/step - loss: 0.2527 - accuracy: 0.9067\n",
            "Epoch 34/50\n",
            "1998/1998 [==============================] - 5s 3ms/step - loss: 0.2472 - accuracy: 0.9095\n",
            "Epoch 35/50\n",
            "1998/1998 [==============================] - 5s 3ms/step - loss: 0.2480 - accuracy: 0.9091\n",
            "Epoch 36/50\n",
            "1998/1998 [==============================] - 6s 3ms/step - loss: 0.2467 - accuracy: 0.9094\n",
            "Epoch 37/50\n",
            "1998/1998 [==============================] - 6s 3ms/step - loss: 0.2479 - accuracy: 0.9106\n",
            "Epoch 38/50\n",
            "1998/1998 [==============================] - 6s 3ms/step - loss: 0.2350 - accuracy: 0.9145\n",
            "Epoch 39/50\n",
            "1998/1998 [==============================] - 6s 3ms/step - loss: 0.2504 - accuracy: 0.9089\n",
            "Epoch 40/50\n",
            "1998/1998 [==============================] - 6s 3ms/step - loss: 0.2440 - accuracy: 0.9108\n",
            "Epoch 41/50\n",
            "1998/1998 [==============================] - 6s 3ms/step - loss: 0.2406 - accuracy: 0.9120\n",
            "Epoch 42/50\n",
            "1998/1998 [==============================] - 6s 3ms/step - loss: 0.2410 - accuracy: 0.9126\n",
            "Epoch 43/50\n",
            "1998/1998 [==============================] - 5s 3ms/step - loss: 0.2350 - accuracy: 0.9132\n",
            "Epoch 44/50\n",
            "1998/1998 [==============================] - 5s 3ms/step - loss: 0.2307 - accuracy: 0.9154\n",
            "Epoch 45/50\n",
            "1998/1998 [==============================] - 6s 3ms/step - loss: 0.2406 - accuracy: 0.9137\n",
            "Epoch 46/50\n",
            "1998/1998 [==============================] - 6s 3ms/step - loss: 0.2352 - accuracy: 0.9155\n",
            "Epoch 47/50\n",
            "1998/1998 [==============================] - 6s 3ms/step - loss: 0.2314 - accuracy: 0.9179\n",
            "Epoch 48/50\n",
            "1998/1998 [==============================] - 6s 3ms/step - loss: 0.2320 - accuracy: 0.9178\n",
            "Epoch 49/50\n",
            "1998/1998 [==============================] - 6s 3ms/step - loss: 0.2351 - accuracy: 0.9154\n",
            "Epoch 50/50\n",
            "1998/1998 [==============================] - 6s 3ms/step - loss: 0.2281 - accuracy: 0.9181\n"
          ]
        },
        {
          "output_type": "execute_result",
          "data": {
            "text/plain": [
              "<keras.callbacks.History at 0x7fea19367340>"
            ]
          },
          "metadata": {},
          "execution_count": 58
        }
      ]
    },
    {
      "cell_type": "code",
      "source": [
        "print(\"Evaluation on test data : \")\n",
        "results = classifier.evaluate(x_test, y_test, batch_size=50)\n",
        "accuracyANN = results[1]*100\n",
        "print(\"Test Accuracy : %.2f\" % accuracyANN,'%')"
      ],
      "metadata": {
        "execution": {
          "iopub.status.busy": "2022-07-18T07:44:25.764535Z",
          "iopub.execute_input": "2022-07-18T07:44:25.765044Z",
          "iopub.status.idle": "2022-07-18T07:44:26.329960Z",
          "shell.execute_reply.started": "2022-07-18T07:44:25.765002Z",
          "shell.execute_reply": "2022-07-18T07:44:26.328962Z"
        },
        "trusted": true,
        "id": "CJ_tf7DjU5U7",
        "colab": {
          "base_uri": "https://localhost:8080/"
        },
        "outputId": "d1454243-5b21-4c0a-a8fe-a0ad5ec0b320"
      },
      "execution_count": null,
      "outputs": [
        {
          "output_type": "stream",
          "name": "stdout",
          "text": [
            "Evaluation on test data : \n",
            "141/141 [==============================] - 0s 2ms/step - loss: 0.1312 - accuracy: 0.9502\n",
            "Test Accuracy : 95.02 %\n"
          ]
        }
      ]
    },
    {
      "cell_type": "code",
      "source": [],
      "metadata": {
        "id": "Tby8o3ODYF6_"
      },
      "execution_count": null,
      "outputs": []
    },
    {
      "cell_type": "markdown",
      "source": [
        "# RFC"
      ],
      "metadata": {
        "id": "A6pK_RlFU5U7"
      }
    },
    {
      "cell_type": "code",
      "source": [
        "from sklearn.ensemble import RandomForestClassifier\n",
        "\n",
        "modelRFC = RandomForestClassifier(n_estimators = 94, criterion = 'gini')\n",
        "modelRFC.fit(x_train, y_train)"
      ],
      "metadata": {
        "execution": {
          "iopub.status.busy": "2022-07-18T07:52:53.621807Z",
          "iopub.execute_input": "2022-07-18T07:52:53.622217Z",
          "iopub.status.idle": "2022-07-18T07:53:44.497757Z",
          "shell.execute_reply.started": "2022-07-18T07:52:53.622181Z",
          "shell.execute_reply": "2022-07-18T07:53:44.496326Z"
        },
        "trusted": true,
        "colab": {
          "base_uri": "https://localhost:8080/"
        },
        "id": "s5V-KEM7U5U7",
        "outputId": "1fe66e05-1f97-4874-84dc-4a977d64aa29"
      },
      "execution_count": null,
      "outputs": [
        {
          "output_type": "execute_result",
          "data": {
            "text/plain": [
              "RandomForestClassifier(n_estimators=94)"
            ]
          },
          "metadata": {},
          "execution_count": 63
        }
      ]
    },
    {
      "cell_type": "code",
      "source": [
        "y_predRFC = modelRFC.predict(x_test)\n",
        "\n",
        "scores = cross_val_score(modelRFC, x_test, y_test, scoring='accuracy', cv=cv, n_jobs=-1)\n",
        "print('Accuracy in SVM Classifier (with cv) : %.2f' % (mean(scores)*100), '%')"
      ],
      "metadata": {
        "execution": {
          "iopub.status.busy": "2022-07-18T07:53:46.702877Z",
          "iopub.execute_input": "2022-07-18T07:53:46.703439Z",
          "iopub.status.idle": "2022-07-18T07:54:13.673654Z",
          "shell.execute_reply.started": "2022-07-18T07:53:46.703386Z",
          "shell.execute_reply": "2022-07-18T07:54:13.672264Z"
        },
        "trusted": true,
        "colab": {
          "base_uri": "https://localhost:8080/"
        },
        "id": "DEhYmsBBU5U8",
        "outputId": "f92de16c-ef22-4c78-8558-6cee08e001b3"
      },
      "execution_count": null,
      "outputs": [
        {
          "output_type": "stream",
          "name": "stdout",
          "text": [
            "Accuracy in SVM Classifier (with cv) : 88.07 %\n"
          ]
        }
      ]
    },
    {
      "cell_type": "code",
      "source": [],
      "metadata": {
        "id": "-6sL650kYG9-"
      },
      "execution_count": null,
      "outputs": []
    },
    {
      "cell_type": "code",
      "source": [
        "from sklearn.linear_model import LogisticRegression\n",
        "from sklearn.svm import SVC\n",
        "from sklearn.neural_network import MLPClassifier\n",
        "from sklearn.neighbors import KNeighborsClassifier\n",
        "from sklearn.naive_bayes import GaussianNB\n",
        "from sklearn.tree import DecisionTreeClassifier\n",
        "from sklearn.ensemble import RandomForestClassifier\n",
        "from sklearn.ensemble import GradientBoostingClassifier\n",
        "from sklearn.linear_model import LogisticRegression\n",
        "from sklearn.svm import SVC\n",
        "from xgboost.sklearn import XGBClassifier\n",
        "from lightgbm import LGBMClassifier\n",
        "from sklearn.metrics import classification_report\n",
        "from sklearn.metrics import accuracy_score\n",
        "\n",
        "\n",
        "\n",
        "models = {\n",
        "    KNeighborsClassifier(n_neighbors=3):  \"KNN\",\n",
        "    GaussianNB():  \"Gausian Naive Bayes\",\n",
        "    DecisionTreeClassifier(): \"DecisionTreeClassifier\",\n",
        "    RandomForestClassifier(n_estimators=100): \"RandomForestClassifier\",\n",
        "    GradientBoostingClassifier() : \"GradientBoostingClassifier\",\n",
        "    LogisticRegression(max_iter=1000) : \"LogisticRegression\",\n",
        "    SVC() : \"SVC\",\n",
        "    XGBClassifier() : \"XGBClassifier\",\n",
        "    LGBMClassifier() : \"LGBMClassifier\"\n",
        "}"
      ],
      "metadata": {
        "id": "F39i6X0TPwjq"
      },
      "execution_count": null,
      "outputs": []
    },
    {
      "cell_type": "code",
      "source": [
        "for model in models.keys():\n",
        "    model.fit(x_train, y_train)\n",
        "    \n",
        "for model, name in models.items():\n",
        "    predictions = model.predict(x_test)\n",
        "    print(name , ' : ',  accuracy_score(y_test, predictions))\n",
        "    print(classification_report(y_test,predictions))"
      ],
      "metadata": {
        "colab": {
          "base_uri": "https://localhost:8080/"
        },
        "id": "9HBzG4thP1I2",
        "outputId": "603f8acc-194d-4640-89c3-1ee4f9e08a50"
      },
      "execution_count": null,
      "outputs": [
        {
          "output_type": "stream",
          "name": "stdout",
          "text": [
            "KNN  :  0.967517730496454\n",
            "              precision    recall  f1-score   support\n",
            "\n",
            "           0       0.98      0.97      0.98       145\n",
            "           1       0.99      0.99      0.99       153\n",
            "           2       0.97      0.98      0.98       149\n",
            "           3       0.89      0.91      0.90       163\n",
            "           4       1.00      0.96      0.98       178\n",
            "           5       1.00      0.98      0.99       119\n",
            "           6       1.00      1.00      1.00       153\n",
            "           7       0.98      0.99      0.99       147\n",
            "           8       0.99      0.99      0.99       151\n",
            "           9       0.99      0.96      0.97       141\n",
            "          10       0.99      0.99      0.99       151\n",
            "          11       0.99      1.00      1.00       141\n",
            "          12       0.99      1.00      1.00       161\n",
            "          13       0.97      0.98      0.97       137\n",
            "          14       0.97      0.99      0.98       146\n",
            "          15       1.00      1.00      1.00       148\n",
            "          16       0.99      1.00      0.99       141\n",
            "          17       0.99      1.00      1.00       152\n",
            "          18       0.97      0.99      0.98       158\n",
            "          19       0.97      0.96      0.96       142\n",
            "          20       0.96      0.96      0.96       130\n",
            "          21       0.90      0.90      0.90       143\n",
            "          22       0.98      0.98      0.98       167\n",
            "          23       0.92      0.97      0.95       157\n",
            "          24       0.94      0.94      0.94       156\n",
            "          25       0.99      1.00      0.99       162\n",
            "          26       0.91      0.84      0.87       149\n",
            "          27       0.97      0.98      0.98       143\n",
            "          28       1.00      1.00      1.00       166\n",
            "          29       1.00      1.00      1.00       139\n",
            "          30       0.99      0.96      0.97       161\n",
            "          31       0.98      0.99      0.98       145\n",
            "          32       0.90      0.93      0.91       138\n",
            "          33       0.96      0.99      0.98       161\n",
            "          34       1.00      0.99      1.00       160\n",
            "          35       0.96      0.95      0.96       133\n",
            "          36       0.99      0.99      0.99       160\n",
            "          37       0.99      0.95      0.97       149\n",
            "          38       0.88      0.86      0.87       144\n",
            "          39       0.97      0.93      0.95       152\n",
            "          40       0.99      0.97      0.98       157\n",
            "          41       0.96      1.00      0.98       155\n",
            "          42       1.00      0.99      1.00       161\n",
            "          43       0.86      0.90      0.88       146\n",
            "          44       0.92      0.91      0.92       149\n",
            "          45       0.90      0.90      0.90       144\n",
            "          46       0.99      1.00      1.00       147\n",
            "\n",
            "    accuracy                           0.97      7050\n",
            "   macro avg       0.97      0.97      0.97      7050\n",
            "weighted avg       0.97      0.97      0.97      7050\n",
            "\n",
            "Gausian Naive Bayes  :  0.4614184397163121\n",
            "              precision    recall  f1-score   support\n",
            "\n",
            "           0       0.35      0.20      0.25       145\n",
            "           1       0.70      0.69      0.69       153\n",
            "           2       0.48      0.40      0.44       149\n",
            "           3       0.31      0.34      0.32       163\n",
            "           4       0.35      0.60      0.44       178\n",
            "           5       0.21      0.28      0.24       119\n",
            "           6       0.41      0.29      0.34       153\n",
            "           7       0.19      0.16      0.17       147\n",
            "           8       0.50      0.40      0.45       151\n",
            "           9       0.30      0.26      0.28       141\n",
            "          10       0.23      0.11      0.15       151\n",
            "          11       0.24      0.55      0.34       141\n",
            "          12       0.35      0.37      0.36       161\n",
            "          13       0.37      0.28      0.32       137\n",
            "          14       0.33      0.47      0.39       146\n",
            "          15       0.44      0.51      0.47       148\n",
            "          16       0.35      0.40      0.37       141\n",
            "          17       0.59      0.80      0.68       152\n",
            "          18       0.23      0.10      0.14       158\n",
            "          19       0.59      0.64      0.61       142\n",
            "          20       0.25      0.43      0.31       130\n",
            "          21       0.56      0.30      0.39       143\n",
            "          22       0.51      0.30      0.38       167\n",
            "          23       0.54      0.50      0.52       157\n",
            "          24       0.42      0.32      0.36       156\n",
            "          25       0.59      0.59      0.59       162\n",
            "          26       0.50      0.40      0.44       149\n",
            "          27       0.60      0.49      0.54       143\n",
            "          28       0.98      0.96      0.97       166\n",
            "          29       0.94      0.97      0.96       139\n",
            "          30       0.45      0.27      0.34       161\n",
            "          31       0.65      0.47      0.55       145\n",
            "          32       0.54      0.33      0.41       138\n",
            "          33       0.37      0.19      0.25       161\n",
            "          34       0.72      0.75      0.74       160\n",
            "          35       0.34      0.35      0.35       133\n",
            "          36       0.62      0.52      0.56       160\n",
            "          37       0.33      0.48      0.39       149\n",
            "          38       0.43      0.39      0.41       144\n",
            "          39       0.49      0.32      0.39       152\n",
            "          40       0.75      0.67      0.71       157\n",
            "          41       0.45      0.37      0.40       155\n",
            "          42       0.38      0.68      0.49       161\n",
            "          43       0.38      0.54      0.45       146\n",
            "          44       0.35      0.45      0.39       149\n",
            "          45       0.52      0.72      0.60       144\n",
            "          46       0.85      1.00      0.92       147\n",
            "\n",
            "    accuracy                           0.46      7050\n",
            "   macro avg       0.47      0.46      0.45      7050\n",
            "weighted avg       0.47      0.46      0.45      7050\n",
            "\n",
            "DecisionTreeClassifier  :  0.9140425531914894\n",
            "              precision    recall  f1-score   support\n",
            "\n",
            "           0       0.91      0.94      0.92       145\n",
            "           1       0.92      0.94      0.93       153\n",
            "           2       0.89      0.89      0.89       149\n",
            "           3       0.84      0.86      0.85       163\n",
            "           4       0.94      0.96      0.95       178\n",
            "           5       0.88      0.88      0.88       119\n",
            "           6       0.93      0.98      0.96       153\n",
            "           7       0.89      0.91      0.90       147\n",
            "           8       0.96      0.91      0.94       151\n",
            "           9       0.94      0.92      0.93       141\n",
            "          10       0.90      0.92      0.91       151\n",
            "          11       0.96      0.95      0.96       141\n",
            "          12       0.94      0.90      0.92       161\n",
            "          13       0.89      0.91      0.90       137\n",
            "          14       0.88      0.92      0.90       146\n",
            "          15       0.96      0.96      0.96       148\n",
            "          16       0.93      0.90      0.92       141\n",
            "          17       0.96      0.97      0.96       152\n",
            "          18       0.92      0.89      0.90       158\n",
            "          19       0.89      0.90      0.90       142\n",
            "          20       0.93      0.85      0.89       130\n",
            "          21       0.87      0.87      0.87       143\n",
            "          22       0.92      0.95      0.93       167\n",
            "          23       0.90      0.94      0.92       157\n",
            "          24       0.85      0.85      0.85       156\n",
            "          25       0.95      0.96      0.95       162\n",
            "          26       0.82      0.81      0.81       149\n",
            "          27       0.92      0.94      0.93       143\n",
            "          28       0.99      0.99      0.99       166\n",
            "          29       0.99      1.00      0.99       139\n",
            "          30       0.91      0.94      0.93       161\n",
            "          31       0.94      0.96      0.95       145\n",
            "          32       0.82      0.91      0.86       138\n",
            "          33       0.89      0.86      0.87       161\n",
            "          34       1.00      0.93      0.96       160\n",
            "          35       0.87      0.93      0.90       133\n",
            "          36       0.94      0.94      0.94       160\n",
            "          37       0.92      0.86      0.89       149\n",
            "          38       0.84      0.81      0.82       144\n",
            "          39       0.92      0.93      0.92       152\n",
            "          40       0.97      0.92      0.95       157\n",
            "          41       0.91      0.94      0.92       155\n",
            "          42       0.96      0.91      0.93       161\n",
            "          43       0.81      0.82      0.81       146\n",
            "          44       0.89      0.83      0.86       149\n",
            "          45       0.90      0.89      0.89       144\n",
            "          46       0.99      0.98      0.99       147\n",
            "\n",
            "    accuracy                           0.91      7050\n",
            "   macro avg       0.91      0.91      0.91      7050\n",
            "weighted avg       0.91      0.91      0.91      7050\n",
            "\n",
            "RandomForestClassifier  :  0.9699290780141844\n",
            "              precision    recall  f1-score   support\n",
            "\n",
            "           0       0.98      0.99      0.98       145\n",
            "           1       0.99      0.99      0.99       153\n",
            "           2       0.99      0.99      0.99       149\n",
            "           3       0.92      0.87      0.90       163\n",
            "           4       1.00      0.97      0.99       178\n",
            "           5       0.99      0.96      0.97       119\n",
            "           6       1.00      0.99      1.00       153\n",
            "           7       0.97      0.98      0.97       147\n",
            "           8       0.99      1.00      1.00       151\n",
            "           9       0.98      0.98      0.98       141\n",
            "          10       1.00      0.99      0.99       151\n",
            "          11       1.00      0.99      1.00       141\n",
            "          12       0.99      0.99      0.99       161\n",
            "          13       0.98      0.99      0.99       137\n",
            "          14       0.97      0.97      0.97       146\n",
            "          15       0.99      1.00      1.00       148\n",
            "          16       0.99      1.00      0.99       141\n",
            "          17       1.00      1.00      1.00       152\n",
            "          18       0.98      0.99      0.98       158\n",
            "          19       0.98      0.96      0.97       142\n",
            "          20       0.97      0.96      0.97       130\n",
            "          21       0.92      0.90      0.91       143\n",
            "          22       0.98      0.99      0.99       167\n",
            "          23       0.97      0.97      0.97       157\n",
            "          24       0.94      0.98      0.96       156\n",
            "          25       1.00      1.00      1.00       162\n",
            "          26       0.91      0.87      0.89       149\n",
            "          27       1.00      0.99      0.99       143\n",
            "          28       1.00      0.99      1.00       166\n",
            "          29       0.99      1.00      0.99       139\n",
            "          30       0.99      0.98      0.98       161\n",
            "          31       0.98      0.98      0.98       145\n",
            "          32       0.90      0.91      0.91       138\n",
            "          33       0.99      0.97      0.98       161\n",
            "          34       0.99      0.99      0.99       160\n",
            "          35       0.97      0.98      0.98       133\n",
            "          36       0.98      0.98      0.98       160\n",
            "          37       0.98      0.96      0.97       149\n",
            "          38       0.87      0.91      0.89       144\n",
            "          39       0.95      0.98      0.96       152\n",
            "          40       0.99      0.98      0.98       157\n",
            "          41       0.97      0.98      0.98       155\n",
            "          42       0.99      1.00      1.00       161\n",
            "          43       0.86      0.90      0.88       146\n",
            "          44       0.92      0.91      0.91       149\n",
            "          45       0.89      0.92      0.90       144\n",
            "          46       0.98      1.00      0.99       147\n",
            "\n",
            "    accuracy                           0.97      7050\n",
            "   macro avg       0.97      0.97      0.97      7050\n",
            "weighted avg       0.97      0.97      0.97      7050\n",
            "\n",
            "GradientBoostingClassifier  :  0.9273758865248227\n",
            "              precision    recall  f1-score   support\n",
            "\n",
            "           0       0.91      0.94      0.93       145\n",
            "           1       0.99      0.97      0.98       153\n",
            "           2       0.96      0.93      0.95       149\n",
            "           3       0.86      0.86      0.86       163\n",
            "           4       0.99      0.96      0.97       178\n",
            "           5       0.91      0.87      0.89       119\n",
            "           6       0.97      0.96      0.97       153\n",
            "           7       0.93      0.91      0.92       147\n",
            "           8       0.95      0.91      0.93       151\n",
            "           9       0.94      0.94      0.94       141\n",
            "          10       0.97      0.93      0.95       151\n",
            "          11       0.95      0.99      0.97       141\n",
            "          12       0.94      0.93      0.94       161\n",
            "          13       0.95      0.92      0.93       137\n",
            "          14       0.89      0.95      0.92       146\n",
            "          15       0.98      0.96      0.97       148\n",
            "          16       0.95      0.99      0.97       141\n",
            "          17       0.95      0.95      0.95       152\n",
            "          18       0.92      0.92      0.92       158\n",
            "          19       0.92      0.94      0.93       142\n",
            "          20       0.88      0.93      0.90       130\n",
            "          21       0.88      0.90      0.89       143\n",
            "          22       0.93      0.96      0.95       167\n",
            "          23       0.92      0.90      0.91       157\n",
            "          24       0.84      0.87      0.85       156\n",
            "          25       0.99      0.92      0.95       162\n",
            "          26       0.83      0.85      0.84       149\n",
            "          27       0.98      0.95      0.96       143\n",
            "          28       1.00      0.99      1.00       166\n",
            "          29       0.99      1.00      1.00       139\n",
            "          30       0.92      0.94      0.93       161\n",
            "          31       0.95      0.93      0.94       145\n",
            "          32       0.83      0.90      0.86       138\n",
            "          33       0.87      0.89      0.88       161\n",
            "          34       0.98      0.93      0.95       160\n",
            "          35       0.90      0.93      0.92       133\n",
            "          36       0.96      0.97      0.97       160\n",
            "          37       0.92      0.84      0.88       149\n",
            "          38       0.84      0.90      0.87       144\n",
            "          39       0.88      0.95      0.92       152\n",
            "          40       0.95      0.96      0.95       157\n",
            "          41       0.92      0.94      0.93       155\n",
            "          42       0.97      0.95      0.96       161\n",
            "          43       0.82      0.82      0.82       146\n",
            "          44       0.91      0.86      0.88       149\n",
            "          45       0.89      0.88      0.89       144\n",
            "          46       0.99      0.99      0.99       147\n",
            "\n",
            "    accuracy                           0.93      7050\n",
            "   macro avg       0.93      0.93      0.93      7050\n",
            "weighted avg       0.93      0.93      0.93      7050\n",
            "\n",
            "LogisticRegression  :  0.8329078014184397\n",
            "              precision    recall  f1-score   support\n",
            "\n",
            "           0       0.83      0.85      0.84       145\n",
            "           1       0.90      0.97      0.93       153\n",
            "           2       0.98      0.87      0.92       149\n",
            "           3       0.73      0.63      0.68       163\n",
            "           4       0.92      0.96      0.94       178\n",
            "           5       0.87      0.86      0.86       119\n",
            "           6       0.87      0.93      0.90       153\n",
            "           7       0.81      0.86      0.83       147\n",
            "           8       0.94      0.87      0.91       151\n",
            "           9       0.80      0.76      0.78       141\n",
            "          10       0.69      0.60      0.64       151\n",
            "          11       0.94      0.91      0.93       141\n",
            "          12       0.85      0.83      0.84       161\n",
            "          13       0.87      0.90      0.88       137\n",
            "          14       0.68      0.64      0.66       146\n",
            "          15       0.98      0.99      0.98       148\n",
            "          16       0.82      0.82      0.82       141\n",
            "          17       0.91      0.91      0.91       152\n",
            "          18       0.66      0.61      0.63       158\n",
            "          19       0.91      0.89      0.90       142\n",
            "          20       0.66      0.82      0.73       130\n",
            "          21       0.73      0.66      0.69       143\n",
            "          22       0.85      0.83      0.84       167\n",
            "          23       0.91      0.78      0.84       157\n",
            "          24       0.71      0.74      0.73       156\n",
            "          25       0.88      0.78      0.82       162\n",
            "          26       0.70      0.70      0.70       149\n",
            "          27       0.86      0.91      0.88       143\n",
            "          28       1.00      1.00      1.00       166\n",
            "          29       1.00      1.00      1.00       139\n",
            "          30       0.93      0.88      0.91       161\n",
            "          31       0.88      0.86      0.87       145\n",
            "          32       0.67      0.73      0.70       138\n",
            "          33       0.77      0.79      0.78       161\n",
            "          34       0.95      0.91      0.93       160\n",
            "          35       0.81      0.65      0.72       133\n",
            "          36       0.84      0.86      0.85       160\n",
            "          37       0.69      0.70      0.69       149\n",
            "          38       0.73      0.81      0.77       144\n",
            "          39       0.79      0.93      0.86       152\n",
            "          40       0.89      0.89      0.89       157\n",
            "          41       0.88      0.92      0.90       155\n",
            "          42       0.95      0.98      0.97       161\n",
            "          43       0.64      0.71      0.68       146\n",
            "          44       0.76      0.81      0.78       149\n",
            "          45       0.72      0.78      0.75       144\n",
            "          46       1.00      1.00      1.00       147\n",
            "\n",
            "    accuracy                           0.83      7050\n",
            "   macro avg       0.83      0.83      0.83      7050\n",
            "weighted avg       0.83      0.83      0.83      7050\n",
            "\n",
            "SVC  :  0.9397163120567376\n",
            "              precision    recall  f1-score   support\n",
            "\n",
            "           0       0.95      0.99      0.97       145\n",
            "           1       0.99      1.00      0.99       153\n",
            "           2       0.99      0.93      0.96       149\n",
            "           3       0.90      0.80      0.85       163\n",
            "           4       1.00      0.98      0.99       178\n",
            "           5       0.97      0.97      0.97       119\n",
            "           6       1.00      0.99      1.00       153\n",
            "           7       0.91      0.95      0.93       147\n",
            "           8       0.99      1.00      0.99       151\n",
            "           9       0.94      0.89      0.92       141\n",
            "          10       0.97      0.95      0.96       151\n",
            "          11       0.95      1.00      0.98       141\n",
            "          12       0.98      0.98      0.98       161\n",
            "          13       0.97      0.97      0.97       137\n",
            "          14       0.87      0.95      0.91       146\n",
            "          15       1.00      1.00      1.00       148\n",
            "          16       0.97      1.00      0.98       141\n",
            "          17       0.99      0.96      0.97       152\n",
            "          18       0.90      0.87      0.88       158\n",
            "          19       0.96      0.99      0.97       142\n",
            "          20       0.89      0.92      0.90       130\n",
            "          21       0.86      0.76      0.81       143\n",
            "          22       0.99      0.95      0.97       167\n",
            "          23       0.95      0.88      0.91       157\n",
            "          24       0.91      0.91      0.91       156\n",
            "          25       0.99      0.93      0.96       162\n",
            "          26       0.85      0.90      0.87       149\n",
            "          27       0.96      0.94      0.95       143\n",
            "          28       1.00      1.00      1.00       166\n",
            "          29       1.00      1.00      1.00       139\n",
            "          30       0.96      0.93      0.94       161\n",
            "          31       0.94      0.94      0.94       145\n",
            "          32       0.84      0.86      0.85       138\n",
            "          33       0.95      0.91      0.93       161\n",
            "          34       0.98      0.96      0.97       160\n",
            "          35       0.91      0.94      0.92       133\n",
            "          36       1.00      1.00      1.00       160\n",
            "          37       0.96      0.89      0.92       149\n",
            "          38       0.79      0.91      0.85       144\n",
            "          39       0.87      0.97      0.92       152\n",
            "          40       0.95      0.94      0.95       157\n",
            "          41       0.93      0.95      0.94       155\n",
            "          42       0.99      0.98      0.99       161\n",
            "          43       0.85      0.82      0.83       146\n",
            "          44       0.87      0.91      0.89       149\n",
            "          45       0.79      0.89      0.83       144\n",
            "          46       0.99      1.00      1.00       147\n",
            "\n",
            "    accuracy                           0.94      7050\n",
            "   macro avg       0.94      0.94      0.94      7050\n",
            "weighted avg       0.94      0.94      0.94      7050\n",
            "\n",
            "XGBClassifier  :  0.8929078014184397\n",
            "              precision    recall  f1-score   support\n",
            "\n",
            "           0       0.81      0.86      0.84       145\n",
            "           1       0.95      0.96      0.96       153\n",
            "           2       0.94      0.89      0.91       149\n",
            "           3       0.85      0.79      0.82       163\n",
            "           4       0.91      0.86      0.88       178\n",
            "           5       0.87      0.85      0.86       119\n",
            "           6       0.97      0.93      0.95       153\n",
            "           7       0.88      0.90      0.89       147\n",
            "           8       0.90      0.94      0.92       151\n",
            "           9       0.88      0.86      0.87       141\n",
            "          10       0.94      0.88      0.91       151\n",
            "          11       0.91      0.94      0.93       141\n",
            "          12       0.91      0.84      0.87       161\n",
            "          13       0.92      0.91      0.91       137\n",
            "          14       0.78      0.89      0.83       146\n",
            "          15       0.97      0.92      0.94       148\n",
            "          16       0.93      0.98      0.95       141\n",
            "          17       0.99      0.97      0.98       152\n",
            "          18       0.88      0.82      0.85       158\n",
            "          19       0.88      0.90      0.89       142\n",
            "          20       0.82      0.92      0.87       130\n",
            "          21       0.89      0.87      0.88       143\n",
            "          22       0.87      0.89      0.88       167\n",
            "          23       0.89      0.81      0.85       157\n",
            "          24       0.85      0.80      0.83       156\n",
            "          25       0.97      0.86      0.91       162\n",
            "          26       0.78      0.84      0.81       149\n",
            "          27       0.91      0.94      0.92       143\n",
            "          28       1.00      0.99      1.00       166\n",
            "          29       0.99      1.00      1.00       139\n",
            "          30       0.91      0.86      0.89       161\n",
            "          31       0.98      0.86      0.91       145\n",
            "          32       0.80      0.86      0.83       138\n",
            "          33       0.87      0.84      0.85       161\n",
            "          34       0.99      0.94      0.96       160\n",
            "          35       0.84      0.90      0.87       133\n",
            "          36       0.95      0.95      0.95       160\n",
            "          37       0.86      0.80      0.83       149\n",
            "          38       0.77      0.87      0.81       144\n",
            "          39       0.80      0.93      0.86       152\n",
            "          40       0.90      0.98      0.94       157\n",
            "          41       0.83      0.94      0.88       155\n",
            "          42       0.97      0.93      0.95       161\n",
            "          43       0.81      0.76      0.78       146\n",
            "          44       0.87      0.85      0.86       149\n",
            "          45       0.86      0.92      0.89       144\n",
            "          46       1.00      1.00      1.00       147\n",
            "\n",
            "    accuracy                           0.89      7050\n",
            "   macro avg       0.89      0.89      0.89      7050\n",
            "weighted avg       0.90      0.89      0.89      7050\n",
            "\n",
            "LGBMClassifier  :  0.9680851063829787\n",
            "              precision    recall  f1-score   support\n",
            "\n",
            "           0       0.98      0.98      0.98       145\n",
            "           1       1.00      0.99      1.00       153\n",
            "           2       0.99      0.97      0.98       149\n",
            "           3       0.91      0.88      0.89       163\n",
            "           4       0.99      0.98      0.99       178\n",
            "           5       0.98      0.99      0.98       119\n",
            "           6       1.00      0.99      1.00       153\n",
            "           7       0.99      0.97      0.98       147\n",
            "           8       0.99      0.99      0.99       151\n",
            "           9       0.99      0.99      0.99       141\n",
            "          10       0.99      1.00      1.00       151\n",
            "          11       0.99      0.99      0.99       141\n",
            "          12       0.99      0.99      0.99       161\n",
            "          13       0.99      0.99      0.99       137\n",
            "          14       0.97      0.97      0.97       146\n",
            "          15       1.00      0.99      1.00       148\n",
            "          16       0.99      0.99      0.99       141\n",
            "          17       0.99      0.98      0.98       152\n",
            "          18       0.98      0.98      0.98       158\n",
            "          19       1.00      0.96      0.98       142\n",
            "          20       0.98      0.96      0.97       130\n",
            "          21       0.89      0.90      0.90       143\n",
            "          22       0.95      0.99      0.97       167\n",
            "          23       0.97      0.92      0.95       157\n",
            "          24       0.96      0.97      0.97       156\n",
            "          25       0.99      0.99      0.99       162\n",
            "          26       0.91      0.85      0.88       149\n",
            "          27       0.98      0.98      0.98       143\n",
            "          28       1.00      0.99      1.00       166\n",
            "          29       0.99      1.00      1.00       139\n",
            "          30       0.98      0.98      0.98       161\n",
            "          31       0.99      0.99      0.99       145\n",
            "          32       0.89      0.91      0.90       138\n",
            "          33       0.98      0.99      0.98       161\n",
            "          34       1.00      0.99      0.99       160\n",
            "          35       0.97      0.96      0.97       133\n",
            "          36       0.98      0.98      0.98       160\n",
            "          37       0.95      0.97      0.96       149\n",
            "          38       0.86      0.91      0.89       144\n",
            "          39       0.96      0.98      0.97       152\n",
            "          40       0.99      0.99      0.99       157\n",
            "          41       0.97      0.98      0.97       155\n",
            "          42       1.00      0.99      1.00       161\n",
            "          43       0.86      0.90      0.88       146\n",
            "          44       0.92      0.90      0.91       149\n",
            "          45       0.90      0.91      0.90       144\n",
            "          46       0.99      1.00      1.00       147\n",
            "\n",
            "    accuracy                           0.97      7050\n",
            "   macro avg       0.97      0.97      0.97      7050\n",
            "weighted avg       0.97      0.97      0.97      7050\n",
            "\n"
          ]
        }
      ]
    },
    {
      "cell_type": "code",
      "source": [],
      "metadata": {
        "id": "-nniSOnUQ3el"
      },
      "execution_count": null,
      "outputs": []
    },
    {
      "cell_type": "code",
      "source": [],
      "metadata": {
        "id": "PcA-UQ5NXBHZ"
      },
      "execution_count": null,
      "outputs": []
    },
    {
      "cell_type": "markdown",
      "source": [
        "# CNN"
      ],
      "metadata": {
        "id": "EaO23TjcutJN"
      }
    },
    {
      "cell_type": "code",
      "source": [
        "print(x_train.shape)\n",
        "print(x_test.shape)\n",
        "print(y_train.shape)\n",
        "print(y_test.shape)"
      ],
      "metadata": {
        "colab": {
          "base_uri": "https://localhost:8080/"
        },
        "id": "mWLBgHM3uwnw",
        "outputId": "84226700-4051-4970-d2ba-20de08d7eef9"
      },
      "execution_count": 34,
      "outputs": [
        {
          "output_type": "stream",
          "name": "stdout",
          "text": [
            "(39950, 63)\n",
            "(7050, 63)\n",
            "(39950,)\n",
            "(7050,)\n"
          ]
        }
      ]
    },
    {
      "cell_type": "code",
      "source": [
        "x_train_rp = x_train.reshape(x_train.shape[0], x_train.shape[1], 1)\n",
        "x_test_rp = x_test.reshape(x_test.shape[0], x_test.shape[1], 1)"
      ],
      "metadata": {
        "id": "vfYYdCVvuz55"
      },
      "execution_count": 35,
      "outputs": []
    },
    {
      "cell_type": "code",
      "source": [
        "print(x_train_rp.shape)\n",
        "print(x_test_rp.shape)\n",
        "print(y_train.shape)\n",
        "print(y_test.shape)"
      ],
      "metadata": {
        "colab": {
          "base_uri": "https://localhost:8080/"
        },
        "id": "n4UBx2U9u1Q_",
        "outputId": "41eaa984-3dc6-45bc-8fe9-435d8f2b9e06"
      },
      "execution_count": 36,
      "outputs": [
        {
          "output_type": "stream",
          "name": "stdout",
          "text": [
            "(39950, 63, 1)\n",
            "(7050, 63, 1)\n",
            "(39950,)\n",
            "(7050,)\n"
          ]
        }
      ]
    },
    {
      "cell_type": "code",
      "source": [
        "model = Sequential()\n",
        "model.add(Conv1D(200, 2, activation=\"relu\", input_shape=(x_train.shape[1],1))) # must put number of features here\n",
        "model.add(MaxPooling1D())\n",
        "model.add(Conv1D(400, 2, activation=\"relu\", input_shape=(x_train.shape[1],1))) # must put number of features here\n",
        "model.add(Dense(16, activation=\"relu\"))\n",
        "model.add(MaxPooling1D())\n",
        "model.add(Dense(600, activation=\"relu\"))\n",
        "model.add(MaxPooling1D())\n",
        "model.add(Flatten())\n",
        "model.add(Dense(47, activation = 'softmax')) # number of classes 47\n",
        "model.compile(loss = 'sparse_categorical_crossentropy', \n",
        "     optimizer = \"adam\",               \n",
        "              metrics = ['accuracy'])\n",
        "model.summary()\n",
        "model.fit(x_train, y_train, batch_size=16,epochs=100, verbose=0)"
      ],
      "metadata": {
        "colab": {
          "base_uri": "https://localhost:8080/",
          "height": 866
        },
        "id": "ugpb8pUgu1aZ",
        "outputId": "35540d4c-afc9-42b8-8ecf-3f0d45ff9378"
      },
      "execution_count": null,
      "outputs": [
        {
          "output_type": "stream",
          "name": "stdout",
          "text": [
            "Model: \"sequential\"\n",
            "_________________________________________________________________\n",
            " Layer (type)                Output Shape              Param #   \n",
            "=================================================================\n",
            " conv1d (Conv1D)             (None, 62, 200)           600       \n",
            "                                                                 \n",
            " max_pooling1d (MaxPooling1D  (None, 31, 200)          0         \n",
            " )                                                               \n",
            "                                                                 \n",
            " conv1d_1 (Conv1D)           (None, 30, 400)           160400    \n",
            "                                                                 \n",
            " dense (Dense)               (None, 30, 16)            6416      \n",
            "                                                                 \n",
            " max_pooling1d_1 (MaxPooling  (None, 15, 16)           0         \n",
            " 1D)                                                             \n",
            "                                                                 \n",
            " dense_1 (Dense)             (None, 15, 600)           10200     \n",
            "                                                                 \n",
            " max_pooling1d_2 (MaxPooling  (None, 7, 600)           0         \n",
            " 1D)                                                             \n",
            "                                                                 \n",
            " flatten (Flatten)           (None, 4200)              0         \n",
            "                                                                 \n",
            " dense_2 (Dense)             (None, 47)                197447    \n",
            "                                                                 \n",
            "=================================================================\n",
            "Total params: 375,063\n",
            "Trainable params: 375,063\n",
            "Non-trainable params: 0\n",
            "_________________________________________________________________\n"
          ]
        },
        {
          "output_type": "error",
          "ename": "KeyboardInterrupt",
          "evalue": "ignored",
          "traceback": [
            "\u001b[0;31m---------------------------------------------------------------------------\u001b[0m",
            "\u001b[0;31mKeyboardInterrupt\u001b[0m                         Traceback (most recent call last)",
            "\u001b[0;32m<ipython-input-37-e70dc4f0dcd5>\u001b[0m in \u001b[0;36m<module>\u001b[0;34m\u001b[0m\n\u001b[1;32m     13\u001b[0m               metrics = ['accuracy'])\n\u001b[1;32m     14\u001b[0m \u001b[0mmodel\u001b[0m\u001b[0;34m.\u001b[0m\u001b[0msummary\u001b[0m\u001b[0;34m(\u001b[0m\u001b[0;34m)\u001b[0m\u001b[0;34m\u001b[0m\u001b[0;34m\u001b[0m\u001b[0m\n\u001b[0;32m---> 15\u001b[0;31m \u001b[0mmodel\u001b[0m\u001b[0;34m.\u001b[0m\u001b[0mfit\u001b[0m\u001b[0;34m(\u001b[0m\u001b[0mx_train\u001b[0m\u001b[0;34m,\u001b[0m \u001b[0my_train\u001b[0m\u001b[0;34m,\u001b[0m \u001b[0mbatch_size\u001b[0m\u001b[0;34m=\u001b[0m\u001b[0;36m16\u001b[0m\u001b[0;34m,\u001b[0m\u001b[0mepochs\u001b[0m\u001b[0;34m=\u001b[0m\u001b[0;36m100\u001b[0m\u001b[0;34m,\u001b[0m \u001b[0mverbose\u001b[0m\u001b[0;34m=\u001b[0m\u001b[0;36m0\u001b[0m\u001b[0;34m)\u001b[0m\u001b[0;34m\u001b[0m\u001b[0;34m\u001b[0m\u001b[0m\n\u001b[0m",
            "\u001b[0;32m/usr/local/lib/python3.8/dist-packages/keras/utils/traceback_utils.py\u001b[0m in \u001b[0;36merror_handler\u001b[0;34m(*args, **kwargs)\u001b[0m\n\u001b[1;32m     62\u001b[0m     \u001b[0mfiltered_tb\u001b[0m \u001b[0;34m=\u001b[0m \u001b[0;32mNone\u001b[0m\u001b[0;34m\u001b[0m\u001b[0;34m\u001b[0m\u001b[0m\n\u001b[1;32m     63\u001b[0m     \u001b[0;32mtry\u001b[0m\u001b[0;34m:\u001b[0m\u001b[0;34m\u001b[0m\u001b[0;34m\u001b[0m\u001b[0m\n\u001b[0;32m---> 64\u001b[0;31m       \u001b[0;32mreturn\u001b[0m \u001b[0mfn\u001b[0m\u001b[0;34m(\u001b[0m\u001b[0;34m*\u001b[0m\u001b[0margs\u001b[0m\u001b[0;34m,\u001b[0m \u001b[0;34m**\u001b[0m\u001b[0mkwargs\u001b[0m\u001b[0;34m)\u001b[0m\u001b[0;34m\u001b[0m\u001b[0;34m\u001b[0m\u001b[0m\n\u001b[0m\u001b[1;32m     65\u001b[0m     \u001b[0;32mexcept\u001b[0m \u001b[0mException\u001b[0m \u001b[0;32mas\u001b[0m \u001b[0me\u001b[0m\u001b[0;34m:\u001b[0m  \u001b[0;31m# pylint: disable=broad-except\u001b[0m\u001b[0;34m\u001b[0m\u001b[0;34m\u001b[0m\u001b[0m\n\u001b[1;32m     66\u001b[0m       \u001b[0mfiltered_tb\u001b[0m \u001b[0;34m=\u001b[0m \u001b[0m_process_traceback_frames\u001b[0m\u001b[0;34m(\u001b[0m\u001b[0me\u001b[0m\u001b[0;34m.\u001b[0m\u001b[0m__traceback__\u001b[0m\u001b[0;34m)\u001b[0m\u001b[0;34m\u001b[0m\u001b[0;34m\u001b[0m\u001b[0m\n",
            "\u001b[0;32m/usr/local/lib/python3.8/dist-packages/keras/engine/training.py\u001b[0m in \u001b[0;36mfit\u001b[0;34m(self, x, y, batch_size, epochs, verbose, callbacks, validation_split, validation_data, shuffle, class_weight, sample_weight, initial_epoch, steps_per_epoch, validation_steps, validation_batch_size, validation_freq, max_queue_size, workers, use_multiprocessing)\u001b[0m\n\u001b[1;32m   1407\u001b[0m                 _r=1):\n\u001b[1;32m   1408\u001b[0m               \u001b[0mcallbacks\u001b[0m\u001b[0;34m.\u001b[0m\u001b[0mon_train_batch_begin\u001b[0m\u001b[0;34m(\u001b[0m\u001b[0mstep\u001b[0m\u001b[0;34m)\u001b[0m\u001b[0;34m\u001b[0m\u001b[0;34m\u001b[0m\u001b[0m\n\u001b[0;32m-> 1409\u001b[0;31m               \u001b[0mtmp_logs\u001b[0m \u001b[0;34m=\u001b[0m \u001b[0mself\u001b[0m\u001b[0;34m.\u001b[0m\u001b[0mtrain_function\u001b[0m\u001b[0;34m(\u001b[0m\u001b[0miterator\u001b[0m\u001b[0;34m)\u001b[0m\u001b[0;34m\u001b[0m\u001b[0;34m\u001b[0m\u001b[0m\n\u001b[0m\u001b[1;32m   1410\u001b[0m               \u001b[0;32mif\u001b[0m \u001b[0mdata_handler\u001b[0m\u001b[0;34m.\u001b[0m\u001b[0mshould_sync\u001b[0m\u001b[0;34m:\u001b[0m\u001b[0;34m\u001b[0m\u001b[0;34m\u001b[0m\u001b[0m\n\u001b[1;32m   1411\u001b[0m                 \u001b[0mcontext\u001b[0m\u001b[0;34m.\u001b[0m\u001b[0masync_wait\u001b[0m\u001b[0;34m(\u001b[0m\u001b[0;34m)\u001b[0m\u001b[0;34m\u001b[0m\u001b[0;34m\u001b[0m\u001b[0m\n",
            "\u001b[0;32m/usr/local/lib/python3.8/dist-packages/tensorflow/python/util/traceback_utils.py\u001b[0m in \u001b[0;36merror_handler\u001b[0;34m(*args, **kwargs)\u001b[0m\n\u001b[1;32m    148\u001b[0m     \u001b[0mfiltered_tb\u001b[0m \u001b[0;34m=\u001b[0m \u001b[0;32mNone\u001b[0m\u001b[0;34m\u001b[0m\u001b[0;34m\u001b[0m\u001b[0m\n\u001b[1;32m    149\u001b[0m     \u001b[0;32mtry\u001b[0m\u001b[0;34m:\u001b[0m\u001b[0;34m\u001b[0m\u001b[0;34m\u001b[0m\u001b[0m\n\u001b[0;32m--> 150\u001b[0;31m       \u001b[0;32mreturn\u001b[0m \u001b[0mfn\u001b[0m\u001b[0;34m(\u001b[0m\u001b[0;34m*\u001b[0m\u001b[0margs\u001b[0m\u001b[0;34m,\u001b[0m \u001b[0;34m**\u001b[0m\u001b[0mkwargs\u001b[0m\u001b[0;34m)\u001b[0m\u001b[0;34m\u001b[0m\u001b[0;34m\u001b[0m\u001b[0m\n\u001b[0m\u001b[1;32m    151\u001b[0m     \u001b[0;32mexcept\u001b[0m \u001b[0mException\u001b[0m \u001b[0;32mas\u001b[0m \u001b[0me\u001b[0m\u001b[0;34m:\u001b[0m\u001b[0;34m\u001b[0m\u001b[0;34m\u001b[0m\u001b[0m\n\u001b[1;32m    152\u001b[0m       \u001b[0mfiltered_tb\u001b[0m \u001b[0;34m=\u001b[0m \u001b[0m_process_traceback_frames\u001b[0m\u001b[0;34m(\u001b[0m\u001b[0me\u001b[0m\u001b[0;34m.\u001b[0m\u001b[0m__traceback__\u001b[0m\u001b[0;34m)\u001b[0m\u001b[0;34m\u001b[0m\u001b[0;34m\u001b[0m\u001b[0m\n",
            "\u001b[0;32m/usr/local/lib/python3.8/dist-packages/tensorflow/python/eager/def_function.py\u001b[0m in \u001b[0;36m__call__\u001b[0;34m(self, *args, **kwds)\u001b[0m\n\u001b[1;32m    913\u001b[0m \u001b[0;34m\u001b[0m\u001b[0m\n\u001b[1;32m    914\u001b[0m       \u001b[0;32mwith\u001b[0m \u001b[0mOptionalXlaContext\u001b[0m\u001b[0;34m(\u001b[0m\u001b[0mself\u001b[0m\u001b[0;34m.\u001b[0m\u001b[0m_jit_compile\u001b[0m\u001b[0;34m)\u001b[0m\u001b[0;34m:\u001b[0m\u001b[0;34m\u001b[0m\u001b[0;34m\u001b[0m\u001b[0m\n\u001b[0;32m--> 915\u001b[0;31m         \u001b[0mresult\u001b[0m \u001b[0;34m=\u001b[0m \u001b[0mself\u001b[0m\u001b[0;34m.\u001b[0m\u001b[0m_call\u001b[0m\u001b[0;34m(\u001b[0m\u001b[0;34m*\u001b[0m\u001b[0margs\u001b[0m\u001b[0;34m,\u001b[0m \u001b[0;34m**\u001b[0m\u001b[0mkwds\u001b[0m\u001b[0;34m)\u001b[0m\u001b[0;34m\u001b[0m\u001b[0;34m\u001b[0m\u001b[0m\n\u001b[0m\u001b[1;32m    916\u001b[0m \u001b[0;34m\u001b[0m\u001b[0m\n\u001b[1;32m    917\u001b[0m       \u001b[0mnew_tracing_count\u001b[0m \u001b[0;34m=\u001b[0m \u001b[0mself\u001b[0m\u001b[0;34m.\u001b[0m\u001b[0mexperimental_get_tracing_count\u001b[0m\u001b[0;34m(\u001b[0m\u001b[0;34m)\u001b[0m\u001b[0;34m\u001b[0m\u001b[0;34m\u001b[0m\u001b[0m\n",
            "\u001b[0;32m/usr/local/lib/python3.8/dist-packages/tensorflow/python/eager/def_function.py\u001b[0m in \u001b[0;36m_call\u001b[0;34m(self, *args, **kwds)\u001b[0m\n\u001b[1;32m    945\u001b[0m       \u001b[0;31m# In this case we have created variables on the first call, so we run the\u001b[0m\u001b[0;34m\u001b[0m\u001b[0;34m\u001b[0m\u001b[0;34m\u001b[0m\u001b[0m\n\u001b[1;32m    946\u001b[0m       \u001b[0;31m# defunned version which is guaranteed to never create variables.\u001b[0m\u001b[0;34m\u001b[0m\u001b[0;34m\u001b[0m\u001b[0;34m\u001b[0m\u001b[0m\n\u001b[0;32m--> 947\u001b[0;31m       \u001b[0;32mreturn\u001b[0m \u001b[0mself\u001b[0m\u001b[0;34m.\u001b[0m\u001b[0m_stateless_fn\u001b[0m\u001b[0;34m(\u001b[0m\u001b[0;34m*\u001b[0m\u001b[0margs\u001b[0m\u001b[0;34m,\u001b[0m \u001b[0;34m**\u001b[0m\u001b[0mkwds\u001b[0m\u001b[0;34m)\u001b[0m  \u001b[0;31m# pylint: disable=not-callable\u001b[0m\u001b[0;34m\u001b[0m\u001b[0;34m\u001b[0m\u001b[0m\n\u001b[0m\u001b[1;32m    948\u001b[0m     \u001b[0;32melif\u001b[0m \u001b[0mself\u001b[0m\u001b[0;34m.\u001b[0m\u001b[0m_stateful_fn\u001b[0m \u001b[0;32mis\u001b[0m \u001b[0;32mnot\u001b[0m \u001b[0;32mNone\u001b[0m\u001b[0;34m:\u001b[0m\u001b[0;34m\u001b[0m\u001b[0;34m\u001b[0m\u001b[0m\n\u001b[1;32m    949\u001b[0m       \u001b[0;31m# Release the lock early so that multiple threads can perform the call\u001b[0m\u001b[0;34m\u001b[0m\u001b[0;34m\u001b[0m\u001b[0;34m\u001b[0m\u001b[0m\n",
            "\u001b[0;32m/usr/local/lib/python3.8/dist-packages/tensorflow/python/eager/function.py\u001b[0m in \u001b[0;36m__call__\u001b[0;34m(self, *args, **kwargs)\u001b[0m\n\u001b[1;32m   2451\u001b[0m       (graph_function,\n\u001b[1;32m   2452\u001b[0m        filtered_flat_args) = self._maybe_define_function(args, kwargs)\n\u001b[0;32m-> 2453\u001b[0;31m     return graph_function._call_flat(\n\u001b[0m\u001b[1;32m   2454\u001b[0m         filtered_flat_args, captured_inputs=graph_function.captured_inputs)  # pylint: disable=protected-access\n\u001b[1;32m   2455\u001b[0m \u001b[0;34m\u001b[0m\u001b[0m\n",
            "\u001b[0;32m/usr/local/lib/python3.8/dist-packages/tensorflow/python/eager/function.py\u001b[0m in \u001b[0;36m_call_flat\u001b[0;34m(self, args, captured_inputs, cancellation_manager)\u001b[0m\n\u001b[1;32m   1858\u001b[0m         and executing_eagerly):\n\u001b[1;32m   1859\u001b[0m       \u001b[0;31m# No tape is watching; skip to running the function.\u001b[0m\u001b[0;34m\u001b[0m\u001b[0;34m\u001b[0m\u001b[0;34m\u001b[0m\u001b[0m\n\u001b[0;32m-> 1860\u001b[0;31m       return self._build_call_outputs(self._inference_function.call(\n\u001b[0m\u001b[1;32m   1861\u001b[0m           ctx, args, cancellation_manager=cancellation_manager))\n\u001b[1;32m   1862\u001b[0m     forward_backward = self._select_forward_and_backward_functions(\n",
            "\u001b[0;32m/usr/local/lib/python3.8/dist-packages/tensorflow/python/eager/function.py\u001b[0m in \u001b[0;36mcall\u001b[0;34m(self, ctx, args, cancellation_manager)\u001b[0m\n\u001b[1;32m    495\u001b[0m       \u001b[0;32mwith\u001b[0m \u001b[0m_InterpolateFunctionError\u001b[0m\u001b[0;34m(\u001b[0m\u001b[0mself\u001b[0m\u001b[0;34m)\u001b[0m\u001b[0;34m:\u001b[0m\u001b[0;34m\u001b[0m\u001b[0;34m\u001b[0m\u001b[0m\n\u001b[1;32m    496\u001b[0m         \u001b[0;32mif\u001b[0m \u001b[0mcancellation_manager\u001b[0m \u001b[0;32mis\u001b[0m \u001b[0;32mNone\u001b[0m\u001b[0;34m:\u001b[0m\u001b[0;34m\u001b[0m\u001b[0;34m\u001b[0m\u001b[0m\n\u001b[0;32m--> 497\u001b[0;31m           outputs = execute.execute(\n\u001b[0m\u001b[1;32m    498\u001b[0m               \u001b[0mstr\u001b[0m\u001b[0;34m(\u001b[0m\u001b[0mself\u001b[0m\u001b[0;34m.\u001b[0m\u001b[0msignature\u001b[0m\u001b[0;34m.\u001b[0m\u001b[0mname\u001b[0m\u001b[0;34m)\u001b[0m\u001b[0;34m,\u001b[0m\u001b[0;34m\u001b[0m\u001b[0;34m\u001b[0m\u001b[0m\n\u001b[1;32m    499\u001b[0m               \u001b[0mnum_outputs\u001b[0m\u001b[0;34m=\u001b[0m\u001b[0mself\u001b[0m\u001b[0;34m.\u001b[0m\u001b[0m_num_outputs\u001b[0m\u001b[0;34m,\u001b[0m\u001b[0;34m\u001b[0m\u001b[0;34m\u001b[0m\u001b[0m\n",
            "\u001b[0;32m/usr/local/lib/python3.8/dist-packages/tensorflow/python/eager/execute.py\u001b[0m in \u001b[0;36mquick_execute\u001b[0;34m(op_name, num_outputs, inputs, attrs, ctx, name)\u001b[0m\n\u001b[1;32m     52\u001b[0m   \u001b[0;32mtry\u001b[0m\u001b[0;34m:\u001b[0m\u001b[0;34m\u001b[0m\u001b[0;34m\u001b[0m\u001b[0m\n\u001b[1;32m     53\u001b[0m     \u001b[0mctx\u001b[0m\u001b[0;34m.\u001b[0m\u001b[0mensure_initialized\u001b[0m\u001b[0;34m(\u001b[0m\u001b[0;34m)\u001b[0m\u001b[0;34m\u001b[0m\u001b[0;34m\u001b[0m\u001b[0m\n\u001b[0;32m---> 54\u001b[0;31m     tensors = pywrap_tfe.TFE_Py_Execute(ctx._handle, device_name, op_name,\n\u001b[0m\u001b[1;32m     55\u001b[0m                                         inputs, attrs, num_outputs)\n\u001b[1;32m     56\u001b[0m   \u001b[0;32mexcept\u001b[0m \u001b[0mcore\u001b[0m\u001b[0;34m.\u001b[0m\u001b[0m_NotOkStatusException\u001b[0m \u001b[0;32mas\u001b[0m \u001b[0me\u001b[0m\u001b[0;34m:\u001b[0m\u001b[0;34m\u001b[0m\u001b[0;34m\u001b[0m\u001b[0m\n",
            "\u001b[0;31mKeyboardInterrupt\u001b[0m: "
          ]
        }
      ]
    },
    {
      "cell_type": "code",
      "source": [
        "acc = model.evaluate(x_train, y_train)\n",
        "print(\"Loss:\", acc[0], \" Accuracy:\", acc[1])"
      ],
      "metadata": {
        "id": "uH-zRxiCu6fy"
      },
      "execution_count": null,
      "outputs": []
    },
    {
      "cell_type": "code",
      "source": [
        "pred = model.predict(x_test)\n",
        "pred_y = pred.argmax(axis=-1)"
      ],
      "metadata": {
        "id": "NSKvpo8vvEzF"
      },
      "execution_count": null,
      "outputs": []
    },
    {
      "cell_type": "code",
      "source": [
        "cm = confusion_matrix(y_test, pred_y)\n",
        "print(cm)"
      ],
      "metadata": {
        "id": "vZ7uHx-GvGeu"
      },
      "execution_count": null,
      "outputs": []
    },
    {
      "cell_type": "code",
      "source": [
        "print(accuracy_score(y_test, pred_y))\n",
        "print(classification_report(y_test,pred_y))"
      ],
      "metadata": {
        "id": "KGNGaac0vHpA"
      },
      "execution_count": null,
      "outputs": []
    },
    {
      "cell_type": "markdown",
      "source": [
        "# LSTM"
      ],
      "metadata": {
        "id": "YInJoHFDdB-B"
      }
    },
    {
      "cell_type": "code",
      "source": [
        "model = Sequential()\n",
        "model.add(LSTM(64, input_shape=(x_train.shape[1],1), return_sequences=True)) # must put number of features here\n",
        "model.add(LSTM(128,  activation=\"relu\")) # must put number of features here\n",
        "model.add(Dense(200, activation=\"relu\"))\n",
        "model.add(Flatten())\n",
        "model.add(Dense(47, activation = 'softmax')) # number of classes 47\n",
        "model.compile(loss = 'sparse_categorical_crossentropy', \n",
        "     optimizer = \"adam\",               \n",
        "              metrics = ['accuracy'])\n",
        "model.summary()\n",
        "model.fit(x_train, y_train, batch_size=16,epochs=50, verbose=0)"
      ],
      "metadata": {
        "id": "5jBfHydavJJO",
        "colab": {
          "base_uri": "https://localhost:8080/"
        },
        "outputId": "656a4b1d-0c57-42f9-84ac-4b210cda5993"
      },
      "execution_count": 37,
      "outputs": [
        {
          "output_type": "stream",
          "name": "stdout",
          "text": [
            "Model: \"sequential\"\n",
            "_________________________________________________________________\n",
            " Layer (type)                Output Shape              Param #   \n",
            "=================================================================\n",
            " lstm (LSTM)                 (None, 63, 64)            16896     \n",
            "                                                                 \n",
            " lstm_1 (LSTM)               (None, 128)               98816     \n",
            "                                                                 \n",
            " dense (Dense)               (None, 200)               25800     \n",
            "                                                                 \n",
            " flatten (Flatten)           (None, 200)               0         \n",
            "                                                                 \n",
            " dense_1 (Dense)             (None, 47)                9447      \n",
            "                                                                 \n",
            "=================================================================\n",
            "Total params: 150,959\n",
            "Trainable params: 150,959\n",
            "Non-trainable params: 0\n",
            "_________________________________________________________________\n"
          ]
        },
        {
          "output_type": "execute_result",
          "data": {
            "text/plain": [
              "<keras.callbacks.History at 0x7f0a69faa100>"
            ]
          },
          "metadata": {},
          "execution_count": 37
        }
      ]
    },
    {
      "cell_type": "code",
      "source": [
        "acc = model.evaluate(x_train, y_train)\n",
        "print(\"Loss:\", acc[0], \" Accuracy:\", acc[1])"
      ],
      "metadata": {
        "id": "WLlid8nHdHY0",
        "colab": {
          "base_uri": "https://localhost:8080/"
        },
        "outputId": "d4388663-a7df-43b0-f70e-ddab0771c28a"
      },
      "execution_count": 38,
      "outputs": [
        {
          "output_type": "stream",
          "name": "stdout",
          "text": [
            "1249/1249 [==============================] - 51s 40ms/step - loss: 0.0938 - accuracy: 0.9656\n",
            "Loss: 0.09381178021430969  Accuracy: 0.9656320214271545\n"
          ]
        }
      ]
    },
    {
      "cell_type": "code",
      "source": [
        "pred = model.predict(x_test)\n",
        "pred_y = pred.argmax(axis=-1)"
      ],
      "metadata": {
        "id": "hblDYXPSdIVF",
        "colab": {
          "base_uri": "https://localhost:8080/"
        },
        "outputId": "3de56014-fba8-46ba-abeb-eb7491a87608"
      },
      "execution_count": 39,
      "outputs": [
        {
          "output_type": "stream",
          "name": "stdout",
          "text": [
            "221/221 [==============================] - 10s 40ms/step\n"
          ]
        }
      ]
    },
    {
      "cell_type": "code",
      "source": [
        "cm = confusion_matrix(y_test, pred_y)\n",
        "print(cm)"
      ],
      "metadata": {
        "id": "oScwNDuwdJHm",
        "colab": {
          "base_uri": "https://localhost:8080/"
        },
        "outputId": "59b8fbd7-337b-4d65-ca80-d1deb3d76639"
      },
      "execution_count": 40,
      "outputs": [
        {
          "output_type": "stream",
          "name": "stdout",
          "text": [
            "[[132   1   0 ...   0   0   0]\n",
            " [  0 131   0 ...   0   0   0]\n",
            " [  0   0 138 ...   1   0   0]\n",
            " ...\n",
            " [  0   0   0 ... 139   1   0]\n",
            " [  0   0   0 ...   0 129   0]\n",
            " [  0   0   0 ...   0   0 138]]\n"
          ]
        }
      ]
    },
    {
      "cell_type": "code",
      "source": [
        "print(accuracy_score(y_test, pred_y))\n",
        "print(classification_report(y_test,pred_y))"
      ],
      "metadata": {
        "id": "ShfrEtAGdKPP",
        "colab": {
          "base_uri": "https://localhost:8080/"
        },
        "outputId": "a4135647-bc82-4e11-dd59-fc34547c43bc"
      },
      "execution_count": 41,
      "outputs": [
        {
          "output_type": "stream",
          "name": "stdout",
          "text": [
            "0.9526241134751773\n",
            "              precision    recall  f1-score   support\n",
            "\n",
            "           0       0.98      0.98      0.98       135\n",
            "           1       0.99      0.99      0.99       132\n",
            "           2       0.97      0.93      0.95       148\n",
            "           3       0.91      0.90      0.91       149\n",
            "           4       0.98      0.98      0.98       147\n",
            "           5       0.97      0.97      0.97       156\n",
            "           6       0.99      0.99      0.99       155\n",
            "           7       0.95      0.93      0.94       159\n",
            "           8       0.99      0.97      0.98       147\n",
            "           9       0.95      0.96      0.96       158\n",
            "          10       0.96      0.98      0.97       160\n",
            "          11       1.00      0.99      1.00       158\n",
            "          12       0.97      0.98      0.98       152\n",
            "          13       0.89      0.97      0.93       141\n",
            "          14       0.95      0.95      0.95       153\n",
            "          15       0.99      0.98      0.99       141\n",
            "          16       0.97      0.99      0.98       153\n",
            "          17       0.95      0.98      0.96       145\n",
            "          18       0.90      0.97      0.93       143\n",
            "          19       0.99      0.94      0.97       161\n",
            "          20       0.97      0.92      0.94       163\n",
            "          21       0.89      0.86      0.87       153\n",
            "          22       0.96      0.95      0.96       168\n",
            "          23       0.95      0.95      0.95       139\n",
            "          24       0.91      0.89      0.90       149\n",
            "          25       0.99      0.97      0.98       145\n",
            "          26       0.91      0.92      0.91       158\n",
            "          27       0.94      0.97      0.95       173\n",
            "          28       1.00      1.00      1.00       148\n",
            "          29       1.00      1.00      1.00       146\n",
            "          30       0.97      0.92      0.95       141\n",
            "          31       0.97      0.97      0.97       143\n",
            "          32       0.96      0.86      0.91       150\n",
            "          33       0.94      0.90      0.92       133\n",
            "          34       0.99      0.94      0.97       163\n",
            "          35       0.93      0.96      0.95       163\n",
            "          36       0.99      0.98      0.99       150\n",
            "          37       0.96      0.90      0.93       147\n",
            "          38       0.87      0.89      0.88       136\n",
            "          39       0.93      1.00      0.96       153\n",
            "          40       0.97      0.98      0.98       151\n",
            "          41       0.93      0.97      0.95       145\n",
            "          42       0.99      0.97      0.98       158\n",
            "          43       0.90      0.88      0.89       157\n",
            "          44       0.90      0.95      0.93       146\n",
            "          45       0.84      0.92      0.88       140\n",
            "          46       0.99      0.99      0.99       139\n",
            "\n",
            "    accuracy                           0.95      7050\n",
            "   macro avg       0.95      0.95      0.95      7050\n",
            "weighted avg       0.95      0.95      0.95      7050\n",
            "\n"
          ]
        }
      ]
    },
    {
      "cell_type": "code",
      "source": [],
      "metadata": {
        "id": "lBGKPwKMfGHb"
      },
      "execution_count": 41,
      "outputs": []
    }
  ]
}